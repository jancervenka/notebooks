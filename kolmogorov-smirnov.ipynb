{
 "cells": [
  {
   "cell_type": "code",
   "execution_count": 71,
   "id": "2d208ae2-5439-4173-8c25-2565646348e4",
   "metadata": {},
   "outputs": [],
   "source": [
    "import numpy as np\n",
    "import matplotlib.pyplot as plt\n",
    "import scipy.stats as st\n",
    "\n",
    "%matplotlib inline"
   ]
  },
  {
   "cell_type": "markdown",
   "id": "43ef3304-5f38-433e-a5b6-a90e29bb5249",
   "metadata": {},
   "source": [
    "* https://en.wikipedia.org/wiki/Kolmogorov%E2%80%93Smirnov_test\n",
    "* https://docs.scipy.org/doc/scipy/reference/generated/scipy.stats.kstwo.html\n",
    "* https://docs.scipy.org/doc/scipy/reference/generated/scipy.stats.kstest.html\n",
    "* https://docs.scipy.org/doc/scipy/reference/generated/scipy.stats.ks_2samp.html#id1\n",
    "* https://docs.scipy.org/doc/scipy/reference/generated/scipy.stats.kstwobign.html\n",
    "* https://docs.scipy.org/doc/scipy/reference/generated/scipy.special.kolmogorov.html"
   ]
  },
  {
   "cell_type": "markdown",
   "id": "38a98dcd-3b83-4bcf-ad75-4a05e2d9740d",
   "metadata": {},
   "source": [
    "## Kolmogorov-Smirnov Test"
   ]
  },
  {
   "cell_type": "markdown",
   "id": "33ab90b8-f596-451d-bac0-049d46d8dfd4",
   "metadata": {},
   "source": [
    "Empirical CDF $F_n(x)$ computed using $n$ sample observation $X_1, X_2,\\dots, X_n$ is defined as \n",
    "\n",
    "$$\n",
    "F_n(x) = \\frac{1}{n}\\sum_{i=1}^{n}\\mathbb{1}_{X_i \\leq x}\n",
    "$$\n",
    "\n",
    "where $\\mathbb{1}_{X_i \\leq x}$ is an indicator function that is equal to 1 for $X_i \\leq x$ and 0 otherwise."
   ]
  },
  {
   "cell_type": "markdown",
   "id": "afbd6b86-2f2f-4638-a979-2e2f1805fef5",
   "metadata": {},
   "source": [
    "## One-Sample KS Test\n",
    "\n",
    "One sample KS test can be used to compare a sample with a reference distribution. Is the sample drawn from the reference disribution? The test statistic $D_n$ is defined as\n",
    "\n",
    "$$\n",
    "D_n = \\sup_x|F_n(x) - F(x)|\n",
    "$$\n",
    "\n",
    "where $F_n(x)$ is the emprical CDF of the sample and $F(x)$ is the reference CDF. $\\sup$ is the supremum of the set of distances (intuitively the largest absolute difference)."
   ]
  },
  {
   "cell_type": "code",
   "execution_count": 117,
   "id": "db82bd03-1f9f-465f-9792-0ff72de6dd8d",
   "metadata": {},
   "outputs": [],
   "source": [
    "def empirical_cdf_factory(sample):\n",
    "    def empirical_cdf(x):\n",
    "        return (1 / len(sample)) * sum([int(X_i < x) for X_i in sample])\n",
    "    \n",
    "    return np.vectorize(empirical_cdf)\n",
    "  \n",
    "np.random.seed(0)\n",
    "sample = np.random.randn(100) + 6\n",
    "empirical_cdf = empirical_cdf_factory(sample)\n",
    "cdf = st.norm(loc=6, scale=1).cdf"
   ]
  },
  {
   "cell_type": "code",
   "execution_count": 70,
   "id": "58195f26-c258-4e4f-a1a2-fc5d72b98008",
   "metadata": {},
   "outputs": [
    {
     "data": {
      "image/png": "[encoded data removed]",
      "text/plain": [
       "<Figure size 576x288 with 1 Axes>"
      ]
     },
     "metadata": {
      "needs_background": "light"
     },
     "output_type": "display_data"
    }
   ],
   "source": [
    "x = np.linspace(2, 9, 50)\n",
    "    \n",
    "fig, ax = plt.subplots(1, 1, figsize=(8, 4))\n",
    "ax.plot(x, cdf(x), \"b\", label=\"reference CDF\")\n",
    "ax.step(x, empirical_cdf(x), \"r-.\", label=\"empirical CDF\")\n",
    "ax.set_xlabel(\"$x$\")\n",
    "ax.set_ylabel(\"$F(x)\")\n",
    "ax.set_title(\"Empirical CDF vs the Reference\")\n",
    "plt.legend()\n",
    "plt.show()"
   ]
  },
  {
   "cell_type": "code",
   "execution_count": 125,
   "id": "e9cf677d-8aae-4c65-b577-3dcf9c5ea433",
   "metadata": {},
   "outputs": [],
   "source": [
    "def ks_stat(cdf_1, cdf_2, x):\n",
    "    return np.abs(cdf_1(x) - cdf_2(x)).max()"
   ]
  },
  {
   "cell_type": "code",
   "execution_count": 133,
   "id": "b3f43993-b5f6-4af0-9e36-c6013f8bda70",
   "metadata": {},
   "outputs": [
    {
     "name": "stdout",
     "output_type": "stream",
     "text": [
      "0.05824863872383251\n"
     ]
    }
   ],
   "source": [
    "# under the null hypothesis that the sample comes from the reference distribution,\n",
    "# sqrt(n) * D_n statisic follows kolmogorov distribution\n",
    "\n",
    "D_n = ks_stat(cdf, empirical_cdf, sample)\n",
    "print(D_n)"
   ]
  },
  {
   "cell_type": "code",
   "execution_count": 119,
   "id": "ea24c49e-f044-40a2-b11e-2440dc94aec4",
   "metadata": {},
   "outputs": [
    {
     "data": {
      "text/plain": [
       "0.8667717341286234"
      ]
     },
     "execution_count": 119,
     "metadata": {},
     "output_type": "execute_result"
    }
   ],
   "source": [
    "# KS two-sided test statistic distribution for finite sample size n\n",
    "1 - st.kstwo.cdf(D_n, len(sample))"
   ]
  },
  {
   "cell_type": "code",
   "execution_count": 120,
   "id": "5ead5940-0b66-4ee8-822b-192251cf26c0",
   "metadata": {},
   "outputs": [
    {
     "data": {
      "text/plain": [
       "0.8865884365301926"
      ]
     },
     "execution_count": 120,
     "metadata": {},
     "output_type": "execute_result"
    }
   ],
   "source": [
    "1 - st.kstwobign.cdf(np.sqrt(len(sample)) * D_n)"
   ]
  },
  {
   "cell_type": "code",
   "execution_count": 121,
   "id": "2b1c1e99-db37-4fb7-a5ec-0b467d13bd56",
   "metadata": {},
   "outputs": [
    {
     "data": {
      "text/plain": [
       "KstestResult(statistic=0.05824863872383251, pvalue=0.8667717341286234)"
      ]
     },
     "execution_count": 121,
     "metadata": {},
     "output_type": "execute_result"
    }
   ],
   "source": [
    "st.kstest(sample, cdf, alternative=\"two-sided\")"
   ]
  },
  {
   "cell_type": "markdown",
   "id": "af46f95f-22b1-402f-ad3c-5e98cebf7f39",
   "metadata": {},
   "source": [
    "## Two-Sample KS Test\n",
    "\n",
    "Two-sample KS Test is used to compare two samples using their empirical CDFs. Are both samples drawn from the same\n",
    "unknown distribution?\n",
    "\n",
    "The statistic is defined as\n",
    "\n",
    "$$\n",
    "D_{n,m} = \\sup_x|F_n(x) - F_m(x)|\n",
    "$$\n",
    "\n",
    "where $F_n(x)$ and $F_(m)$ are the empirical CDFs of the first and second sample respectively."
   ]
  },
  {
   "cell_type": "code",
   "execution_count": 135,
   "id": "22a905cc-4185-49dc-9010-1cfcbbf03cbc",
   "metadata": {},
   "outputs": [],
   "source": [
    "sample_1 = np.random.randn(100) + 6\n",
    "sample_2 = np.random.randn(100) + 6\n",
    "\n",
    "empirical_cdf_n = empirical_cdf_factory(sample_1)\n",
    "empirical_cdf_m = empirical_cdf_factory(sample_2)"
   ]
  },
  {
   "cell_type": "code",
   "execution_count": 166,
   "id": "1a061d0f-5eda-49a9-9386-d433aada0c5f",
   "metadata": {},
   "outputs": [
    {
     "name": "stdout",
     "output_type": "stream",
     "text": [
      "0.10999999999999999\n"
     ]
    }
   ],
   "source": [
    "D_nm = ks_stat(empirical_cdf_n, empirical_cdf_m, sample_1)\n",
    "print(D_nm)"
   ]
  },
  {
   "cell_type": "code",
   "execution_count": 175,
   "id": "50e3216e-7263-4899-9a94-763519af9382",
   "metadata": {},
   "outputs": [
    {
     "data": {
      "text/plain": [
       "0.5439007965907301"
      ]
     },
     "execution_count": 175,
     "metadata": {},
     "output_type": "execute_result"
    }
   ],
   "source": [
    "# https://github.com/scipy/scipy/blob/7f7db53324bc6c9b7e8eac0a42441529da7b8b0c/scipy/stats/_stats_py.py#L7786\n",
    "n = (len(sample_1) * len(sample_2)) / (len(sample_1) + len(sample_2))\n",
    "1 - st.kstwo.cdf(D_nm, n)"
   ]
  },
  {
   "cell_type": "code",
   "execution_count": 174,
   "id": "71ae6028-548a-46d8-a2aa-bd93808a79cc",
   "metadata": {},
   "outputs": [
    {
     "data": {
      "text/plain": [
       "KstestResult(statistic=0.10999999999999999, pvalue=0.5439007965907301)"
      ]
     },
     "execution_count": 174,
     "metadata": {},
     "output_type": "execute_result"
    }
   ],
   "source": [
    "# st.ks_2samp can also be used\n",
    "# asymp, because auto/exact mode is using some strange algorithm\n",
    "st.kstest(sample_1, sample_2, alternative=\"two-sided\", mode=\"asymp\")"
   ]
  },
  {
   "cell_type": "markdown",
   "id": "746ed05e-8948-4b02-af1a-7818cbf27d9d",
   "metadata": {},
   "source": [
    "For large samples, the null hypothesis is rejected at level $\\alpha$ if\n",
    "\n",
    "$$\n",
    "D_{n,m} > \\sqrt{-\\log\\left(\\frac{\\alpha}{2}\\right)\\frac{1 + \\frac{m}{n}}{2m}}\n",
    "$$"
   ]
  },
  {
   "cell_type": "code",
   "execution_count": 177,
   "id": "75f49bf6-a454-408d-888a-0dc4d6494822",
   "metadata": {},
   "outputs": [],
   "source": [
    "def ks_two_sample_ppf(alpha, n, m):\n",
    "    return np.sqrt(-np.log(alpha / 2) * ((1 + m / n) / 2 * m))"
   ]
  },
  {
   "cell_type": "code",
   "execution_count": 178,
   "id": "08939ebd-7a8e-4ace-bc36-40ac5630b43d",
   "metadata": {},
   "outputs": [
    {
     "data": {
      "text/plain": [
       "False"
      ]
     },
     "execution_count": 178,
     "metadata": {},
     "output_type": "execute_result"
    }
   ],
   "source": [
    "D_nm > ks_two_sample_ppf(0.5, 100, 100)"
   ]
  }
 ],
 "metadata": {
  "kernelspec": {
   "display_name": "Python 3 (ipykernel)",
   "language": "python",
   "name": "python3"
  },
  "language_info": {
   "codemirror_mode": {
    "name": "ipython",
    "version": 3
   },
   "file_extension": ".py",
   "mimetype": "text/x-python",
   "name": "python",
   "nbconvert_exporter": "python",
   "pygments_lexer": "ipython3",
   "version": "3.10.0"
  }
 },
 "nbformat": 4,
 "nbformat_minor": 5
}
