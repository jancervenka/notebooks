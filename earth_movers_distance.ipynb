{
 "cells": [
  {
   "cell_type": "code",
   "execution_count": 5,
   "metadata": {},
   "outputs": [],
   "source": [
    "import numpy as np\n",
    "import networkx as nx\n",
    "from itertools import product\n",
    "from scipy.spatial.distance import cdist"
   ]
  },
  {
   "cell_type": "markdown",
   "metadata": {},
   "source": [
    "### Earth Mover's Distance\n",
    "https://en.wikipedia.org/wiki/Earth_mover%27s_distance"
   ]
  },
  {
   "cell_type": "code",
   "execution_count": 114,
   "metadata": {},
   "outputs": [],
   "source": [
    "def emd(P, Q, W_P, W_Q):\n",
    "     \n",
    "    D = cdist(P, Q)\n",
    "    \n",
    "    G = nx.DiGraph()\n",
    "    \n",
    "    assert Q.shape[0] == W_Q.shape[0]\n",
    "    assert P.shape[0] == W_Q.shape[0]\n",
    "    assert np.sum(W_Q) == np.sum(W_P)\n",
    "\n",
    "    suppliers = [(f'p_{i}', {'demand': -w_p}) for i, w_p in enumerate(W_P)]\n",
    "    consumers = [(f'q_{i}', {'demand': w_q}) for i, w_q in enumerate(W_Q)]\n",
    "\n",
    "    G.add_nodes_from(suppliers)\n",
    "    G.add_nodes_from(consumers)\n",
    "\n",
    "    ij_pairs = product(range(n), range(m))\n",
    "    edges = [(f'p_{i}', f'q_{j}', D[i][j]) for i, j in ij_pairs]\n",
    "        \n",
    "    G.add_weighted_edges_from(edges)\n",
    "    \n",
    "    total_flow_cost, flows = nx.network_simplex(G)\n",
    "    \n",
    "    flows = [v for k, v in flows.items() if k[0] == 'p']\n",
    "    total_flow = sum(sum(x.values()) for x in flows)\n",
    "    \n",
    "    return total_flow_cost / total_flow    "
   ]
  },
  {
   "cell_type": "code",
   "execution_count": 117,
   "metadata": {},
   "outputs": [],
   "source": [
    "P = np.random.rand(3, 2)\n",
    "# Q = np.random.rand(3, 2)\n",
    "\n",
    "Q = P\n",
    "\n",
    "W_P = np.ones(P.shape[0])\n",
    "W_Q = np.ones(Q.shape[0])"
   ]
  },
  {
   "cell_type": "code",
   "execution_count": 118,
   "metadata": {},
   "outputs": [
    {
     "data": {
      "text/plain": [
       "0.0"
      ]
     },
     "execution_count": 118,
     "metadata": {},
     "output_type": "execute_result"
    }
   ],
   "source": [
    "emd(Q, P, W_P, W_Q)"
   ]
  }
 ],
 "metadata": {
  "kernelspec": {
   "display_name": "Python 3",
   "language": "python",
   "name": "python3"
  },
  "language_info": {
   "codemirror_mode": {
    "name": "ipython",
    "version": 3
   },
   "file_extension": ".py",
   "mimetype": "text/x-python",
   "name": "python",
   "nbconvert_exporter": "python",
   "pygments_lexer": "ipython3",
   "version": "3.7.5"
  }
 },
 "nbformat": 4,
 "nbformat_minor": 4
}
