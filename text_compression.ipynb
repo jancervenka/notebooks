{
 "cells": [
  {
   "cell_type": "code",
   "execution_count": 85,
   "metadata": {},
   "outputs": [],
   "source": [
    "import gzip\n",
    "import nltk\n",
    "import string\n",
    "import random\n",
    "import numpy as np\n",
    "import pandas as pd"
   ]
  },
  {
   "cell_type": "code",
   "execution_count": 41,
   "metadata": {},
   "outputs": [],
   "source": [
    "written_english = ' '.join(nltk.corpus.gutenberg.words('austen-emma.txt')).encode('utf8')\n",
    "written_english_compressed = gzip.compress(written_english)\n",
    "written_english_ratio = len(written_english_compressed) / len(written_english)"
   ]
  },
  {
   "cell_type": "code",
   "execution_count": 78,
   "metadata": {},
   "outputs": [],
   "source": [
    "sample_length = len(written_english)\n",
    "simple_pattern = ('ABCDEFGHJ' * (sample_length // 4)).encode('utf8')\n",
    "simple_pattern_compressed = gzip.compress(simple_pattern)\n",
    "simple_pattern_ratio = len(simple_pattern_compressed) / len(simple_pattern)"
   ]
  },
  {
   "cell_type": "code",
   "execution_count": 80,
   "metadata": {},
   "outputs": [],
   "source": [
    "random_uniform = ''.join(map(str, np.random.randint(0, 10, sample_length).tolist())).encode('utf8')\n",
    "random_uniform_compressed = gzip.compress(random_uniform)\n",
    "random_uniform_ratio = len(random_uniform_compressed) / len(random_uniform)"
   ]
  },
  {
   "cell_type": "code",
   "execution_count": 87,
   "metadata": {},
   "outputs": [
    {
     "data": {
      "text/html": [
       "<div>\n",
       "<style scoped>\n",
       "    .dataframe tbody tr th:only-of-type {\n",
       "        vertical-align: middle;\n",
       "    }\n",
       "\n",
       "    .dataframe tbody tr th {\n",
       "        vertical-align: top;\n",
       "    }\n",
       "\n",
       "    .dataframe thead th {\n",
       "        text-align: right;\n",
       "    }\n",
       "</style>\n",
       "<table border=\"1\" class=\"dataframe\">\n",
       "  <thead>\n",
       "    <tr style=\"text-align: right;\">\n",
       "      <th></th>\n",
       "      <th>text</th>\n",
       "      <th>compression_ratio</th>\n",
       "    </tr>\n",
       "  </thead>\n",
       "  <tbody>\n",
       "    <tr>\n",
       "      <th>0</th>\n",
       "      <td>simple_pattern</td>\n",
       "      <td>0.001959</td>\n",
       "    </tr>\n",
       "    <tr>\n",
       "      <th>1</th>\n",
       "      <td>written_english</td>\n",
       "      <td>0.343703</td>\n",
       "    </tr>\n",
       "    <tr>\n",
       "      <th>2</th>\n",
       "      <td>random_uniform</td>\n",
       "      <td>0.470616</td>\n",
       "    </tr>\n",
       "  </tbody>\n",
       "</table>\n",
       "</div>"
      ],
      "text/plain": [
       "              text  compression_ratio\n",
       "0   simple_pattern           0.001959\n",
       "1  written_english           0.343703\n",
       "2   random_uniform           0.470616"
      ]
     },
     "execution_count": 87,
     "metadata": {},
     "output_type": "execute_result"
    }
   ],
   "source": [
    "pd.DataFrame({'text': ['simple_pattern', 'written_english', 'random_uniform'], \n",
    "              'compression_ratio': [simple_pattern_ratio, written_english_ratio, random_uniform_ratio]})"
   ]
  }
 ],
 "metadata": {
  "kernelspec": {
   "display_name": "Python 3",
   "language": "python",
   "name": "python3"
  },
  "language_info": {
   "codemirror_mode": {
    "name": "ipython",
    "version": 3
   },
   "file_extension": ".py",
   "mimetype": "text/x-python",
   "name": "python",
   "nbconvert_exporter": "python",
   "pygments_lexer": "ipython3",
   "version": "3.7.0"
  }
 },
 "nbformat": 4,
 "nbformat_minor": 2
}
