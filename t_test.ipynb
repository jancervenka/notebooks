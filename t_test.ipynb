{
 "cells": [
  {
   "cell_type": "code",
   "execution_count": 1,
   "metadata": {},
   "outputs": [],
   "source": [
    "import numpy as np\n",
    "import pandas as pd\n",
    "from scipy import stats"
   ]
  },
  {
   "cell_type": "markdown",
   "metadata": {},
   "source": [
    "## Paired T-test"
   ]
  },
  {
   "cell_type": "markdown",
   "metadata": {},
   "source": [
    "There is a hypothesis that attending a learning module changes exam results (increases or decreases)."
   ]
  },
  {
   "cell_type": "code",
   "execution_count": 2,
   "metadata": {},
   "outputs": [
    {
     "data": {
      "text/html": [
       "<div>\n",
       "<style scoped>\n",
       "    .dataframe tbody tr th:only-of-type {\n",
       "        vertical-align: middle;\n",
       "    }\n",
       "\n",
       "    .dataframe tbody tr th {\n",
       "        vertical-align: top;\n",
       "    }\n",
       "\n",
       "    .dataframe thead th {\n",
       "        text-align: right;\n",
       "    }\n",
       "</style>\n",
       "<table border=\"1\" class=\"dataframe\">\n",
       "  <thead>\n",
       "    <tr style=\"text-align: right;\">\n",
       "      <th></th>\n",
       "      <th>student</th>\n",
       "      <th>score_before</th>\n",
       "      <th>score_after</th>\n",
       "      <th>diff</th>\n",
       "    </tr>\n",
       "  </thead>\n",
       "  <tbody>\n",
       "    <tr>\n",
       "      <th>0</th>\n",
       "      <td>1</td>\n",
       "      <td>18</td>\n",
       "      <td>22</td>\n",
       "      <td>4</td>\n",
       "    </tr>\n",
       "    <tr>\n",
       "      <th>1</th>\n",
       "      <td>2</td>\n",
       "      <td>21</td>\n",
       "      <td>25</td>\n",
       "      <td>4</td>\n",
       "    </tr>\n",
       "    <tr>\n",
       "      <th>2</th>\n",
       "      <td>3</td>\n",
       "      <td>16</td>\n",
       "      <td>17</td>\n",
       "      <td>1</td>\n",
       "    </tr>\n",
       "    <tr>\n",
       "      <th>3</th>\n",
       "      <td>4</td>\n",
       "      <td>22</td>\n",
       "      <td>24</td>\n",
       "      <td>2</td>\n",
       "    </tr>\n",
       "    <tr>\n",
       "      <th>4</th>\n",
       "      <td>5</td>\n",
       "      <td>19</td>\n",
       "      <td>16</td>\n",
       "      <td>-3</td>\n",
       "    </tr>\n",
       "    <tr>\n",
       "      <th>5</th>\n",
       "      <td>6</td>\n",
       "      <td>24</td>\n",
       "      <td>29</td>\n",
       "      <td>5</td>\n",
       "    </tr>\n",
       "    <tr>\n",
       "      <th>6</th>\n",
       "      <td>7</td>\n",
       "      <td>17</td>\n",
       "      <td>20</td>\n",
       "      <td>3</td>\n",
       "    </tr>\n",
       "    <tr>\n",
       "      <th>7</th>\n",
       "      <td>8</td>\n",
       "      <td>21</td>\n",
       "      <td>23</td>\n",
       "      <td>2</td>\n",
       "    </tr>\n",
       "    <tr>\n",
       "      <th>8</th>\n",
       "      <td>9</td>\n",
       "      <td>23</td>\n",
       "      <td>19</td>\n",
       "      <td>-4</td>\n",
       "    </tr>\n",
       "    <tr>\n",
       "      <th>9</th>\n",
       "      <td>10</td>\n",
       "      <td>18</td>\n",
       "      <td>20</td>\n",
       "      <td>2</td>\n",
       "    </tr>\n",
       "    <tr>\n",
       "      <th>10</th>\n",
       "      <td>11</td>\n",
       "      <td>14</td>\n",
       "      <td>15</td>\n",
       "      <td>1</td>\n",
       "    </tr>\n",
       "    <tr>\n",
       "      <th>11</th>\n",
       "      <td>12</td>\n",
       "      <td>16</td>\n",
       "      <td>15</td>\n",
       "      <td>-1</td>\n",
       "    </tr>\n",
       "    <tr>\n",
       "      <th>12</th>\n",
       "      <td>13</td>\n",
       "      <td>16</td>\n",
       "      <td>18</td>\n",
       "      <td>2</td>\n",
       "    </tr>\n",
       "    <tr>\n",
       "      <th>13</th>\n",
       "      <td>14</td>\n",
       "      <td>19</td>\n",
       "      <td>26</td>\n",
       "      <td>7</td>\n",
       "    </tr>\n",
       "    <tr>\n",
       "      <th>14</th>\n",
       "      <td>15</td>\n",
       "      <td>18</td>\n",
       "      <td>18</td>\n",
       "      <td>0</td>\n",
       "    </tr>\n",
       "    <tr>\n",
       "      <th>15</th>\n",
       "      <td>16</td>\n",
       "      <td>20</td>\n",
       "      <td>24</td>\n",
       "      <td>4</td>\n",
       "    </tr>\n",
       "    <tr>\n",
       "      <th>16</th>\n",
       "      <td>17</td>\n",
       "      <td>12</td>\n",
       "      <td>18</td>\n",
       "      <td>6</td>\n",
       "    </tr>\n",
       "    <tr>\n",
       "      <th>17</th>\n",
       "      <td>18</td>\n",
       "      <td>22</td>\n",
       "      <td>25</td>\n",
       "      <td>3</td>\n",
       "    </tr>\n",
       "    <tr>\n",
       "      <th>18</th>\n",
       "      <td>19</td>\n",
       "      <td>15</td>\n",
       "      <td>19</td>\n",
       "      <td>4</td>\n",
       "    </tr>\n",
       "    <tr>\n",
       "      <th>19</th>\n",
       "      <td>20</td>\n",
       "      <td>17</td>\n",
       "      <td>16</td>\n",
       "      <td>-1</td>\n",
       "    </tr>\n",
       "  </tbody>\n",
       "</table>\n",
       "</div>"
      ],
      "text/plain": [
       "    student  score_before  score_after  diff\n",
       "0         1            18           22     4\n",
       "1         2            21           25     4\n",
       "2         3            16           17     1\n",
       "3         4            22           24     2\n",
       "4         5            19           16    -3\n",
       "5         6            24           29     5\n",
       "6         7            17           20     3\n",
       "7         8            21           23     2\n",
       "8         9            23           19    -4\n",
       "9        10            18           20     2\n",
       "10       11            14           15     1\n",
       "11       12            16           15    -1\n",
       "12       13            16           18     2\n",
       "13       14            19           26     7\n",
       "14       15            18           18     0\n",
       "15       16            20           24     4\n",
       "16       17            12           18     6\n",
       "17       18            22           25     3\n",
       "18       19            15           19     4\n",
       "19       20            17           16    -1"
      ]
     },
     "execution_count": 2,
     "metadata": {},
     "output_type": "execute_result"
    }
   ],
   "source": [
    "data = [[1, 18, 22],\n",
    "        [2, 21, 25],\n",
    "        [3, 16, 17],\n",
    "        [4, 22, 24],\n",
    "        [5, 19, 16],\n",
    "        [6, 24, 29],\n",
    "        [7, 17, 20],\n",
    "        [8, 21, 23],\n",
    "        [9, 23, 19],\n",
    "        [10, 18, 20],\n",
    "        [11, 14, 15],\n",
    "        [12, 16, 15],\n",
    "        [13, 16, 18],\n",
    "        [14, 19, 26],\n",
    "        [15, 18, 18],\n",
    "        [16, 20, 24],\n",
    "        [17, 12, 18],\n",
    "        [18, 22, 25],\n",
    "        [19, 15, 19],\n",
    "        [20, 17, 16]\n",
    "]\n",
    "\n",
    "data = pd.DataFrame(data, columns =['student', 'score_before', 'score_after'])\n",
    "data['diff'] = data['score_after'] - data['score_before']\n",
    "data"
   ]
  },
  {
   "cell_type": "markdown",
   "metadata": {},
   "source": [
    "The null hypothesis is that the learning module does not change the exam results\n",
    "(distribution of the score differences is zero).\n",
    "\n",
    "$H_0$: $\\mu_0 = 0$\n",
    "\n",
    "$H_1$: $\\mu_0 \\neq 0$ (two-tailed test)"
   ]
  },
  {
   "cell_type": "markdown",
   "metadata": {},
   "source": [
    "The test statistics is defined as\n",
    "\n",
    "$$\n",
    "t = \\frac{\\overline{X}_d - \\mu_0}{\\frac{s_d}{\\sqrt{n}}}\n",
    "$$\n",
    "\n",
    "where $\\overline{X}_d$ and $s_d$ is the mean and\n",
    "standard deviation of the sample score differences.\n",
    "It follows the student's t distribution under the null hypothesis."
   ]
  },
  {
   "cell_type": "code",
   "execution_count": 3,
   "metadata": {},
   "outputs": [],
   "source": [
    "def paired_t_test(diffs, mu_0=0):\n",
    "    diff_std = np.std(diffs, ddof=1)\n",
    "    diff_mean = np.mean(diffs)\n",
    "    n = len(diffs)\n",
    "\n",
    "    return (diff_mean - mu_0) / (diff_std / np.sqrt(n))"
   ]
  },
  {
   "cell_type": "code",
   "execution_count": 4,
   "metadata": {},
   "outputs": [
    {
     "name": "stdout",
     "output_type": "stream",
     "text": [
      "3.2312526655803127\n"
     ]
    }
   ],
   "source": [
    "t = paired_t_test(data['diff'])\n",
    "print(t)"
   ]
  },
  {
   "cell_type": "markdown",
   "metadata": {},
   "source": [
    "The computed statistics is\n",
    "\n",
    "$$\n",
    "t = 3.231\n",
    "$$"
   ]
  },
  {
   "cell_type": "markdown",
   "metadata": {},
   "source": [
    "For the two tailed test, we can compute the test statistics,\n",
    "using the student's t CDF."
   ]
  },
  {
   "cell_type": "code",
   "execution_count": 19,
   "metadata": {},
   "outputs": [
    {
     "name": "stdout",
     "output_type": "stream",
     "text": [
      "0.004394965993185673\n"
     ]
    }
   ],
   "source": [
    "p = 2 * (1 - stats.t.cdf(t, 19))\n",
    "print(p)"
   ]
  },
  {
   "cell_type": "code",
   "execution_count": 17,
   "metadata": {},
   "outputs": [
    {
     "data": {
      "text/plain": [
       "Ttest_relResult(statistic=-3.231252665580312, pvalue=0.004394965993185664)"
      ]
     },
     "execution_count": 17,
     "metadata": {},
     "output_type": "execute_result"
    }
   ],
   "source": [
    "# just to make sure\n",
    "stats.ttest_rel(data['score_before'], data['score_after'], alternative='two-sided')"
   ]
  },
  {
   "cell_type": "markdown",
   "metadata": {},
   "source": [
    "We reject the null hypothesis at $\\alpha = 0.05$ significance level\n",
    "as $p < \\alpha$."
   ]
  },
  {
   "cell_type": "markdown",
   "metadata": {},
   "source": [
    "Let's now consider a right-tailed test where he $H_1$\n",
    "is that the module __improves__ the results.\n",
    "\n",
    "$H_0$: $\\mu_0 = 0$\n",
    "\n",
    "$H_1$: $\\mu_0 > 0$ (right-tailed test)"
   ]
  },
  {
   "cell_type": "code",
   "execution_count": 32,
   "metadata": {},
   "outputs": [
    {
     "name": "stdout",
     "output_type": "stream",
     "text": [
      "0.0021974829965928366\n"
     ]
    }
   ],
   "source": [
    "p = 1 - stats.t.cdf(t, 19)\n",
    "print(p)"
   ]
  },
  {
   "cell_type": "code",
   "execution_count": 31,
   "metadata": {},
   "outputs": [
    {
     "data": {
      "text/plain": [
       "Ttest_relResult(statistic=3.231252665580312, pvalue=0.002197482996592832)"
      ]
     },
     "execution_count": 31,
     "metadata": {},
     "output_type": "execute_result"
    }
   ],
   "source": [
    "stats.ttest_rel(data['score_after'], data['score_before'], alternative='greater')"
   ]
  },
  {
   "cell_type": "markdown",
   "metadata": {},
   "source": [
    "We again reject the null hypothesis at $\\alpha = 0.05$ significance level\n",
    "as $p < \\alpha$."
   ]
  },
  {
   "cell_type": "markdown",
   "metadata": {},
   "source": [
    "## T-test"
   ]
  },
  {
   "cell_type": "markdown",
   "metadata": {},
   "source": [
    "We have two sets of measurements. The null hypothesis is that both\n",
    "sets come from populations with equal means.\n",
    "The indivudual measurements are not paired between\n",
    "the two sets as in the paired test. The sets can contain different number\n",
    "of measurements."
   ]
  },
  {
   "cell_type": "code",
   "execution_count": 35,
   "metadata": {},
   "outputs": [],
   "source": [
    "X_a = [30.02, 29.99, 30.11, 29.97, 30.01, 29.99]\n",
    "X_b = [29.89, 29.93, 29.72, 29.98, 30.02, 29.98]"
   ]
  },
  {
   "cell_type": "markdown",
   "metadata": {},
   "source": [
    "$H_0$: $\\mu_a = \\mu_b$\n",
    "\n",
    "$H_0$: $\\mu_a \\neq \\mu_b$ (two-sided test)"
   ]
  },
  {
   "cell_type": "markdown",
   "metadata": {},
   "source": [
    "The test statistics is\n",
    "\n",
    "$$\n",
    "t = 1.959\n",
    "$$\n",
    "\n",
    "When we assume that the two sets have the same population variance,\n",
    "the number of degrees of freedom of the t distribution is\n",
    "\n",
    "$$\n",
    "d = 10\n",
    "$$"
   ]
  },
  {
   "cell_type": "code",
   "execution_count": 48,
   "metadata": {},
   "outputs": [
    {
     "name": "stdout",
     "output_type": "stream",
     "text": [
      "0.07856653118709644\n"
     ]
    }
   ],
   "source": [
    "p = 2 * (1 - stats.t.cdf(1.959, 10))\n",
    "print(p)"
   ]
  },
  {
   "cell_type": "code",
   "execution_count": 40,
   "metadata": {},
   "outputs": [
    {
     "data": {
      "text/plain": [
       "Ttest_indResult(statistic=1.9590058081081436, pvalue=0.07856577385723071)"
      ]
     },
     "execution_count": 40,
     "metadata": {},
     "output_type": "execute_result"
    }
   ],
   "source": [
    "stats.ttest_ind(X_a, X_b, alternative='two-sided', equal_var=True)"
   ]
  },
  {
   "cell_type": "markdown",
   "metadata": {},
   "source": [
    "When we assume that the two sets have the unequal population variance,\n",
    "the number of degrees of freedem of the t distribution is\n",
    "\n",
    "$$\n",
    "d \\approx 7.031\n",
    "$$"
   ]
  },
  {
   "cell_type": "code",
   "execution_count": 49,
   "metadata": {},
   "outputs": [
    {
     "name": "stdout",
     "output_type": "stream",
     "text": [
      "0.09077152899736807\n"
     ]
    }
   ],
   "source": [
    "p = 2 * (1 - stats.t.cdf(1.959, 7.031))\n",
    "print(p)"
   ]
  },
  {
   "cell_type": "code",
   "execution_count": 50,
   "metadata": {},
   "outputs": [
    {
     "data": {
      "text/plain": [
       "Ttest_indResult(statistic=1.9590058081081434, pvalue=0.09077332428566114)"
      ]
     },
     "execution_count": 50,
     "metadata": {},
     "output_type": "execute_result"
    }
   ],
   "source": [
    "stats.ttest_ind(X_a, X_b, alternative='two-sided', equal_var=False)"
   ]
  },
  {
   "cell_type": "markdown",
   "metadata": {},
   "source": [
    "We fail reject the null hypothesis at $\\alpha = 0.05$ significance level\n",
    "as $p < \\alpha$."
   ]
  }
 ],
 "metadata": {
  "kernelspec": {
   "display_name": "Python 3",
   "language": "python",
   "name": "python3"
  },
  "language_info": {
   "codemirror_mode": {
    "name": "ipython",
    "version": 3
   },
   "file_extension": ".py",
   "mimetype": "text/x-python",
   "name": "python",
   "nbconvert_exporter": "python",
   "pygments_lexer": "ipython3",
   "version": "3.8.6"
  }
 },
 "nbformat": 4,
 "nbformat_minor": 4
}
