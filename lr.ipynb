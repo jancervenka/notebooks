{
 "cells": [
  {
   "cell_type": "code",
   "execution_count": 82,
   "id": "pending-biodiversity",
   "metadata": {},
   "outputs": [],
   "source": [
    "import numpy as np\n",
    "import matplotlib.pyplot as plt\n",
    "from sklearn.linear_model import LogisticRegression\n",
    "from sklearn.datasets import make_blobs, make_classification\n",
    "\n",
    "%matplotlib inline"
   ]
  },
  {
   "cell_type": "code",
   "execution_count": 226,
   "id": "induced-chest",
   "metadata": {},
   "outputs": [],
   "source": [
    "def softmax(x):\n",
    "    exp_x = np.exp(x)\n",
    "    return exp_x / np.sum(exp_x)\n",
    "\n",
    "\n",
    "def sigmoid(x):\n",
    "    return 1 / (1 + np.exp(-x))\n",
    "\n",
    "\n",
    "class MyLR(LogisticRegression):\n",
    "    \n",
    "    def predict_raw(self, X):\n",
    "        return (X @ self.coef_.T) + self.intercept_\n",
    "    \n",
    "    def predict_raw_label(self, X, label=0):\n",
    "        return self.predict_raw(X)[:, label]"
   ]
  },
  {
   "cell_type": "code",
   "execution_count": 187,
   "id": "preceding-hypothetical",
   "metadata": {},
   "outputs": [],
   "source": [
    "def plot_regions(X, y, clf):\n",
    "    n = len(clf.intercept_)\n",
    "    x_min, y_min = X.min(axis=0).round() - 0.5\n",
    "    x_max, y_max = X.max(axis=0).round() + 0.5\n",
    "    xx, yy = np.meshgrid(np.arange(x_min, x_max, 0.05),\n",
    "                         np.arange(y_min, y_max, 0.05))\n",
    "    \n",
    "    fig, ax = plt.subplots(1, n, figsize=(12, 4))\n",
    "    \n",
    "    markers = ['o', '*', '+']\n",
    "    \n",
    "    for i in range(n):\n",
    "        Z = clf.predict_raw_label(np.c_[xx.ravel(), yy.ravel()], label=i)\n",
    "        Z = Z.reshape(xx.shape)\n",
    "        Z = (Z > 0).astype('float32')\n",
    "        \n",
    "        ax[i].contourf(xx, yy, Z, alpha=0.4, cmap='gray')\n",
    "        for j, marker in enumerate(markers):\n",
    "            mask = y == j\n",
    "            ax[i].scatter(\n",
    "                X[mask, 0], X[mask, 1], s=40, c='black', marker=marker\n",
    "            )\n",
    "        \n",
    "        ax[i].set_title(f'Boundary for label={i}')\n",
    "    \n",
    "    plt.show()"
   ]
  },
  {
   "cell_type": "code",
   "execution_count": 188,
   "id": "wrong-resolution",
   "metadata": {},
   "outputs": [
    {
     "data": {
      "text/plain": [
       "MyLR()"
      ]
     },
     "execution_count": 188,
     "metadata": {},
     "output_type": "execute_result"
    }
   ],
   "source": [
    "np.random.seed(0)\n",
    "\n",
    "X, y = make_blobs(\n",
    "    n_samples=100,\n",
    "    n_features=2,\n",
    "    centers=3,\n",
    "    cluster_std=0.5\n",
    ")\n",
    "\n",
    "model = MyLR()\n",
    "model.fit(X, y)"
   ]
  },
  {
   "cell_type": "code",
   "execution_count": 189,
   "id": "included-vegetarian",
   "metadata": {},
   "outputs": [
    {
     "data": {
      "image/png": "[encoded data removed]",
      "text/plain": [
       "<Figure size 864x288 with 3 Axes>"
      ]
     },
     "metadata": {
      "needs_background": "light"
     },
     "output_type": "display_data"
    }
   ],
   "source": [
    "# white regions, prediction larger than 0\n",
    "# grey regions, prediction smaller than 0\n",
    "plot_regions(X, y, model)"
   ]
  },
  {
   "cell_type": "code",
   "execution_count": 88,
   "id": "cellular-basement",
   "metadata": {},
   "outputs": [
    {
     "data": {
      "text/plain": [
       "array([[2.25486337e-03, 9.96863594e-01, 8.81542938e-04]])"
      ]
     },
     "execution_count": 88,
     "metadata": {},
     "output_type": "execute_result"
    }
   ],
   "source": [
    "model.predict_proba(X[0:1, :])"
   ]
  },
  {
   "cell_type": "code",
   "execution_count": 89,
   "id": "agricultural-lawsuit",
   "metadata": {},
   "outputs": [
    {
     "data": {
      "text/plain": [
       "array([[2.25486337e-03, 9.96863594e-01, 8.81542938e-04]])"
      ]
     },
     "execution_count": 89,
     "metadata": {},
     "output_type": "execute_result"
    }
   ],
   "source": [
    "softmax(model.predict_raw(X[0:1, :]))"
   ]
  },
  {
   "cell_type": "code",
   "execution_count": 91,
   "id": "guided-israel",
   "metadata": {},
   "outputs": [
    {
     "data": {
      "text/plain": [
       "array([-1.71745121])"
      ]
     },
     "execution_count": 91,
     "metadata": {},
     "output_type": "execute_result"
    }
   ],
   "source": [
    "model.predict_raw_label(X[0:1, :], label=0)"
   ]
  },
  {
   "cell_type": "code",
   "execution_count": 92,
   "id": "chronic-bibliography",
   "metadata": {},
   "outputs": [
    {
     "data": {
      "text/plain": [
       "array([[-1.71745121,  4.37407336, -2.65662215]])"
      ]
     },
     "execution_count": 92,
     "metadata": {},
     "output_type": "execute_result"
    }
   ],
   "source": [
    "model.predict_raw(X[0:1, :])"
   ]
  }
 ],
 "metadata": {
  "kernelspec": {
   "display_name": "Python 3",
   "language": "python",
   "name": "python3"
  },
  "language_info": {
   "codemirror_mode": {
    "name": "ipython",
    "version": 3
   },
   "file_extension": ".py",
   "mimetype": "text/x-python",
   "name": "python",
   "nbconvert_exporter": "python",
   "pygments_lexer": "ipython3",
   "version": "3.9.2"
  }
 },
 "nbformat": 4,
 "nbformat_minor": 5
}
