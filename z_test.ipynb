{
 "cells": [
  {
   "cell_type": "code",
   "execution_count": 8,
   "metadata": {},
   "outputs": [],
   "source": [
    "import numpy as np\n",
    "from scipy.stats import norm"
   ]
  },
  {
   "cell_type": "markdown",
   "metadata": {},
   "source": [
    "## Z-test"
   ]
  },
  {
   "cell_type": "markdown",
   "metadata": {},
   "source": [
    "Reported average credit card debt for college students is $\\mu=3262$.\n",
    "Survey of $n=50$ students found their average debt as $\\overline{X}=2995$.\n",
    "Population standard deviation is $\\sigma = 1100$.\n",
    "\n",
    "\n",
    "$H_0$: $\\mu = 3262$\n",
    "\n",
    "$H_1$: $\\mu < 2995$ (left-tailed z-test)\n",
    "\n",
    "The test statistics $z$ is\n",
    "\n",
    "$$\n",
    "z = \\frac{\\overline{X} - \\mu}{\\frac{\\sigma}{\\sqrt{n}}}\n",
    "$$\n",
    "\n",
    "and follows the normal distribution under the null hypothesis."
   ]
  },
  {
   "cell_type": "code",
   "execution_count": 6,
   "metadata": {},
   "outputs": [],
   "source": [
    "def z_test(mean_x, mu, sigma, n):\n",
    "    return (mean_x - mu) / (sigma / np.sqrt(n)) "
   ]
  },
  {
   "cell_type": "code",
   "execution_count": 14,
   "metadata": {},
   "outputs": [
    {
     "name": "stdout",
     "output_type": "stream",
     "text": [
      "-1.7163410052437107\n"
     ]
    }
   ],
   "source": [
    "z = z_test(mean_x=2995, mu=3262, sigma=1100, n=50)\n",
    "print(z)"
   ]
  },
  {
   "cell_type": "markdown",
   "metadata": {},
   "source": [
    "Our test statistics is\n",
    "\n",
    "$$\n",
    "z = -1.7163\n",
    "$$"
   ]
  },
  {
   "cell_type": "markdown",
   "metadata": {},
   "source": [
    "## Using Critical Values"
   ]
  },
  {
   "cell_type": "markdown",
   "metadata": {},
   "source": [
    "With a chosen significance level $\\alpha = 0.05$,\n",
    "we want to find a critical region $[-\\infty, c]$ (left-tailed test) such that\n",
    "\n",
    "$$\n",
    "\\int_{-\\infty}^{c}p(x)\\mathrm{d}x = \\alpha = 0.05\n",
    "$$\n",
    "\n",
    "where $p(x)$ is a $\\mathcal{N}(0, 1)$ probability density function.\n",
    "We can find the critical value $c$ defining the region using \n",
    "the inverse of the normal CDF (cumulative density function)."
   ]
  },
  {
   "cell_type": "code",
   "execution_count": 12,
   "metadata": {},
   "outputs": [
    {
     "name": "stdout",
     "output_type": "stream",
     "text": [
      "-1.6448536269514729 0.049999999999999975\n"
     ]
    }
   ],
   "source": [
    "# ppf is cdf inverse\n",
    "c = norm.ppf(0.05)\n",
    "\n",
    "# just to be sure\n",
    "print(c, norm.cdf(c))"
   ]
  },
  {
   "cell_type": "markdown",
   "metadata": {},
   "source": [
    "With $z = -1.7163$ and $c = -1.6445$, __we reject the null hypothesis__ as\n",
    "$z < c$ at $\\alpha = 0.05$ significance level."
   ]
  },
  {
   "cell_type": "markdown",
   "metadata": {},
   "source": [
    "## Using p-values"
   ]
  },
  {
   "cell_type": "markdown",
   "metadata": {},
   "source": [
    "The p-value for our statistics can be found using the CDF."
   ]
  },
  {
   "cell_type": "code",
   "execution_count": 20,
   "metadata": {},
   "outputs": [
    {
     "name": "stdout",
     "output_type": "stream",
     "text": [
      "0.04304982368670932\n"
     ]
    }
   ],
   "source": [
    "p = norm.cdf(z)\n",
    "print(p)"
   ]
  },
  {
   "cell_type": "markdown",
   "metadata": {},
   "source": [
    "We reject the null hypothesis as $p < \\alpha$\n",
    "at $\\alpha = 0.05$ significance level."
   ]
  }
 ],
 "metadata": {
  "kernelspec": {
   "display_name": "Python 3",
   "language": "python",
   "name": "python3"
  },
  "language_info": {
   "codemirror_mode": {
    "name": "ipython",
    "version": 3
   },
   "file_extension": ".py",
   "mimetype": "text/x-python",
   "name": "python",
   "nbconvert_exporter": "python",
   "pygments_lexer": "ipython3",
   "version": "3.8.6"
  }
 },
 "nbformat": 4,
 "nbformat_minor": 4
}
