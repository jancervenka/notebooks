{
 "cells": [
  {
   "cell_type": "code",
   "execution_count": 1,
   "id": "8731f9fc",
   "metadata": {
    "_cell_guid": "b1076dfc-b9ad-4769-8c92-a6c4dae69d19",
    "_uuid": "8f2839f25d086af736a60e9eeb907d3b93b6e0e5",
    "execution": {
     "iopub.execute_input": "2022-06-07T21:58:58.606102Z",
     "iopub.status.busy": "2022-06-07T21:58:58.605130Z",
     "iopub.status.idle": "2022-06-07T21:59:00.164322Z",
     "shell.execute_reply": "2022-06-07T21:59:00.163055Z"
    },
    "papermill": {
     "duration": 1.568458,
     "end_time": "2022-06-07T21:59:00.167938",
     "exception": false,
     "start_time": "2022-06-07T21:58:58.599480",
     "status": "completed"
    },
    "tags": []
   },
   "outputs": [],
   "source": [
    "import numpy as np\n",
    "import pandas as pd\n",
    "\n",
    "from xgboost import XGBClassifier\n",
    "from sklearn.model_selection import train_test_split\n",
    "from sklearn.ensemble import GradientBoostingClassifier, RandomForestClassifier\n",
    "from sklearn.linear_model import SGDClassifier\n",
    "from sklearn.metrics import classification_report\n",
    "from sklearn.preprocessing import StandardScaler\n",
    "from sklearn.pipeline import Pipeline\n",
    "from sklearn.decomposition import PCA\n",
    "\n",
    "\n",
    "np.random.seed(0)"
   ]
  },
  {
   "cell_type": "code",
   "execution_count": 2,
   "id": "c84103f5",
   "metadata": {
    "execution": {
     "iopub.execute_input": "2022-06-07T21:59:00.176623Z",
     "iopub.status.busy": "2022-06-07T21:59:00.176226Z",
     "iopub.status.idle": "2022-06-07T21:59:10.069751Z",
     "shell.execute_reply": "2022-06-07T21:59:10.068818Z"
    },
    "papermill": {
     "duration": 9.900793,
     "end_time": "2022-06-07T21:59:10.072360",
     "exception": false,
     "start_time": "2022-06-07T21:59:00.171567",
     "status": "completed"
    },
    "tags": []
   },
   "outputs": [],
   "source": [
    "train_val = pd.read_csv(\n",
    "    \"/kaggle/input/tabular-playground-series-may-2022/train.csv\"\n",
    ")\n",
    "\n",
    "feature_cols = [\n",
    "    col for col in train_val.columns\n",
    "    if col not in (\"id\", \"target\", \"f_27\")\n",
    "]\n",
    "\n",
    "train, val = train_test_split(train_val)\n",
    "\n",
    "X_train, X_val = train[feature_cols], val[feature_cols]\n",
    "y_train, y_val = train[\"target\"], val[\"target\"]"
   ]
  },
  {
   "cell_type": "code",
   "execution_count": 3,
   "id": "c134935b",
   "metadata": {
    "execution": {
     "iopub.execute_input": "2022-06-07T21:59:10.080541Z",
     "iopub.status.busy": "2022-06-07T21:59:10.080124Z",
     "iopub.status.idle": "2022-06-07T21:59:10.086526Z",
     "shell.execute_reply": "2022-06-07T21:59:10.085389Z"
    },
    "papermill": {
     "duration": 0.013067,
     "end_time": "2022-06-07T21:59:10.088699",
     "exception": false,
     "start_time": "2022-06-07T21:59:10.075632",
     "status": "completed"
    },
    "tags": []
   },
   "outputs": [],
   "source": [
    "pipeline = Pipeline(\n",
    "    [\n",
    "        (\"scaler\", StandardScaler()),\n",
    "        (\"pca\", PCA(n_components=0.99)),\n",
    "        (\"model\", XGBClassifier(\n",
    "            objective=\"binary:logistic\",\n",
    "            n_estimators=100,\n",
    "            verbosity=1,\n",
    "            ),\n",
    "        ),\n",
    "    ],\n",
    "    verbose=1,\n",
    ")"
   ]
  },
  {
   "cell_type": "code",
   "execution_count": 4,
   "id": "8647c0e2",
   "metadata": {
    "execution": {
     "iopub.execute_input": "2022-06-07T21:59:10.097314Z",
     "iopub.status.busy": "2022-06-07T21:59:10.096540Z",
     "iopub.status.idle": "2022-06-07T22:03:50.664980Z",
     "shell.execute_reply": "2022-06-07T22:03:50.663904Z"
    },
    "papermill": {
     "duration": 280.579454,
     "end_time": "2022-06-07T22:03:50.671363",
     "exception": false,
     "start_time": "2022-06-07T21:59:10.091909",
     "status": "completed"
    },
    "tags": []
   },
   "outputs": [
    {
     "name": "stdout",
     "output_type": "stream",
     "text": [
      "[Pipeline] ............ (step 1 of 3) Processing scaler, total=   0.4s\n",
      "[Pipeline] ............... (step 2 of 3) Processing pca, total=   1.2s\n",
      "[Pipeline] ............. (step 3 of 3) Processing model, total= 4.6min\n"
     ]
    },
    {
     "data": {
      "text/plain": [
       "Pipeline(steps=[('scaler', StandardScaler()), ('pca', PCA(n_components=0.99)),\n",
       "                ('model',\n",
       "                 XGBClassifier(base_score=0.5, booster='gbtree', callbacks=None,\n",
       "                               colsample_bylevel=1, colsample_bynode=1,\n",
       "                               colsample_bytree=1, early_stopping_rounds=None,\n",
       "                               enable_categorical=False, eval_metric=None,\n",
       "                               gamma=0, gpu_id=-1, grow_policy='depthwise',\n",
       "                               importance_type=None, interaction_constraints='',\n",
       "                               learning_rate=0.300000012, max_bin=256,\n",
       "                               max_cat_to_onehot=4, max_delta_step=0,\n",
       "                               max_depth=6, max_leaves=0, min_child_weight=1,\n",
       "                               missing=nan, monotone_constraints='()',\n",
       "                               n_estimators=100, n_jobs=0, num_parallel_tree=1,\n",
       "                               predictor='auto', random_state=0, reg_alpha=0,\n",
       "                               reg_lambda=1, ...))],\n",
       "         verbose=1)"
      ]
     },
     "execution_count": 4,
     "metadata": {},
     "output_type": "execute_result"
    }
   ],
   "source": [
    "pipeline.fit(X_train, y_train)"
   ]
  },
  {
   "cell_type": "code",
   "execution_count": 5,
   "id": "3f3828dd",
   "metadata": {
    "execution": {
     "iopub.execute_input": "2022-06-07T22:03:50.680384Z",
     "iopub.status.busy": "2022-06-07T22:03:50.679949Z",
     "iopub.status.idle": "2022-06-07T22:03:54.405434Z",
     "shell.execute_reply": "2022-06-07T22:03:54.404162Z"
    },
    "papermill": {
     "duration": 3.73422,
     "end_time": "2022-06-07T22:03:54.409243",
     "exception": false,
     "start_time": "2022-06-07T22:03:50.675023",
     "status": "completed"
    },
    "tags": []
   },
   "outputs": [
    {
     "name": "stdout",
     "output_type": "stream",
     "text": [
      "              precision    recall  f1-score   support\n",
      "\n",
      "           0       0.81      0.83      0.82    346720\n",
      "           1       0.81      0.79      0.80    328280\n",
      "\n",
      "    accuracy                           0.81    675000\n",
      "   macro avg       0.81      0.81      0.81    675000\n",
      "weighted avg       0.81      0.81      0.81    675000\n",
      "\n",
      "              precision    recall  f1-score   support\n",
      "\n",
      "           0       0.80      0.81      0.80    115441\n",
      "           1       0.80      0.78      0.79    109559\n",
      "\n",
      "    accuracy                           0.80    225000\n",
      "   macro avg       0.80      0.80      0.80    225000\n",
      "weighted avg       0.80      0.80      0.80    225000\n",
      "\n"
     ]
    }
   ],
   "source": [
    "for X, y in ((X_train, y_train), (X_val, y_val)):\n",
    "    y_pred = pipeline.predict(X)\n",
    "    print(classification_report(y, y_pred))"
   ]
  },
  {
   "cell_type": "code",
   "execution_count": 6,
   "id": "174927da",
   "metadata": {
    "execution": {
     "iopub.execute_input": "2022-06-07T22:03:54.419678Z",
     "iopub.status.busy": "2022-06-07T22:03:54.419037Z",
     "iopub.status.idle": "2022-06-07T22:04:02.557658Z",
     "shell.execute_reply": "2022-06-07T22:04:02.555332Z"
    },
    "papermill": {
     "duration": 8.151428,
     "end_time": "2022-06-07T22:04:02.565008",
     "exception": false,
     "start_time": "2022-06-07T22:03:54.413580",
     "status": "completed"
    },
    "tags": []
   },
   "outputs": [],
   "source": [
    "test = pd.read_csv(\n",
    "    \"/kaggle/input/tabular-playground-series-may-2022/test.csv\"\n",
    ")"
   ]
  },
  {
   "cell_type": "code",
   "execution_count": 7,
   "id": "aafcb258",
   "metadata": {
    "execution": {
     "iopub.execute_input": "2022-06-07T22:04:02.594681Z",
     "iopub.status.busy": "2022-06-07T22:04:02.594275Z",
     "iopub.status.idle": "2022-06-07T22:04:05.739521Z",
     "shell.execute_reply": "2022-06-07T22:04:05.737170Z"
    },
    "papermill": {
     "duration": 3.168445,
     "end_time": "2022-06-07T22:04:05.746828",
     "exception": false,
     "start_time": "2022-06-07T22:04:02.578383",
     "status": "completed"
    },
    "tags": []
   },
   "outputs": [],
   "source": [
    "y_pred = pipeline.predict(test[feature_cols])\n",
    "output = pd.DataFrame(\n",
    "    {\n",
    "        \"id\": test[\"id\"],\n",
    "        \"target\": y_pred\n",
    "        \n",
    "    }\n",
    ")\n",
    "\n",
    "output.to_csv(\"/kaggle/working/submission.csv\", index=False)"
   ]
  }
 ],
 "metadata": {
  "kernelspec": {
   "display_name": "Python 3",
   "language": "python",
   "name": "python3"
  },
  "language_info": {
   "codemirror_mode": {
    "name": "ipython",
    "version": 3
   },
   "file_extension": ".py",
   "mimetype": "text/x-python",
   "name": "python",
   "nbconvert_exporter": "python",
   "pygments_lexer": "ipython3",
   "version": "3.7.12"
  },
  "papermill": {
   "default_parameters": {},
   "duration": 319.686434,
   "end_time": "2022-06-07T22:04:07.085069",
   "environment_variables": {},
   "exception": null,
   "input_path": "__notebook__.ipynb",
   "output_path": "__notebook__.ipynb",
   "parameters": {},
   "start_time": "2022-06-07T21:58:47.398635",
   "version": "2.3.4"
  }
 },
 "nbformat": 4,
 "nbformat_minor": 5
}
