{
 "cells": [
  {
   "cell_type": "code",
   "execution_count": 1,
   "id": "b73ff5bd",
   "metadata": {
    "_cell_guid": "b1076dfc-b9ad-4769-8c92-a6c4dae69d19",
    "_uuid": "8f2839f25d086af736a60e9eeb907d3b93b6e0e5",
    "execution": {
     "iopub.execute_input": "2022-02-13T14:30:57.383490Z",
     "iopub.status.busy": "2022-02-13T14:30:57.382119Z",
     "iopub.status.idle": "2022-02-13T14:30:58.736319Z",
     "shell.execute_reply": "2022-02-13T14:30:58.735528Z",
     "shell.execute_reply.started": "2022-02-13T13:51:12.761509Z"
    },
    "papermill": {
     "duration": 1.371166,
     "end_time": "2022-02-13T14:30:58.736494",
     "exception": false,
     "start_time": "2022-02-13T14:30:57.365328",
     "status": "completed"
    },
    "tags": []
   },
   "outputs": [],
   "source": [
    "import os\n",
    "import numpy as np\n",
    "import pandas as pd\n",
    "\n",
    "from sklearn.model_selection import train_test_split\n",
    "from sklearn.metrics import classification_report\n",
    "from sklearn.linear_model import SGDClassifier\n",
    "from sklearn.ensemble import GradientBoostingClassifier, RandomForestClassifier\n",
    "from sklearn.preprocessing import StandardScaler, LabelEncoder\n",
    "from sklearn.pipeline import Pipeline\n",
    "from sklearn.decomposition import PCA\n",
    "\n",
    "np.random.seed(0)"
   ]
  },
  {
   "cell_type": "code",
   "execution_count": 2,
   "id": "aae8a092",
   "metadata": {
    "execution": {
     "iopub.execute_input": "2022-02-13T14:30:58.765702Z",
     "iopub.status.busy": "2022-02-13T14:30:58.765062Z",
     "iopub.status.idle": "2022-02-13T14:31:26.791929Z",
     "shell.execute_reply": "2022-02-13T14:31:26.792719Z",
     "shell.execute_reply.started": "2022-02-13T02:51:13.115464Z"
    },
    "papermill": {
     "duration": 28.043993,
     "end_time": "2022-02-13T14:31:26.792944",
     "exception": false,
     "start_time": "2022-02-13T14:30:58.748951",
     "status": "completed"
    },
    "tags": []
   },
   "outputs": [],
   "source": [
    "train_val = pd.read_csv(\"/kaggle/input/tabular-playground-series-feb-2022/train.csv\")"
   ]
  },
  {
   "cell_type": "code",
   "execution_count": 3,
   "id": "14ac148b",
   "metadata": {
    "execution": {
     "iopub.execute_input": "2022-02-13T14:31:26.819584Z",
     "iopub.status.busy": "2022-02-13T14:31:26.818981Z",
     "iopub.status.idle": "2022-02-13T14:31:26.866311Z",
     "shell.execute_reply": "2022-02-13T14:31:26.866808Z",
     "shell.execute_reply.started": "2022-02-13T02:51:40.690094Z"
    },
    "papermill": {
     "duration": 0.062274,
     "end_time": "2022-02-13T14:31:26.866972",
     "exception": false,
     "start_time": "2022-02-13T14:31:26.804698",
     "status": "completed"
    },
    "tags": []
   },
   "outputs": [
    {
     "data": {
      "text/plain": [
       "Bacteroides_fragilis        20139\n",
       "Streptococcus_pyogenes      20076\n",
       "Streptococcus_pneumoniae    20074\n",
       "Campylobacter_jejuni        20063\n",
       "Salmonella_enterica         20030\n",
       "Escherichia_coli            19958\n",
       "Enterococcus_hirae          19947\n",
       "Escherichia_fergusonii      19937\n",
       "Staphylococcus_aureus       19929\n",
       "Klebsiella_pneumoniae       19847\n",
       "Name: target, dtype: int64"
      ]
     },
     "execution_count": 3,
     "metadata": {},
     "output_type": "execute_result"
    }
   ],
   "source": [
    "train_val[\"target\"].value_counts()"
   ]
  },
  {
   "cell_type": "code",
   "execution_count": 4,
   "id": "23b0af62",
   "metadata": {
    "execution": {
     "iopub.execute_input": "2022-02-13T14:31:26.894549Z",
     "iopub.status.busy": "2022-02-13T14:31:26.893933Z",
     "iopub.status.idle": "2022-02-13T14:31:26.897360Z",
     "shell.execute_reply": "2022-02-13T14:31:26.897907Z",
     "shell.execute_reply.started": "2022-02-13T02:51:44.452941Z"
    },
    "papermill": {
     "duration": 0.018895,
     "end_time": "2022-02-13T14:31:26.898068",
     "exception": false,
     "start_time": "2022-02-13T14:31:26.879173",
     "status": "completed"
    },
    "tags": []
   },
   "outputs": [],
   "source": [
    "features = [\n",
    "    column for column in train_val\n",
    "    if column not in (\"row_id\", \"target\")\n",
    "]"
   ]
  },
  {
   "cell_type": "code",
   "execution_count": 5,
   "id": "53afb9a6",
   "metadata": {
    "execution": {
     "iopub.execute_input": "2022-02-13T14:31:26.928794Z",
     "iopub.status.busy": "2022-02-13T14:31:26.928095Z",
     "iopub.status.idle": "2022-02-13T14:31:29.755715Z",
     "shell.execute_reply": "2022-02-13T14:31:29.756275Z",
     "shell.execute_reply.started": "2022-02-13T02:51:46.952325Z"
    },
    "papermill": {
     "duration": 2.846578,
     "end_time": "2022-02-13T14:31:29.756460",
     "exception": false,
     "start_time": "2022-02-13T14:31:26.909882",
     "status": "completed"
    },
    "tags": []
   },
   "outputs": [
    {
     "data": {
      "text/html": [
       "<div>\n",
       "<style scoped>\n",
       "    .dataframe tbody tr th:only-of-type {\n",
       "        vertical-align: middle;\n",
       "    }\n",
       "\n",
       "    .dataframe tbody tr th {\n",
       "        vertical-align: top;\n",
       "    }\n",
       "\n",
       "    .dataframe thead th {\n",
       "        text-align: right;\n",
       "    }\n",
       "</style>\n",
       "<table border=\"1\" class=\"dataframe\">\n",
       "  <thead>\n",
       "    <tr style=\"text-align: right;\">\n",
       "      <th></th>\n",
       "      <th>row_id</th>\n",
       "      <th>A0T0G0C10</th>\n",
       "      <th>A0T0G1C9</th>\n",
       "      <th>A0T0G2C8</th>\n",
       "      <th>A0T0G3C7</th>\n",
       "      <th>A0T0G4C6</th>\n",
       "      <th>A0T0G5C5</th>\n",
       "      <th>A0T0G6C4</th>\n",
       "      <th>A0T0G7C3</th>\n",
       "      <th>A0T0G8C2</th>\n",
       "      <th>...</th>\n",
       "      <th>A8T0G0C2</th>\n",
       "      <th>A8T0G1C1</th>\n",
       "      <th>A8T0G2C0</th>\n",
       "      <th>A8T1G0C1</th>\n",
       "      <th>A8T1G1C0</th>\n",
       "      <th>A8T2G0C0</th>\n",
       "      <th>A9T0G0C1</th>\n",
       "      <th>A9T0G1C0</th>\n",
       "      <th>A9T1G0C0</th>\n",
       "      <th>A10T0G0C0</th>\n",
       "    </tr>\n",
       "  </thead>\n",
       "  <tbody>\n",
       "    <tr>\n",
       "      <th>count</th>\n",
       "      <td>200000.000000</td>\n",
       "      <td>2.000000e+05</td>\n",
       "      <td>200000.000000</td>\n",
       "      <td>200000.000000</td>\n",
       "      <td>200000.000000</td>\n",
       "      <td>200000.000000</td>\n",
       "      <td>200000.000000</td>\n",
       "      <td>200000.000000</td>\n",
       "      <td>200000.000000</td>\n",
       "      <td>200000.000000</td>\n",
       "      <td>...</td>\n",
       "      <td>200000.000000</td>\n",
       "      <td>200000.000000</td>\n",
       "      <td>200000.000000</td>\n",
       "      <td>200000.000000</td>\n",
       "      <td>200000.000000</td>\n",
       "      <td>200000.000000</td>\n",
       "      <td>200000.000000</td>\n",
       "      <td>2.000000e+05</td>\n",
       "      <td>2.000000e+05</td>\n",
       "      <td>2.000000e+05</td>\n",
       "    </tr>\n",
       "    <tr>\n",
       "      <th>mean</th>\n",
       "      <td>99999.500000</td>\n",
       "      <td>6.421457e-07</td>\n",
       "      <td>-0.000003</td>\n",
       "      <td>-0.000014</td>\n",
       "      <td>-0.000010</td>\n",
       "      <td>0.000005</td>\n",
       "      <td>0.000025</td>\n",
       "      <td>0.000014</td>\n",
       "      <td>-0.000009</td>\n",
       "      <td>-0.000028</td>\n",
       "      <td>...</td>\n",
       "      <td>0.000135</td>\n",
       "      <td>0.000348</td>\n",
       "      <td>0.000253</td>\n",
       "      <td>0.000464</td>\n",
       "      <td>0.000581</td>\n",
       "      <td>0.000379</td>\n",
       "      <td>0.000062</td>\n",
       "      <td>8.982134e-05</td>\n",
       "      <td>1.170014e-04</td>\n",
       "      <td>2.215407e-07</td>\n",
       "    </tr>\n",
       "    <tr>\n",
       "      <th>std</th>\n",
       "      <td>57735.171256</td>\n",
       "      <td>8.654927e-05</td>\n",
       "      <td>0.000132</td>\n",
       "      <td>0.000287</td>\n",
       "      <td>0.000436</td>\n",
       "      <td>0.000683</td>\n",
       "      <td>0.000869</td>\n",
       "      <td>0.000775</td>\n",
       "      <td>0.000441</td>\n",
       "      <td>0.000107</td>\n",
       "      <td>...</td>\n",
       "      <td>0.000711</td>\n",
       "      <td>0.001117</td>\n",
       "      <td>0.000914</td>\n",
       "      <td>0.001238</td>\n",
       "      <td>0.001528</td>\n",
       "      <td>0.001182</td>\n",
       "      <td>0.000466</td>\n",
       "      <td>5.475606e-04</td>\n",
       "      <td>6.788277e-04</td>\n",
       "      <td>2.050081e-05</td>\n",
       "    </tr>\n",
       "    <tr>\n",
       "      <th>min</th>\n",
       "      <td>0.000000</td>\n",
       "      <td>-9.536743e-07</td>\n",
       "      <td>-0.000010</td>\n",
       "      <td>-0.000043</td>\n",
       "      <td>-0.000114</td>\n",
       "      <td>-0.000200</td>\n",
       "      <td>-0.000240</td>\n",
       "      <td>-0.000200</td>\n",
       "      <td>-0.000114</td>\n",
       "      <td>-0.000043</td>\n",
       "      <td>...</td>\n",
       "      <td>-0.000043</td>\n",
       "      <td>-0.000086</td>\n",
       "      <td>-0.000043</td>\n",
       "      <td>-0.000086</td>\n",
       "      <td>-0.000086</td>\n",
       "      <td>-0.000043</td>\n",
       "      <td>-0.000010</td>\n",
       "      <td>-9.536743e-06</td>\n",
       "      <td>-9.536743e-06</td>\n",
       "      <td>-9.536743e-07</td>\n",
       "    </tr>\n",
       "    <tr>\n",
       "      <th>25%</th>\n",
       "      <td>49999.750000</td>\n",
       "      <td>-9.536743e-07</td>\n",
       "      <td>-0.000010</td>\n",
       "      <td>-0.000043</td>\n",
       "      <td>-0.000114</td>\n",
       "      <td>-0.000200</td>\n",
       "      <td>-0.000240</td>\n",
       "      <td>-0.000200</td>\n",
       "      <td>-0.000114</td>\n",
       "      <td>-0.000043</td>\n",
       "      <td>...</td>\n",
       "      <td>-0.000043</td>\n",
       "      <td>-0.000086</td>\n",
       "      <td>-0.000043</td>\n",
       "      <td>-0.000086</td>\n",
       "      <td>-0.000086</td>\n",
       "      <td>-0.000043</td>\n",
       "      <td>-0.000010</td>\n",
       "      <td>-9.536743e-06</td>\n",
       "      <td>-9.536743e-06</td>\n",
       "      <td>-9.536743e-07</td>\n",
       "    </tr>\n",
       "    <tr>\n",
       "      <th>50%</th>\n",
       "      <td>99999.500000</td>\n",
       "      <td>-9.536743e-07</td>\n",
       "      <td>-0.000010</td>\n",
       "      <td>-0.000043</td>\n",
       "      <td>-0.000114</td>\n",
       "      <td>-0.000200</td>\n",
       "      <td>-0.000237</td>\n",
       "      <td>-0.000199</td>\n",
       "      <td>-0.000114</td>\n",
       "      <td>-0.000043</td>\n",
       "      <td>...</td>\n",
       "      <td>0.000014</td>\n",
       "      <td>0.000064</td>\n",
       "      <td>0.000047</td>\n",
       "      <td>0.000124</td>\n",
       "      <td>0.000114</td>\n",
       "      <td>0.000043</td>\n",
       "      <td>-0.000010</td>\n",
       "      <td>4.632568e-07</td>\n",
       "      <td>4.632568e-07</td>\n",
       "      <td>-9.536743e-07</td>\n",
       "    </tr>\n",
       "    <tr>\n",
       "      <th>75%</th>\n",
       "      <td>149999.250000</td>\n",
       "      <td>-9.536743e-07</td>\n",
       "      <td>-0.000003</td>\n",
       "      <td>-0.000013</td>\n",
       "      <td>-0.000004</td>\n",
       "      <td>-0.000011</td>\n",
       "      <td>0.000003</td>\n",
       "      <td>-0.000030</td>\n",
       "      <td>0.000004</td>\n",
       "      <td>-0.000028</td>\n",
       "      <td>...</td>\n",
       "      <td>0.000111</td>\n",
       "      <td>0.000463</td>\n",
       "      <td>0.000297</td>\n",
       "      <td>0.000684</td>\n",
       "      <td>0.000774</td>\n",
       "      <td>0.000365</td>\n",
       "      <td>0.000030</td>\n",
       "      <td>6.046326e-05</td>\n",
       "      <td>6.946326e-05</td>\n",
       "      <td>-9.536743e-07</td>\n",
       "    </tr>\n",
       "    <tr>\n",
       "      <th>max</th>\n",
       "      <td>199999.000000</td>\n",
       "      <td>9.999046e-03</td>\n",
       "      <td>0.009990</td>\n",
       "      <td>0.009957</td>\n",
       "      <td>0.009886</td>\n",
       "      <td>0.019800</td>\n",
       "      <td>0.019760</td>\n",
       "      <td>0.019800</td>\n",
       "      <td>0.009886</td>\n",
       "      <td>0.009957</td>\n",
       "      <td>...</td>\n",
       "      <td>0.019957</td>\n",
       "      <td>0.019914</td>\n",
       "      <td>0.019957</td>\n",
       "      <td>0.019914</td>\n",
       "      <td>0.019914</td>\n",
       "      <td>0.019957</td>\n",
       "      <td>0.009990</td>\n",
       "      <td>9.990463e-03</td>\n",
       "      <td>1.999046e-02</td>\n",
       "      <td>9.990463e-04</td>\n",
       "    </tr>\n",
       "  </tbody>\n",
       "</table>\n",
       "<p>8 rows × 287 columns</p>\n",
       "</div>"
      ],
      "text/plain": [
       "              row_id     A0T0G0C10       A0T0G1C9       A0T0G2C8  \\\n",
       "count  200000.000000  2.000000e+05  200000.000000  200000.000000   \n",
       "mean    99999.500000  6.421457e-07      -0.000003      -0.000014   \n",
       "std     57735.171256  8.654927e-05       0.000132       0.000287   \n",
       "min         0.000000 -9.536743e-07      -0.000010      -0.000043   \n",
       "25%     49999.750000 -9.536743e-07      -0.000010      -0.000043   \n",
       "50%     99999.500000 -9.536743e-07      -0.000010      -0.000043   \n",
       "75%    149999.250000 -9.536743e-07      -0.000003      -0.000013   \n",
       "max    199999.000000  9.999046e-03       0.009990       0.009957   \n",
       "\n",
       "            A0T0G3C7       A0T0G4C6       A0T0G5C5       A0T0G6C4  \\\n",
       "count  200000.000000  200000.000000  200000.000000  200000.000000   \n",
       "mean       -0.000010       0.000005       0.000025       0.000014   \n",
       "std         0.000436       0.000683       0.000869       0.000775   \n",
       "min        -0.000114      -0.000200      -0.000240      -0.000200   \n",
       "25%        -0.000114      -0.000200      -0.000240      -0.000200   \n",
       "50%        -0.000114      -0.000200      -0.000237      -0.000199   \n",
       "75%        -0.000004      -0.000011       0.000003      -0.000030   \n",
       "max         0.009886       0.019800       0.019760       0.019800   \n",
       "\n",
       "            A0T0G7C3       A0T0G8C2  ...       A8T0G0C2       A8T0G1C1  \\\n",
       "count  200000.000000  200000.000000  ...  200000.000000  200000.000000   \n",
       "mean       -0.000009      -0.000028  ...       0.000135       0.000348   \n",
       "std         0.000441       0.000107  ...       0.000711       0.001117   \n",
       "min        -0.000114      -0.000043  ...      -0.000043      -0.000086   \n",
       "25%        -0.000114      -0.000043  ...      -0.000043      -0.000086   \n",
       "50%        -0.000114      -0.000043  ...       0.000014       0.000064   \n",
       "75%         0.000004      -0.000028  ...       0.000111       0.000463   \n",
       "max         0.009886       0.009957  ...       0.019957       0.019914   \n",
       "\n",
       "            A8T0G2C0       A8T1G0C1       A8T1G1C0       A8T2G0C0  \\\n",
       "count  200000.000000  200000.000000  200000.000000  200000.000000   \n",
       "mean        0.000253       0.000464       0.000581       0.000379   \n",
       "std         0.000914       0.001238       0.001528       0.001182   \n",
       "min        -0.000043      -0.000086      -0.000086      -0.000043   \n",
       "25%        -0.000043      -0.000086      -0.000086      -0.000043   \n",
       "50%         0.000047       0.000124       0.000114       0.000043   \n",
       "75%         0.000297       0.000684       0.000774       0.000365   \n",
       "max         0.019957       0.019914       0.019914       0.019957   \n",
       "\n",
       "            A9T0G0C1      A9T0G1C0      A9T1G0C0     A10T0G0C0  \n",
       "count  200000.000000  2.000000e+05  2.000000e+05  2.000000e+05  \n",
       "mean        0.000062  8.982134e-05  1.170014e-04  2.215407e-07  \n",
       "std         0.000466  5.475606e-04  6.788277e-04  2.050081e-05  \n",
       "min        -0.000010 -9.536743e-06 -9.536743e-06 -9.536743e-07  \n",
       "25%        -0.000010 -9.536743e-06 -9.536743e-06 -9.536743e-07  \n",
       "50%        -0.000010  4.632568e-07  4.632568e-07 -9.536743e-07  \n",
       "75%         0.000030  6.046326e-05  6.946326e-05 -9.536743e-07  \n",
       "max         0.009990  9.990463e-03  1.999046e-02  9.990463e-04  \n",
       "\n",
       "[8 rows x 287 columns]"
      ]
     },
     "execution_count": 5,
     "metadata": {},
     "output_type": "execute_result"
    }
   ],
   "source": [
    "train_val.describe()    "
   ]
  },
  {
   "cell_type": "code",
   "execution_count": 6,
   "id": "00c8e476",
   "metadata": {
    "execution": {
     "iopub.execute_input": "2022-02-13T14:31:29.793408Z",
     "iopub.status.busy": "2022-02-13T14:31:29.788158Z",
     "iopub.status.idle": "2022-02-13T14:31:30.513576Z",
     "shell.execute_reply": "2022-02-13T14:31:30.514162Z",
     "shell.execute_reply.started": "2022-02-13T02:51:57.920851Z"
    },
    "papermill": {
     "duration": 0.744901,
     "end_time": "2022-02-13T14:31:30.514355",
     "exception": false,
     "start_time": "2022-02-13T14:31:29.769454",
     "status": "completed"
    },
    "tags": []
   },
   "outputs": [],
   "source": [
    "train, val = train_test_split(train_val)\n",
    "X_train, y_train = train[features].values, train[\"target\"].values\n",
    "X_val, y_val = val[features].values, val[\"target\"].values\n",
    "\n",
    "label_encoder = LabelEncoder()\n",
    "y_train = label_encoder.fit_transform(y_train)\n",
    "y_val = label_encoder.transform(y_val)"
   ]
  },
  {
   "cell_type": "code",
   "execution_count": 7,
   "id": "1c98c7cf",
   "metadata": {
    "execution": {
     "iopub.execute_input": "2022-02-13T14:31:30.546803Z",
     "iopub.status.busy": "2022-02-13T14:31:30.545750Z",
     "iopub.status.idle": "2022-02-13T14:31:30.548115Z",
     "shell.execute_reply": "2022-02-13T14:31:30.548607Z",
     "shell.execute_reply.started": "2022-02-13T13:52:31.741298Z"
    },
    "papermill": {
     "duration": 0.021328,
     "end_time": "2022-02-13T14:31:30.548795",
     "exception": false,
     "start_time": "2022-02-13T14:31:30.527467",
     "status": "completed"
    },
    "tags": []
   },
   "outputs": [],
   "source": [
    "pipeline = Pipeline(\n",
    "    [\n",
    "        (\"scaler\", StandardScaler()),\n",
    "        (\"pca\", PCA(n_components=0.99)),\n",
    "        (\"model\",  RandomForestClassifier(n_estimators=1000, n_jobs=-1)),\n",
    "    ],\n",
    "    verbose=1,\n",
    ")"
   ]
  },
  {
   "cell_type": "code",
   "execution_count": 8,
   "id": "b8462679",
   "metadata": {
    "execution": {
     "iopub.execute_input": "2022-02-13T14:31:30.578130Z",
     "iopub.status.busy": "2022-02-13T14:31:30.577161Z",
     "iopub.status.idle": "2022-02-13T14:51:25.910227Z",
     "shell.execute_reply": "2022-02-13T14:51:25.909549Z",
     "shell.execute_reply.started": "2022-02-13T02:53:55.526726Z"
    },
    "papermill": {
     "duration": 1195.348901,
     "end_time": "2022-02-13T14:51:25.910486",
     "exception": false,
     "start_time": "2022-02-13T14:31:30.561585",
     "status": "completed"
    },
    "tags": []
   },
   "outputs": [
    {
     "name": "stdout",
     "output_type": "stream",
     "text": [
      "[Pipeline] ............ (step 1 of 3) Processing scaler, total=   1.0s\n",
      "[Pipeline] ............... (step 2 of 3) Processing pca, total=   4.9s\n",
      "[Pipeline] ............. (step 3 of 3) Processing model, total=19.8min\n"
     ]
    },
    {
     "data": {
      "text/plain": [
       "Pipeline(steps=[('scaler', StandardScaler()), ('pca', PCA(n_components=0.99)),\n",
       "                ('model',\n",
       "                 RandomForestClassifier(n_estimators=1000, n_jobs=-1))],\n",
       "         verbose=1)"
      ]
     },
     "execution_count": 8,
     "metadata": {},
     "output_type": "execute_result"
    }
   ],
   "source": [
    "pipeline.fit(X_train, y_train)"
   ]
  },
  {
   "cell_type": "code",
   "execution_count": 9,
   "id": "023ffb7b",
   "metadata": {
    "execution": {
     "iopub.execute_input": "2022-02-13T14:51:25.946600Z",
     "iopub.status.busy": "2022-02-13T14:51:25.945920Z",
     "iopub.status.idle": "2022-02-13T14:51:33.016897Z",
     "shell.execute_reply": "2022-02-13T14:51:33.016231Z",
     "shell.execute_reply.started": "2022-02-07T23:46:57.317159Z"
    },
    "papermill": {
     "duration": 7.092546,
     "end_time": "2022-02-13T14:51:33.017043",
     "exception": false,
     "start_time": "2022-02-13T14:51:25.924497",
     "status": "completed"
    },
    "tags": []
   },
   "outputs": [
    {
     "name": "stdout",
     "output_type": "stream",
     "text": [
      "              precision    recall  f1-score   support\n",
      "\n",
      "           0       0.99      1.00      0.99      5048\n",
      "           1       0.99      1.00      0.99      4975\n",
      "           2       0.99      0.99      0.99      5010\n",
      "           3       0.99      0.99      0.99      5020\n",
      "           4       0.98      0.99      0.99      4930\n",
      "           5       1.00      0.99      1.00      4960\n",
      "           6       1.00      0.99      0.99      5004\n",
      "           7       0.99      0.99      0.99      5001\n",
      "           8       0.99      0.99      0.99      5070\n",
      "           9       0.99      0.99      0.99      4982\n",
      "\n",
      "    accuracy                           0.99     50000\n",
      "   macro avg       0.99      0.99      0.99     50000\n",
      "weighted avg       0.99      0.99      0.99     50000\n",
      "\n"
     ]
    }
   ],
   "source": [
    "y_pred = pipeline.predict(X_val)\n",
    "print(classification_report(y_val, y_pred))"
   ]
  },
  {
   "cell_type": "code",
   "execution_count": 10,
   "id": "1d6dda36",
   "metadata": {
    "execution": {
     "iopub.execute_input": "2022-02-13T14:51:33.052387Z",
     "iopub.status.busy": "2022-02-13T14:51:33.051251Z",
     "iopub.status.idle": "2022-02-13T14:51:53.035676Z",
     "shell.execute_reply": "2022-02-13T14:51:53.036333Z",
     "shell.execute_reply.started": "2022-02-07T23:47:25.062057Z"
    },
    "papermill": {
     "duration": 20.004502,
     "end_time": "2022-02-13T14:51:53.036502",
     "exception": false,
     "start_time": "2022-02-13T14:51:33.032000",
     "status": "completed"
    },
    "tags": []
   },
   "outputs": [
    {
     "name": "stdout",
     "output_type": "stream",
     "text": [
      "              precision    recall  f1-score   support\n",
      "\n",
      "           0       1.00      1.00      1.00     15091\n",
      "           1       1.00      1.00      1.00     15088\n",
      "           2       1.00      1.00      1.00     14937\n",
      "           3       1.00      1.00      1.00     14938\n",
      "           4       1.00      1.00      1.00     15007\n",
      "           5       1.00      1.00      1.00     14887\n",
      "           6       1.00      1.00      1.00     15026\n",
      "           7       1.00      1.00      1.00     14928\n",
      "           8       1.00      1.00      1.00     15004\n",
      "           9       1.00      1.00      1.00     15094\n",
      "\n",
      "    accuracy                           1.00    150000\n",
      "   macro avg       1.00      1.00      1.00    150000\n",
      "weighted avg       1.00      1.00      1.00    150000\n",
      "\n"
     ]
    }
   ],
   "source": [
    "y_pred = pipeline.predict(X_train)\n",
    "print(classification_report(y_train, y_pred))"
   ]
  },
  {
   "cell_type": "code",
   "execution_count": 11,
   "id": "bfdc3f94",
   "metadata": {
    "execution": {
     "iopub.execute_input": "2022-02-13T14:51:53.071994Z",
     "iopub.status.busy": "2022-02-13T14:51:53.068559Z",
     "iopub.status.idle": "2022-02-13T14:52:18.814157Z",
     "shell.execute_reply": "2022-02-13T14:52:18.813443Z",
     "shell.execute_reply.started": "2022-02-07T23:51:21.855103Z"
    },
    "papermill": {
     "duration": 25.763204,
     "end_time": "2022-02-13T14:52:18.814317",
     "exception": false,
     "start_time": "2022-02-13T14:51:53.051113",
     "status": "completed"
    },
    "tags": []
   },
   "outputs": [],
   "source": [
    "test = pd.read_csv(\"/kaggle/input/tabular-playground-series-feb-2022/test.csv\")\n",
    "y_pred = pipeline.predict(test[features].values)"
   ]
  },
  {
   "cell_type": "code",
   "execution_count": 12,
   "id": "ee86456f",
   "metadata": {
    "execution": {
     "iopub.execute_input": "2022-02-13T14:52:18.850470Z",
     "iopub.status.busy": "2022-02-13T14:52:18.849700Z",
     "iopub.status.idle": "2022-02-13T14:52:18.858399Z",
     "shell.execute_reply": "2022-02-13T14:52:18.857683Z",
     "shell.execute_reply.started": "2022-02-07T23:53:22.282633Z"
    },
    "papermill": {
     "duration": 0.029153,
     "end_time": "2022-02-13T14:52:18.858543",
     "exception": false,
     "start_time": "2022-02-13T14:52:18.829390",
     "status": "completed"
    },
    "tags": []
   },
   "outputs": [],
   "source": [
    "output = pd.DataFrame(\n",
    "    {\n",
    "        \"row_id\": test[\"row_id\"],\n",
    "        \"target\": label_encoder.inverse_transform(y_pred)\n",
    "        \n",
    "    }\n",
    ")"
   ]
  },
  {
   "cell_type": "code",
   "execution_count": 13,
   "id": "849b76aa",
   "metadata": {
    "execution": {
     "iopub.execute_input": "2022-02-13T14:52:18.894632Z",
     "iopub.status.busy": "2022-02-13T14:52:18.893977Z",
     "iopub.status.idle": "2022-02-13T14:52:19.152546Z",
     "shell.execute_reply": "2022-02-13T14:52:19.151946Z",
     "shell.execute_reply.started": "2022-02-07T23:55:37.231085Z"
    },
    "papermill": {
     "duration": 0.279227,
     "end_time": "2022-02-13T14:52:19.152692",
     "exception": false,
     "start_time": "2022-02-13T14:52:18.873465",
     "status": "completed"
    },
    "tags": []
   },
   "outputs": [],
   "source": [
    "output.to_csv(\"/kaggle/working/submission.csv\", index=False)"
   ]
  }
 ],
 "metadata": {
  "kernelspec": {
   "display_name": "Python 3",
   "language": "python",
   "name": "python3"
  },
  "language_info": {
   "codemirror_mode": {
    "name": "ipython",
    "version": 3
   },
   "file_extension": ".py",
   "mimetype": "text/x-python",
   "name": "python",
   "nbconvert_exporter": "python",
   "pygments_lexer": "ipython3",
   "version": "3.7.12"
  },
  "papermill": {
   "default_parameters": {},
   "duration": 1293.140966,
   "end_time": "2022-02-13T14:52:20.384564",
   "environment_variables": {},
   "exception": null,
   "input_path": "__notebook__.ipynb",
   "output_path": "__notebook__.ipynb",
   "parameters": {},
   "start_time": "2022-02-13T14:30:47.243598",
   "version": "2.3.3"
  }
 },
 "nbformat": 4,
 "nbformat_minor": 5
}
