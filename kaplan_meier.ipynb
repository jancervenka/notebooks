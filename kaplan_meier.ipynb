{
 "cells": [
  {
   "cell_type": "code",
   "execution_count": 5,
   "id": "d7441a37-7635-4716-abe5-d862f2063c28",
   "metadata": {},
   "outputs": [],
   "source": [
    "import numpy as np\n",
    "import matplotlib.pyplot as plt\n",
    "\n",
    "%matplotlib inline"
   ]
  },
  {
   "cell_type": "markdown",
   "id": "7dfffa68-f28e-435c-986b-525cec3478b0",
   "metadata": {},
   "source": [
    "### Kaplan-Meier Estimator\n",
    "* https://en.wikipedia.org/wiki/Survival_function\n",
    "* https://en.wikipedia.org/wiki/Kaplan%E2%80%93Meier_estimator"
   ]
  },
  {
   "cell_type": "markdown",
   "id": "ee3ebcee-458b-4392-bde0-0a0f75fca210",
   "metadata": {},
   "source": [
    "Survival function $S(t)$ gives the probability $P(T > t)$ of surviving past time $t$. $S(t)$ of a cumulative distribution function $F(t)$ is defined as\n",
    "\n",
    "$$\n",
    "S(t) = P(T > t) = \\int_{t}^{\\infty}f(x)\\mathrm{d}x = F(\\infty) - F(t) = 1 - F(t)\n",
    "$$\n",
    "\n",
    "In our case, $F(t)$ is a CDF of an exponential distribution $F(t) = 1 - e^{-\\lambda t}$ and\n",
    "$f(x)$ is its PDF, $S(t)$ is then\n",
    "\n",
    "$$\n",
    "S(t) = \\int_{t}^{\\infty}\\lambda e^{-\\lambda x}\\mathrm{d}x = e^{-\\lambda t}\n",
    "$$"
   ]
  },
  {
   "cell_type": "code",
   "execution_count": 25,
   "id": "f6f13662-e227-4bdc-8b9e-9b6bb8968107",
   "metadata": {},
   "outputs": [],
   "source": [
    "def survival(t, lambda_):\n",
    "    return np.exp(-lambda_ * t)"
   ]
  },
  {
   "cell_type": "code",
   "execution_count": 22,
   "id": "e7bcf055-ff79-4207-99f3-6c11bccbf335",
   "metadata": {},
   "outputs": [],
   "source": [
    "def plot_survival(lambda_=0.1):\n",
    "    t = np.linspace(0, 100, 1000)\n",
    "    s = survival(t, lambda_=lambda_)\n",
    "    \n",
    "    fig, ax = plt.subplots(1, 1, figsize=(6, 3))\n",
    "    ax.plot(t, s, color=\"red\")\n",
    "    ax.set_xlabel(\"$t$ [seconds]\")\n",
    "    ax.set_ylabel(\"$S(t)$\")\n",
    "    ax.set_title(f\"$S(t) = e^{{-\\lambda t}}, \\lambda={lambda_}$\")\n",
    "    plt.show()"
   ]
  },
  {
   "cell_type": "code",
   "execution_count": 23,
   "id": "0f4184d5-217b-4513-acee-c9b565cd00cc",
   "metadata": {},
   "outputs": [
    {
     "data": {
      "image/png": "[encoded data removed]",
      "text/plain": [
       "<Figure size 432x216 with 1 Axes>"
      ]
     },
     "metadata": {
      "needs_background": "light"
     },
     "output_type": "display_data"
    }
   ],
   "source": [
    "plot_survival()"
   ]
  },
  {
   "cell_type": "markdown",
   "id": "666591a7-dcb6-4bd6-9311-e8404bf742a3",
   "metadata": {},
   "source": [
    "Estimator $\\hat{S}(t)$ of a survival function $S(t)$ is\n",
    "\n",
    "$$\n",
    "\\hat{S}(t) = \\prod_{i: t_i<t}\\left( 1 - \\frac{d_i}{n_i}\\right)\n",
    "$$\n",
    "\n",
    "where $d_i$ is the number of deaths at time $t_i$ and $n_i$ is the surviving population at time $t_i$."
   ]
  },
  {
   "cell_type": "code",
   "execution_count": 67,
   "id": "67edd51e-3348-4bdd-ae2b-75e35f47245a",
   "metadata": {},
   "outputs": [],
   "source": [
    "n_0 = 10000  # initial population\n",
    "t = np.linspace(0, 50, 50)\n",
    "s = survival(t, lambda_=0.1)  # probability of survival past time t\n",
    "n = n_0 * s  # surviving population at t\n",
    "d = -1 * np.diff(n, 1)\n",
    "d = np.concatenate([d, [0]])"
   ]
  },
  {
   "cell_type": "code",
   "execution_count": 68,
   "id": "7ff94130-3478-45c3-a6fd-74170cccf0bc",
   "metadata": {},
   "outputs": [],
   "source": [
    "def kaplan_meier_estimator(d, n, i):\n",
    "    return np.prod(1 - (d[:i] / n[:i]))"
   ]
  },
  {
   "cell_type": "code",
   "execution_count": 69,
   "id": "e63edcbd-d91a-4b97-8a88-c08730a11995",
   "metadata": {},
   "outputs": [],
   "source": [
    "s_hat = np.array([kaplan_meier_estimator(d, n, i) for i, _ in enumerate(t)])"
   ]
  },
  {
   "cell_type": "code",
   "execution_count": 70,
   "id": "746e1fa9-81ad-455d-845e-b5c2c32f8534",
   "metadata": {},
   "outputs": [],
   "source": [
    "def plot_kaplan_meier_estimator(t, s, s_hat):\n",
    "    \n",
    "    fig, ax = plt.subplots(1, 1, figsize=(7, 4))\n",
    "    ax.plot(t, s, \"r\", label=\"$S(t)$\")\n",
    "    ax.plot(t, s_hat, \"b+\", label=\"$\\hat{S}(t)$\")\n",
    "    ax.set_xlabel(\"$t$ [seconds]\")\n",
    "    ax.set_ylabel(\"$S(t)$\")\n",
    "    ax.set_title(f\"Kaplan-Meier\")\n",
    "    plt.legend()\n",
    "    plt.show()"
   ]
  },
  {
   "cell_type": "code",
   "execution_count": 71,
   "id": "c56abc12-875f-4327-83fc-33757b654c85",
   "metadata": {},
   "outputs": [
    {
     "data": {
      "image/png": "[encoded data removed]",
      "text/plain": [
       "<Figure size 504x288 with 1 Axes>"
      ]
     },
     "metadata": {
      "needs_background": "light"
     },
     "output_type": "display_data"
    }
   ],
   "source": [
    "plot_kaplan_meier_estimator(t, s, s_hat)"
   ]
  }
 ],
 "metadata": {
  "kernelspec": {
   "display_name": "Python 3 (ipykernel)",
   "language": "python",
   "name": "python3"
  },
  "language_info": {
   "codemirror_mode": {
    "name": "ipython",
    "version": 3
   },
   "file_extension": ".py",
   "mimetype": "text/x-python",
   "name": "python",
   "nbconvert_exporter": "python",
   "pygments_lexer": "ipython3",
   "version": "3.9.0"
  }
 },
 "nbformat": 4,
 "nbformat_minor": 5
}
