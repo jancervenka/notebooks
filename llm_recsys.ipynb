{
 "cells": [
  {
   "cell_type": "code",
   "execution_count": 481,
   "id": "97c3a78f-cfdc-4552-8d8b-a8351451318c",
   "metadata": {
    "tags": []
   },
   "outputs": [],
   "source": [
    "import os\n",
    "import torch\n",
    "import numpy as np\n",
    "import pandas as pd\n",
    "import tqdm.notebook as tqdm\n",
    "import pickle\n",
    "from openai import OpenAI\n",
    "from sklearn.neighbors import NearestNeighbors\n",
    "from sklearn.model_selection import train_test_split\n",
    "\n",
    "from surprise import accuracy, Dataset, SVD, Prediction, Trainset\n",
    "from surprise.model_selection import train_test_split as s_train_test_split\n",
    "\n",
    "with open(\"openai.secret\") as f:\n",
    "    os.environ[\"OPENAI_API_KEY\"] = f.read().strip()"
   ]
  },
  {
   "cell_type": "markdown",
   "id": "15093fe2-743e-4474-87fd-edcb28bbad10",
   "metadata": {},
   "source": [
    "## Baseline"
   ]
  },
  {
   "cell_type": "code",
   "execution_count": 470,
   "id": "7e4ae31f-337e-4eea-96c9-a1151ca8665e",
   "metadata": {},
   "outputs": [],
   "source": [
    "ratings = Dataset.load_builtin(\"ml-100k\")\n",
    "train_ratings, test_ratings = s_train_test_split(data, test_size=0.2, random_state=0)\n",
    "\n",
    "\n",
    "def to_inner_user_id(raw_user_id: str) -> int | None:\n",
    "    try:\n",
    "        return train_ratings.to_inner_uid(raw_user_id)\n",
    "    except ValueError:\n",
    "        return None\n",
    "    \n",
    "    \n",
    "def to_inner_movie_id(raw_movie_id: str) -> int | None:\n",
    "    try:\n",
    "        return train_ratings.to_inner_iid(raw_movie_id)\n",
    "    except ValueError:\n",
    "        return None"
   ]
  },
  {
   "cell_type": "code",
   "execution_count": 471,
   "id": "8b321cc2-beca-4078-90f9-a47305360803",
   "metadata": {},
   "outputs": [
    {
     "name": "stdout",
     "output_type": "stream",
     "text": [
      "RMSE: 0.9453\n",
      "MAE:  0.7451\n"
     ]
    },
    {
     "data": {
      "text/plain": [
       "0.7451295316128084"
      ]
     },
     "execution_count": 471,
     "metadata": {},
     "output_type": "execute_result"
    }
   ],
   "source": [
    "recsys = SVD()\n",
    "recsys.fit(train_ratings)\n",
    "\n",
    "accuracy.rmse(algo.test(test_ratings))\n",
    "accuracy.mae(algo.test(test_ratings))"
   ]
  },
  {
   "cell_type": "markdown",
   "id": "7243daf3-c4bb-414a-85d8-629caad3b653",
   "metadata": {},
   "source": [
    "## Baseline Random"
   ]
  },
  {
   "cell_type": "code",
   "execution_count": 505,
   "id": "9bb9c57f-441a-4a7b-aab8-7bd4e30118e7",
   "metadata": {},
   "outputs": [
    {
     "name": "stdout",
     "output_type": "stream",
     "text": [
      "RMSE: 1.8964\n",
      "MAE:  1.5219\n"
     ]
    },
    {
     "data": {
      "text/plain": [
       "1.52195"
      ]
     },
     "execution_count": 505,
     "metadata": {},
     "output_type": "execute_result"
    }
   ],
   "source": [
    "random_predictions = [\n",
    "    Prediction(\n",
    "        uid=raw_user_id,\n",
    "        iid=raw_movie_id,\n",
    "        r_ui=rating,\n",
    "        est=np.random.randint(1, 6),\n",
    "        details={},\n",
    "    )\n",
    "    for raw_user_id, raw_movie_id, rating  in test_ratings\n",
    "]\n",
    "\n",
    "accuracy.rmse(random_predictions)\n",
    "accuracy.mae(random_predictions)"
   ]
  },
  {
   "cell_type": "markdown",
   "id": "dfa15ed1-6d88-4c62-99e9-914624152416",
   "metadata": {},
   "source": [
    "## LLM + SVD + RAG"
   ]
  },
  {
   "cell_type": "code",
   "execution_count": 472,
   "id": "78375807-2298-4b70-9786-5f99cd1be238",
   "metadata": {
    "tags": []
   },
   "outputs": [],
   "source": [
    "def get_user_item(ratings: list[tuple[int | str, int | str, float]]) -> pd.DataFrame:\n",
    "    return (\n",
    "        pd\n",
    "        .DataFrame(ratings, columns=[\"user_id\", \"movie_id\", \"rating\"])\n",
    "        .groupby([\"user_id\", \"movie_id\"])\n",
    "        .agg(rating=(\"rating\", \"sum\"))\n",
    "        .reset_index()\n",
    "        .pivot(index=\"user_id\", columns=\"movie_id\", values=\"rating\")\n",
    "        .fillna(0)\n",
    "        .sort_index()\n",
    "    )\n",
    "\n",
    "\n",
    "def get_user_histories(user_item: pd.DataFrame) -> dict[int, list[int]]:\n",
    "    return user_item.apply(lambda r: dict(r[r > 0].items()), axis=1).to_dict()"
   ]
  },
  {
   "cell_type": "code",
   "execution_count": 473,
   "id": "92017ce9-7fee-496f-abb6-0898abed165e",
   "metadata": {
    "tags": []
   },
   "outputs": [],
   "source": [
    "# using inner ids from now on\n",
    "train_user_item = get_user_item(train_ratings.all_ratings())\n",
    "n_dims = 100\n",
    "u, s, v = np.linalg.svd(train_user_item, full_matrices=True)\n",
    "train_user_embeddings = u[:, :n_dims]\n",
    "train_user_histories = get_user_histories(train_user_item)"
   ]
  },
  {
   "cell_type": "code",
   "execution_count": 474,
   "id": "033b0472-b95a-4a14-9a35-76f55134ea05",
   "metadata": {
    "tags": []
   },
   "outputs": [
    {
     "data": {
      "text/html": [
       "<style>#sk-container-id-4 {color: black;background-color: white;}#sk-container-id-4 pre{padding: 0;}#sk-container-id-4 div.sk-toggleable {background-color: white;}#sk-container-id-4 label.sk-toggleable__label {cursor: pointer;display: block;width: 100%;margin-bottom: 0;padding: 0.3em;box-sizing: border-box;text-align: center;}#sk-container-id-4 label.sk-toggleable__label-arrow:before {content: \"▸\";float: left;margin-right: 0.25em;color: #696969;}#sk-container-id-4 label.sk-toggleable__label-arrow:hover:before {color: black;}#sk-container-id-4 div.sk-estimator:hover label.sk-toggleable__label-arrow:before {color: black;}#sk-container-id-4 div.sk-toggleable__content {max-height: 0;max-width: 0;overflow: hidden;text-align: left;background-color: #f0f8ff;}#sk-container-id-4 div.sk-toggleable__content pre {margin: 0.2em;color: black;border-radius: 0.25em;background-color: #f0f8ff;}#sk-container-id-4 input.sk-toggleable__control:checked~div.sk-toggleable__content {max-height: 200px;max-width: 100%;overflow: auto;}#sk-container-id-4 input.sk-toggleable__control:checked~label.sk-toggleable__label-arrow:before {content: \"▾\";}#sk-container-id-4 div.sk-estimator input.sk-toggleable__control:checked~label.sk-toggleable__label {background-color: #d4ebff;}#sk-container-id-4 div.sk-label input.sk-toggleable__control:checked~label.sk-toggleable__label {background-color: #d4ebff;}#sk-container-id-4 input.sk-hidden--visually {border: 0;clip: rect(1px 1px 1px 1px);clip: rect(1px, 1px, 1px, 1px);height: 1px;margin: -1px;overflow: hidden;padding: 0;position: absolute;width: 1px;}#sk-container-id-4 div.sk-estimator {font-family: monospace;background-color: #f0f8ff;border: 1px dotted black;border-radius: 0.25em;box-sizing: border-box;margin-bottom: 0.5em;}#sk-container-id-4 div.sk-estimator:hover {background-color: #d4ebff;}#sk-container-id-4 div.sk-parallel-item::after {content: \"\";width: 100%;border-bottom: 1px solid gray;flex-grow: 1;}#sk-container-id-4 div.sk-label:hover label.sk-toggleable__label {background-color: #d4ebff;}#sk-container-id-4 div.sk-serial::before {content: \"\";position: absolute;border-left: 1px solid gray;box-sizing: border-box;top: 0;bottom: 0;left: 50%;z-index: 0;}#sk-container-id-4 div.sk-serial {display: flex;flex-direction: column;align-items: center;background-color: white;padding-right: 0.2em;padding-left: 0.2em;position: relative;}#sk-container-id-4 div.sk-item {position: relative;z-index: 1;}#sk-container-id-4 div.sk-parallel {display: flex;align-items: stretch;justify-content: center;background-color: white;position: relative;}#sk-container-id-4 div.sk-item::before, #sk-container-id-4 div.sk-parallel-item::before {content: \"\";position: absolute;border-left: 1px solid gray;box-sizing: border-box;top: 0;bottom: 0;left: 50%;z-index: -1;}#sk-container-id-4 div.sk-parallel-item {display: flex;flex-direction: column;z-index: 1;position: relative;background-color: white;}#sk-container-id-4 div.sk-parallel-item:first-child::after {align-self: flex-end;width: 50%;}#sk-container-id-4 div.sk-parallel-item:last-child::after {align-self: flex-start;width: 50%;}#sk-container-id-4 div.sk-parallel-item:only-child::after {width: 0;}#sk-container-id-4 div.sk-dashed-wrapped {border: 1px dashed gray;margin: 0 0.4em 0.5em 0.4em;box-sizing: border-box;padding-bottom: 0.4em;background-color: white;}#sk-container-id-4 div.sk-label label {font-family: monospace;font-weight: bold;display: inline-block;line-height: 1.2em;}#sk-container-id-4 div.sk-label-container {text-align: center;}#sk-container-id-4 div.sk-container {/* jupyter's `normalize.less` sets `[hidden] { display: none; }` but bootstrap.min.css set `[hidden] { display: none !important; }` so we also need the `!important` here to be able to override the default hidden behavior on the sphinx rendered scikit-learn.org. See: https://github.com/scikit-learn/scikit-learn/issues/21755 */display: inline-block !important;position: relative;}#sk-container-id-4 div.sk-text-repr-fallback {display: none;}</style><div id=\"sk-container-id-4\" class=\"sk-top-container\"><div class=\"sk-text-repr-fallback\"><pre>NearestNeighbors(metric=&#x27;cosine&#x27;, n_neighbors=20)</pre><b>In a Jupyter environment, please rerun this cell to show the HTML representation or trust the notebook. <br />On GitHub, the HTML representation is unable to render, please try loading this page with nbviewer.org.</b></div><div class=\"sk-container\" hidden><div class=\"sk-item\"><div class=\"sk-estimator sk-toggleable\"><input class=\"sk-toggleable__control sk-hidden--visually\" id=\"sk-estimator-id-4\" type=\"checkbox\" checked><label for=\"sk-estimator-id-4\" class=\"sk-toggleable__label sk-toggleable__label-arrow\">NearestNeighbors</label><div class=\"sk-toggleable__content\"><pre>NearestNeighbors(metric=&#x27;cosine&#x27;, n_neighbors=20)</pre></div></div></div></div></div>"
      ],
      "text/plain": [
       "NearestNeighbors(metric='cosine', n_neighbors=20)"
      ]
     },
     "execution_count": 474,
     "metadata": {},
     "output_type": "execute_result"
    }
   ],
   "source": [
    "train_knn = NearestNeighbors(n_neighbors=20, metric=\"cosine\")\n",
    "train_knn.fit(train_user_embeddings)"
   ]
  },
  {
   "cell_type": "code",
   "execution_count": 475,
   "id": "35701f7e-1e29-4554-9dde-dc950076056c",
   "metadata": {
    "tags": []
   },
   "outputs": [],
   "source": [
    "def get_nearest_user_histories(\n",
    "    user_id: int,\n",
    "    knn: NearestNeighbors,\n",
    "    user_embeddings: np.array,\n",
    "    user_histories: dict[int, list[int]]\n",
    ") -> list[dict[int, int]]:\n",
    "    \n",
    "    vec = user_embeddings[user_id, np.newaxis]\n",
    "    nearest_user_ids = knn.kneighbors(vec, return_distance=False)\n",
    "    return {\n",
    "        near_user_id: user_histories[near_user_id]\n",
    "        for near_user_id in nearest_user_ids[0].tolist()\n",
    "        if near_user_id != user_id\n",
    "    }"
   ]
  },
  {
   "cell_type": "code",
   "execution_count": 476,
   "id": "f270abf3-497e-4d41-b42f-a957c3b25336",
   "metadata": {},
   "outputs": [],
   "source": [
    "def get_movies_to_predict(\n",
    "    user_id: int,\n",
    "    test_ratings: list[tuple[str, str, float]],\n",
    ") -> list[int]:\n",
    "\n",
    "    return [\n",
    "        to_inner_movie_id(raw_movie_id) for raw_user_id, raw_movie_id, _ in test_ratings\n",
    "        if to_inner_user_id(raw_user_id) == user_id and to_inner_movie_id(raw_movie_id) is not None\n",
    "    ]"
   ]
  },
  {
   "cell_type": "code",
   "execution_count": 477,
   "id": "8ac3d1e0-265d-41a2-9f00-40463843f131",
   "metadata": {
    "tags": []
   },
   "outputs": [],
   "source": [
    "def fmt_list(x: list[int]) -> str:\n",
    "    return str(x).strip(\"[]\")\n",
    "\n",
    "\n",
    "def fmt_user_history(user_history: dict[int, float]) -> str:\n",
    "    return \", \".join(\n",
    "        f\"{movie_id}: {rating}\" for movie_id, rating in user_history.items()\n",
    "    )\n",
    "\n",
    "\n",
    "def get_instruction(\n",
    "    user_history: dict[int, float],\n",
    "    nearest_user_histories: dict[int, dict[int, float]],\n",
    "    movies_to_predict: list[int],\n",
    ") -> int:\n",
    "    \n",
    "    formatted_nearest_user_histories = \"\\n\".join(\n",
    "        f\"user {i}: {fmt_user_history(near_user_history)}.\"\n",
    "        for i, near_user_history\n",
    "        in enumerate(nearest_user_histories.values())\n",
    "    )\n",
    "    \n",
    "    return f\"\"\"\n",
    "        A user has seen and rated the following movies: {fmt_user_history(user_history)}.\n",
    "\n",
    "        Users with similar preferences have seen and rated these movies:\n",
    "        {formatted_nearest_user_histories}.\n",
    "\n",
    "        Each comma-separated value in the lists above represents a movie id followed\n",
    "        by a numerical user rating.\n",
    "\n",
    "        Use the data above to predict the ratings the user has given to\n",
    "        the movies: {fmt_list(movies_to_predict)}. Give exactly one rating\n",
    "        to each of the movies.\n",
    "        \n",
    "        Respond with just a list of ratings and nothing else. Your response needs\n",
    "        to have exactly {len(movies_to_predict)} ratings.\n",
    "    \"\"\".replace(\"    \", \"\")"
   ]
  },
  {
   "cell_type": "code",
   "execution_count": 478,
   "id": "f9b9ec0a-0ca0-46a2-8143-4c380d67b34e",
   "metadata": {},
   "outputs": [],
   "source": [
    "def predict(instruction: str) -> list[int]:\n",
    "    completion = client.chat.completions.create(\n",
    "        model=\"gpt-4o-mini\",\n",
    "        messages=[\n",
    "            {\"role\": \"user\", \"content\": instruction}\n",
    "        ]\n",
    "    )\n",
    "    \n",
    "    response = completion.choices[0].message.content\n",
    "    try:\n",
    "        return list(map(float, response.strip(\".[] \").split(\",\")))\n",
    "    except Exception:\n",
    "        return response"
   ]
  },
  {
   "cell_type": "code",
   "execution_count": 485,
   "id": "8bee6b9a-5d4b-4336-90f3-b933df5552c3",
   "metadata": {},
   "outputs": [
    {
     "data": {
      "application/vnd.jupyter.widget-view+json": {
       "model_id": "874e878fa51c43bbabe04ed281abf822",
       "version_major": 2,
       "version_minor": 0
      },
      "text/plain": [
       "  0%|          | 0/943 [00:00<?, ?it/s]"
      ]
     },
     "metadata": {},
     "output_type": "display_data"
    }
   ],
   "source": [
    "client = OpenAI()\n",
    "\n",
    "if not os.path.exists(\"predictions.pkl\"):\n",
    "    predictions = {}\n",
    "else:\n",
    "    with open(\"predictions.pkl\", \"rb\") as f:\n",
    "        predictions = pickle.load(f)\n",
    "\n",
    "for user_id in tqdm.tqdm(train_user_item.index.tolist()):\n",
    "    \n",
    "    if str(user_id) in predictions:\n",
    "        continue\n",
    "    \n",
    "    movies_to_predict = get_movies_to_predict(\n",
    "        user_id=user_id,\n",
    "        test_ratings=test_ratings,\n",
    "    )\n",
    "    \n",
    "    if not movies_to_predict:\n",
    "        continue\n",
    "    \n",
    "    user_history=train_user_histories[user_id]\n",
    "    nearest_user_histories=get_nearest_user_histories(\n",
    "        user_id=user_id,\n",
    "        knn=train_knn,\n",
    "        user_embeddings=train_user_embeddings,\n",
    "        user_histories=train_user_histories,\n",
    "    )\n",
    "    \n",
    "    instruction = get_instruction(\n",
    "        user_history=user_history,\n",
    "        nearest_user_histories=nearest_user_histories,\n",
    "        movies_to_predict=movies_to_predict,\n",
    "    )\n",
    "    \n",
    "    predicted_ratings = predict(instruction)\n",
    "    predictions[user_id] = {\n",
    "        \"predicted_ratings\": predicted_ratings,\n",
    "        \"movies_to_predict\": movies_to_predict\n",
    "    }\n",
    "\n",
    "    with open(\"predictions.pkl\", \"wb\") as f:\n",
    "        pickle.dump(predictions, f)"
   ]
  },
  {
   "cell_type": "code",
   "execution_count": 495,
   "id": "ce4acbbb-0c82-40a4-934e-8e36485da62f",
   "metadata": {},
   "outputs": [],
   "source": [
    "processed_predictions = {}\n",
    "to_raw_user_id = train_ratings.to_raw_uid\n",
    "to_raw_movie_id = train_ratings.to_raw_iid\n",
    "\n",
    "\n",
    "for user_id in predictions.keys():\n",
    "    movies_to_predict = predictions[user_id][\"movies_to_predict\"]\n",
    "    predicted_ratings = predictions[user_id][\"predicted_ratings\"]\n",
    "    \n",
    "    if not isinstance(predicted_ratings, list):\n",
    "        raise Exception(user_id)\n",
    "    \n",
    "    len_movies = len(movies_to_predict)\n",
    "    len_pred = len(predicted_ratings)\n",
    "    \n",
    "    if len_movies > len_pred:\n",
    "        predicted_ratings += [0] * (len_movies - len_pred)\n",
    "        \n",
    "    if len_pred > len_movies:\n",
    "        predicted_ratings = predicted_ratings[:len_movies]\n",
    "        \n",
    "    processed_predictions[to_raw_user_id(user_id)] = {\n",
    "        to_raw_movie_id(movie_id): predicted_rating\n",
    "        for movie_id, predicted_rating in zip(movies_to_predict, predicted_ratings)\n",
    "    }\n",
    "    \n",
    "\n",
    "processed_predictions = [\n",
    "    Prediction(\n",
    "        uid=raw_user_id,\n",
    "        iid=raw_movie_id,\n",
    "        r_ui=rating,\n",
    "        est=processed_predictions[raw_user_id][raw_movie_id],\n",
    "        details={},\n",
    "    )\n",
    "    for raw_user_id, raw_movie_id, rating  in test_ratings\n",
    "    if raw_user_id in processed_predictions and raw_movie_id in processed_predictions[raw_user_id]\n",
    "]"
   ]
  },
  {
   "cell_type": "code",
   "execution_count": 497,
   "id": "2874c529-c34f-4cde-8597-f607c89f59f9",
   "metadata": {},
   "outputs": [
    {
     "name": "stdout",
     "output_type": "stream",
     "text": [
      "RMSE: 1.3855\n",
      "MAE:  1.0230\n"
     ]
    },
    {
     "data": {
      "text/plain": [
       "1.0229663394109396"
      ]
     },
     "execution_count": 497,
     "metadata": {},
     "output_type": "execute_result"
    }
   ],
   "source": [
    "accuracy.rmse(processed_predictions)\n",
    "accuracy.mae(processed_predictions)"
   ]
  },
  {
   "cell_type": "code",
   "execution_count": null,
   "id": "9750d61b-9ce4-47a0-be9a-c7ef6fa78435",
   "metadata": {},
   "outputs": [],
   "source": []
  }
 ],
 "metadata": {
  "kernelspec": {
   "display_name": "Python 3 (ipykernel)",
   "language": "python",
   "name": "python3"
  },
  "language_info": {
   "codemirror_mode": {
    "name": "ipython",
    "version": 3
   },
   "file_extension": ".py",
   "mimetype": "text/x-python",
   "name": "python",
   "nbconvert_exporter": "python",
   "pygments_lexer": "ipython3",
   "version": "3.10.0"
  }
 },
 "nbformat": 4,
 "nbformat_minor": 5
}
