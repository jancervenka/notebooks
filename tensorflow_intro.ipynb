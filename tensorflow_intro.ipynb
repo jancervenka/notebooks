{
 "cells": [
  {
   "cell_type": "markdown",
   "metadata": {},
   "source": [
    "https://www.tensorflow.org/get_started/get_started\n",
    "https://www.tensorflow.org/get_started/mnist/beginners"
   ]
  },
  {
   "cell_type": "code",
   "execution_count": 85,
   "metadata": {
    "collapsed": true
   },
   "outputs": [],
   "source": [
    "import numpy as np\n",
    "import matplotlib.pyplot as plt\n",
    "import tensorflow as tf\n",
    "%matplotlib inline"
   ]
  },
  {
   "cell_type": "markdown",
   "metadata": {},
   "source": [
    "# Tensorflow core (low level API)"
   ]
  },
  {
   "cell_type": "markdown",
   "metadata": {},
   "source": [
    "Two steps:\n",
    "\n",
    "1) building a graph\n",
    "\n",
    "2) running the graph\n",
    "\n",
    "Computational graph is made of nodes each performing a defined operation."
   ]
  },
  {
   "cell_type": "code",
   "execution_count": 9,
   "metadata": {},
   "outputs": [
    {
     "name": "stdout",
     "output_type": "stream",
     "text": [
      "Tensor(\"Const_9:0\", shape=(), dtype=float32)\n"
     ]
    }
   ],
   "source": [
    "n1 = tf.constant(3, dtype = tf.float32) # constant node (no input)\n",
    "n2 = tf.constant(4, dtype = tf.float32)\n",
    "print(n1)"
   ]
  },
  {
   "cell_type": "code",
   "execution_count": 13,
   "metadata": {},
   "outputs": [
    {
     "name": "stdout",
     "output_type": "stream",
     "text": [
      "[3.0, 4.0]\n"
     ]
    }
   ],
   "source": [
    "sesh = tf.Session() # session for executing the graph\n",
    "output = sesh.run([n1, n2])\n",
    "print(output)"
   ]
  },
  {
   "cell_type": "code",
   "execution_count": 16,
   "metadata": {},
   "outputs": [
    {
     "name": "stdout",
     "output_type": "stream",
     "text": [
      "{'n3': <tf.Tensor 'Add_1:0' shape=() dtype=float32>}\n",
      "7.0\n"
     ]
    }
   ],
   "source": [
    "n3 = tf.add(n1, n2) # node adding two values together\n",
    "print({'n3' : n3})\n",
    "output_add = sesh.run(n3)\n",
    "print(output_add)"
   ]
  },
  {
   "cell_type": "code",
   "execution_count": 21,
   "metadata": {},
   "outputs": [
    {
     "name": "stdout",
     "output_type": "stream",
     "text": [
      "4.0\n",
      "[ 3.  4.  9.]\n"
     ]
    }
   ],
   "source": [
    "a = tf.placeholder(tf.float32) # placeholder represents a parametrized input, providing an exact value later\n",
    "b = tf.placeholder(tf.float32)\n",
    "n4 = a + b # equivalent to tf.add(a, b)\n",
    "print(sesh.run(n4, {a : 2, b : 2}))\n",
    "print(sesh.run(n4, {a : [2, 2, 6], b : [1, 2, 3]})) # \"vectorized\" input"
   ]
  },
  {
   "cell_type": "code",
   "execution_count": 23,
   "metadata": {},
   "outputs": [
    {
     "name": "stdout",
     "output_type": "stream",
     "text": [
      "[  9.  12.  27.]\n"
     ]
    }
   ],
   "source": [
    "n5 = (a + b) * 3\n",
    "print(sesh.run(n5, {a : [2, 2, 6], b : [1, 2, 3]}))"
   ]
  },
  {
   "cell_type": "code",
   "execution_count": 37,
   "metadata": {},
   "outputs": [
    {
     "name": "stdout",
     "output_type": "stream",
     "text": [
      "[ 0.          0.30000001  0.60000002  0.90000004]\n"
     ]
    }
   ],
   "source": [
    "w = tf.Variable([ .3], dtype = tf.float32) # varibles represents trainable parameters of a graph (weights, biases etc...)\n",
    "b = tf.Variable([-.3], dtype = tf.float32)\n",
    "x = tf.placeholder(tf.float32) # data input\n",
    "lm = w * x + b # linear model\n",
    "\n",
    "# to initiliaze thev ariables, you run:\n",
    "init = tf.global_variables_initializer()\n",
    "sesh.run(init)\n",
    "\n",
    "# to run the model:\n",
    "print(sesh.run(lm, {x : [1, 2, 3, 4]}))"
   ]
  },
  {
   "cell_type": "code",
   "execution_count": 39,
   "metadata": {},
   "outputs": [
    {
     "name": "stdout",
     "output_type": "stream",
     "text": [
      "23.66\n"
     ]
    }
   ],
   "source": [
    "y = tf.placeholder(tf.float32) # desired values\n",
    "\n",
    "# defining loss function (how far the model and y are apart):\n",
    "squared_deltas = tf.square(lm - y) # squared diffenrences\n",
    "loss = tf.reduce_sum(squared_deltas) # sum to get a scalar output value\n",
    "\n",
    "print(sesh.run(loss, {x : [1, 2, 3, 4], y : [0, -1, -2, -3]})) # loss value for y = [0, -1, -2, -3]"
   ]
  },
  {
   "cell_type": "code",
   "execution_count": 46,
   "metadata": {},
   "outputs": [
    {
     "name": "stdout",
     "output_type": "stream",
     "text": [
      "[array([-1.], dtype=float32), array([ 1.], dtype=float32)]\n",
      "0.0\n"
     ]
    }
   ],
   "source": [
    "w_new = tf.assign(w, [-1]) # change the parameters\n",
    "b_new = tf.assign(b, [ 1]) \n",
    "print(sesh.run([w_new, b_new]))\n",
    "print(sesh.run(loss, {x: [1, 2, 3, 4], y: [0, -1, -2, -3]})) # new loss"
   ]
  },
  {
   "cell_type": "code",
   "execution_count": 48,
   "metadata": {},
   "outputs": [
    {
     "name": "stdout",
     "output_type": "stream",
     "text": [
      "[array([-0.9999969], dtype=float32), array([ 0.99999082], dtype=float32)]\n"
     ]
    }
   ],
   "source": [
    "# train to optimize the loss function\n",
    "learning_rate = 0.01\n",
    "# automatically computes the partial derivatives from the model description\n",
    "optimizer = tf.train.GradientDescentOptimizer(learning_rate)\n",
    "train = optimizer.minimize(loss)\n",
    "\n",
    "sesh.run(init) # to reset variables\n",
    "\n",
    "for i in range(1000): # train is connected to the loss, the loss is connected to the lam\n",
    "    sesh.run(train, {x : [1, 2, 3, 4], y : [0, -1, -2, -3]})\n",
    "    \n",
    "print(sesh.run([w, b])) # new parameters"
   ]
  },
  {
   "cell_type": "markdown",
   "metadata": {},
   "source": [
    "# tf.estimator (high level API)"
   ]
  },
  {
   "cell_type": "code",
   "execution_count": 61,
   "metadata": {},
   "outputs": [
    {
     "name": "stdout",
     "output_type": "stream",
     "text": [
      "INFO:tensorflow:Using default config.\n",
      "WARNING:tensorflow:Using temporary folder as model directory: C:\\Users\\Jan\\AppData\\Local\\Temp\\tmpg6fuzpmo\n",
      "INFO:tensorflow:Using config: {'_model_dir': 'C:\\\\Users\\\\Jan\\\\AppData\\\\Local\\\\Temp\\\\tmpg6fuzpmo', '_tf_random_seed': 1, '_save_summary_steps': 100, '_save_checkpoints_secs': 600, '_save_checkpoints_steps': None, '_session_config': None, '_keep_checkpoint_max': 5, '_keep_checkpoint_every_n_hours': 10000, '_log_step_count_steps': 100}\n",
      "INFO:tensorflow:Create CheckpointSaverHook.\n",
      "INFO:tensorflow:Saving checkpoints for 1 into C:\\Users\\Jan\\AppData\\Local\\Temp\\tmpg6fuzpmo\\model.ckpt.\n",
      "INFO:tensorflow:loss = 14.0, step = 1\n",
      "INFO:tensorflow:global_step/sec: 1101.64\n",
      "INFO:tensorflow:loss = 0.158421, step = 101 (0.091 sec)\n",
      "INFO:tensorflow:global_step/sec: 1173.29\n",
      "INFO:tensorflow:loss = 0.0259584, step = 201 (0.086 sec)\n",
      "INFO:tensorflow:global_step/sec: 1135.54\n",
      "INFO:tensorflow:loss = 0.0107812, step = 301 (0.088 sec)\n",
      "INFO:tensorflow:global_step/sec: 1161.86\n",
      "INFO:tensorflow:loss = 0.00192279, step = 401 (0.087 sec)\n",
      "INFO:tensorflow:global_step/sec: 1175.55\n",
      "INFO:tensorflow:loss = 0.000100472, step = 501 (0.085 sec)\n",
      "INFO:tensorflow:global_step/sec: 1152.8\n",
      "INFO:tensorflow:loss = 7.03774e-05, step = 601 (0.087 sec)\n",
      "INFO:tensorflow:global_step/sec: 1134.43\n",
      "INFO:tensorflow:loss = 1.2878e-05, step = 701 (0.087 sec)\n",
      "INFO:tensorflow:global_step/sec: 1263.58\n",
      "INFO:tensorflow:loss = 9.37648e-07, step = 801 (0.080 sec)\n",
      "INFO:tensorflow:global_step/sec: 1218.67\n",
      "INFO:tensorflow:loss = 3.14597e-07, step = 901 (0.083 sec)\n",
      "INFO:tensorflow:Saving checkpoints for 1000 into C:\\Users\\Jan\\AppData\\Local\\Temp\\tmpg6fuzpmo\\model.ckpt.\n",
      "INFO:tensorflow:Loss for final step: 8.52581e-08.\n",
      "INFO:tensorflow:Starting evaluation at 2017-09-14-20:56:41\n",
      "INFO:tensorflow:Restoring parameters from C:\\Users\\Jan\\AppData\\Local\\Temp\\tmpg6fuzpmo\\model.ckpt-1000\n",
      "INFO:tensorflow:Finished evaluation at 2017-09-14-20:56:42\n",
      "INFO:tensorflow:Saving dict for global step 1000: average_loss = 1.38662e-08, global_step = 1000, loss = 5.54647e-08\n",
      "INFO:tensorflow:Starting evaluation at 2017-09-14-20:56:43\n",
      "INFO:tensorflow:Restoring parameters from C:\\Users\\Jan\\AppData\\Local\\Temp\\tmpg6fuzpmo\\model.ckpt-1000\n",
      "INFO:tensorflow:Finished evaluation at 2017-09-14-20:56:43\n",
      "INFO:tensorflow:Saving dict for global step 1000: average_loss = 0.00253582, global_step = 1000, loss = 0.0101433\n",
      "train metrics: {'average_loss': 1.3866169e-08, 'loss': 5.5464675e-08, 'global_step': 1000}\n",
      "eval metrics: {'average_loss': 0.0025358244, 'loss': 0.010143298, 'global_step': 1000}\n"
     ]
    }
   ],
   "source": [
    "# declare list of features, our model has only one numeric feature x, (shape = [1])\n",
    "feature_columns = [tf.feature_column.numeric_column(\"x\", shape = [1])]\n",
    "\n",
    "# estimator is an front end interface\n",
    "estimator = tf.estimator.LinearRegressor(feature_columns = feature_columns)\n",
    "\n",
    "# setting up training and evaluation datasets:\n",
    "x_train = np.array([ 1,     2,    3,  4])\n",
    "y_train = np.array([ 0,    -1,   -2, -3])\n",
    "x_eval  = np.array([ 2,     5,    8,  1])\n",
    "y_eval  = np.array([-1.01, -4.1, -7,  0])\n",
    "\n",
    "# define size of the batches and number of batches (epochs)\n",
    "input_fn = tf.contrib.learn.io.numpy_input_fn({\"x\": x_train}, y_train, batch_size = 4, \n",
    "                                                                       num_epochs = None, \n",
    "                                                                       shuffle = True)\n",
    "\n",
    "train_input_fn = tf.contrib.learn.io.numpy_input_fn({\"x\": x_train}, y_train, batch_size = 4, \n",
    "                                                                             num_epochs = 1000, \n",
    "                                                                             shuffle = False)\n",
    "\n",
    "eval_input_fn = tf.contrib.learn.io.numpy_input_fn({\"x\": x_eval}, y_eval, batch_size = 4, \n",
    "                                                                          num_epochs = 1000, \n",
    "                                                                          shuffle = False)\n",
    "# train for 1000 steps\n",
    "estimator.train(input_fn=input_fn, steps = 1000)\n",
    "\n",
    "# evaluate the results\n",
    "train_metrics = estimator.evaluate(input_fn=train_input_fn)\n",
    "eval_metrics = estimator.evaluate(input_fn=eval_input_fn)\n",
    "print(\"train metrics: \" + str(train_metrics))\n",
    "print(\"eval metrics: \" + str(eval_metrics))"
   ]
  },
  {
   "cell_type": "markdown",
   "metadata": {},
   "source": [
    "# MNIST"
   ]
  },
  {
   "cell_type": "code",
   "execution_count": 62,
   "metadata": {},
   "outputs": [
    {
     "name": "stdout",
     "output_type": "stream",
     "text": [
      "Successfully downloaded train-images-idx3-ubyte.gz 9912422 bytes.\n",
      "Extracting MNIST_data/train-images-idx3-ubyte.gz\n",
      "Successfully downloaded train-labels-idx1-ubyte.gz 28881 bytes.\n",
      "Extracting MNIST_data/train-labels-idx1-ubyte.gz\n",
      "Successfully downloaded t10k-images-idx3-ubyte.gz 1648877 bytes.\n",
      "Extracting MNIST_data/t10k-images-idx3-ubyte.gz\n",
      "Successfully downloaded t10k-labels-idx1-ubyte.gz 4542 bytes.\n",
      "Extracting MNIST_data/t10k-labels-idx1-ubyte.gz\n"
     ]
    }
   ],
   "source": [
    "# get the data\n",
    "from tensorflow.examples.tutorials.mnist import input_data\n",
    "mnist = input_data.read_data_sets(\"MNIST_data/\", one_hot = True)"
   ]
  },
  {
   "cell_type": "code",
   "execution_count": 82,
   "metadata": {},
   "outputs": [
    {
     "name": "stdout",
     "output_type": "stream",
     "text": [
      "[ 0.  0.  0.  0.  0.  0.  0.  0.  1.  0.]\n",
      "784\n",
      "0.151681\n"
     ]
    }
   ],
   "source": [
    "# mnist.train.images (x) 55000 x 784 tensor\n",
    "# mnist.train.labels (y) 55000 x  10 tensor\n",
    "print(mnist.train.labels[5]) # 1 at index 8: digit eight \"one-hot vector\"\n",
    "print(len(mnist.train.images[1])) # 784: 28 by 28 flattened\n",
    "print(mnist.train.images[1].mean()) # mean pixel intensity (1 == 255)"
   ]
  },
  {
   "cell_type": "code",
   "execution_count": 89,
   "metadata": {},
   "outputs": [
    {
     "data": {
      "image/png": "[encoded data removed]",
      "text/plain": [
       "<matplotlib.figure.Figure at 0x24900302e48>"
      ]
     },
     "metadata": {},
     "output_type": "display_data"
    }
   ],
   "source": [
    "plt.imshow(np.resize(mnist.train.images[1], [28, 28]))\n",
    "plt.show()"
   ]
  },
  {
   "cell_type": "code",
   "execution_count": 91,
   "metadata": {
    "collapsed": true
   },
   "outputs": [],
   "source": [
    "# input is an array of any length (None) containing arrays of length 784\n",
    "x = tf.placeholder(tf.float32, [None, 784])\n",
    "\n",
    "# weights and biases\n",
    "w = tf.Variable(tf.zeros([784, 10])) # 784 weights (for each pixel) for each digit\n",
    "b = tf.Variable(tf.zeros([10])) # one bias for each digiht\n",
    "\n",
    "# wx + b produces [10] 1-D tensor for each image\n",
    "y = tf.nn.softmax(tf.matmul(x, w) + b) # matmul is matrix multiplication\n",
    "\n",
    "# loss function is cross-entropy\n",
    "y_ = tf.placeholder(tf.float32, [None, 10])\n",
    "cross_entropy = tf.reduce_mean(-tf.reduce_sum(y_ * tf.log(y), reduction_indices = [1]))\n",
    "train_step = tf.train.GradientDescentOptimizer(0.5).minimize(cross_entropy)"
   ]
  },
  {
   "cell_type": "code",
   "execution_count": 98,
   "metadata": {},
   "outputs": [],
   "source": [
    "sesh = tf.InteractiveSession()\n",
    "tf.global_variables_initializer().run()\n",
    "for _ in range(1000):\n",
    "  batch_xs, batch_ys = mnist.train.next_batch(100) # get new batches for x, and y\n",
    "  sesh.run(train_step, feed_dict = {x : batch_xs, y_ : batch_ys})"
   ]
  },
  {
   "cell_type": "code",
   "execution_count": 109,
   "metadata": {},
   "outputs": [
    {
     "name": "stdout",
     "output_type": "stream",
     "text": [
      "0.9161\n"
     ]
    }
   ],
   "source": [
    "estimate = tf.argmax(y, 1) # index (digit) with highest probability for each image (argmax alongside dim 1 of tensor y)\n",
    "true = tf.argmax(y_, 1) # true labels\n",
    "correct_prediction = tf.equal(true, estimate)\n",
    "accuracy = tf.reduce_mean(tf.cast(correct_prediction, tf.float32))\n",
    "print(sesh.run(accuracy, feed_dict = {x : mnist.test.images, y_ : mnist.test.labels}))"
   ]
  }
 ],
 "metadata": {
  "kernelspec": {
   "display_name": "Python 3",
   "language": "python",
   "name": "python3"
  },
  "language_info": {
   "codemirror_mode": {
    "name": "ipython",
    "version": 3
   },
   "file_extension": ".py",
   "mimetype": "text/x-python",
   "name": "python",
   "nbconvert_exporter": "python",
   "pygments_lexer": "ipython3",
   "version": "3.6.2"
  }
 },
 "nbformat": 4,
 "nbformat_minor": 2
}
