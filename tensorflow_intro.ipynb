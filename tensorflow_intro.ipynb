{
 "cells": [
  {
   "cell_type": "markdown",
   "metadata": {},
   "source": [
    "https://www.tensorflow.org/get_started/get_started\n",
    "https://www.tensorflow.org/get_started/mnist/beginners"
   ]
  },
  {
   "cell_type": "code",
   "execution_count": 2,
   "metadata": {
    "collapsed": true
   },
   "outputs": [],
   "source": [
    "import numpy as np\n",
    "import pandas as pd\n",
    "import tensorflow as tf"
   ]
  },
  {
   "cell_type": "markdown",
   "metadata": {},
   "source": [
    "Two steps:\n",
    "\n",
    "1) building a graph\n",
    "\n",
    "2) running the graph\n",
    "\n",
    "Computational graph is made of nodes each performing a defined operation."
   ]
  },
  {
   "cell_type": "code",
   "execution_count": 9,
   "metadata": {},
   "outputs": [
    {
     "name": "stdout",
     "output_type": "stream",
     "text": [
      "Tensor(\"Const_9:0\", shape=(), dtype=float32)\n"
     ]
    }
   ],
   "source": [
    "n1 = tf.constant(3, dtype = tf.float32) # constant node (no input)\n",
    "n2 = tf.constant(4, dtype = tf.float32)\n",
    "print(n1)"
   ]
  },
  {
   "cell_type": "code",
   "execution_count": 13,
   "metadata": {},
   "outputs": [
    {
     "name": "stdout",
     "output_type": "stream",
     "text": [
      "[3.0, 4.0]\n"
     ]
    }
   ],
   "source": [
    "sesh = tf.Session() # session for executing the graph\n",
    "output = sesh.run([n1, n2])\n",
    "print(output)"
   ]
  },
  {
   "cell_type": "code",
   "execution_count": 16,
   "metadata": {},
   "outputs": [
    {
     "name": "stdout",
     "output_type": "stream",
     "text": [
      "{'n3': <tf.Tensor 'Add_1:0' shape=() dtype=float32>}\n",
      "7.0\n"
     ]
    }
   ],
   "source": [
    "n3 = tf.add(n1, n2) # node adding two values together\n",
    "print({'n3' : n3})\n",
    "output_add = sesh.run(n3)\n",
    "print(output_add)"
   ]
  },
  {
   "cell_type": "code",
   "execution_count": 21,
   "metadata": {},
   "outputs": [
    {
     "name": "stdout",
     "output_type": "stream",
     "text": [
      "4.0\n",
      "[ 3.  4.  9.]\n"
     ]
    }
   ],
   "source": [
    "a = tf.placeholder(tf.float32) # placeholder represents a parametrized input, providing an exact value later\n",
    "b = tf.placeholder(tf.float32)\n",
    "n4 = a + b # equivalent to tf.add(a, b)\n",
    "print(sesh.run(n4, {a : 2, b : 2}))\n",
    "print(sesh.run(n4, {a : [2, 2, 6], b : [1, 2, 3]})) # \"vectorized\" input"
   ]
  },
  {
   "cell_type": "code",
   "execution_count": 23,
   "metadata": {},
   "outputs": [
    {
     "name": "stdout",
     "output_type": "stream",
     "text": [
      "[  9.  12.  27.]\n"
     ]
    }
   ],
   "source": [
    "n5 = (a + b) * 3\n",
    "print(sesh.run(n5, {a : [2, 2, 6], b : [1, 2, 3]}))"
   ]
  },
  {
   "cell_type": "code",
   "execution_count": 37,
   "metadata": {},
   "outputs": [
    {
     "name": "stdout",
     "output_type": "stream",
     "text": [
      "[ 0.          0.30000001  0.60000002  0.90000004]\n"
     ]
    }
   ],
   "source": [
    "w = tf.Variable([ .3], dtype = tf.float32) # varibles represents trainable parameters of a graph (weights, biases etc...)\n",
    "b = tf.Variable([-.3], dtype = tf.float32)\n",
    "x = tf.placeholder(tf.float32) # data input\n",
    "lm = w * x + b # linear model\n",
    "\n",
    "# to initiliaze thev ariables, you run:\n",
    "init = tf.global_variables_initializer()\n",
    "sesh.run(init)\n",
    "\n",
    "# to run the model:\n",
    "print(sesh.run(lm, {x : [1, 2, 3, 4]}))"
   ]
  },
  {
   "cell_type": "code",
   "execution_count": 39,
   "metadata": {},
   "outputs": [
    {
     "name": "stdout",
     "output_type": "stream",
     "text": [
      "23.66\n"
     ]
    }
   ],
   "source": [
    "y = tf.placeholder(tf.float32) # desired values\n",
    "\n",
    "# defining loss function (how far the model and y are apart):\n",
    "squared_deltas = tf.square(lm - y) # squared diffenrences\n",
    "loss = tf.reduce_sum(squared_deltas) # sum to get a scalar output value\n",
    "\n",
    "print(sesh.run(loss, {x : [1, 2, 3, 4], y : [0, -1, -2, -3]})) # loss value for y = [0, -1, -2, -3]"
   ]
  },
  {
   "cell_type": "code",
   "execution_count": 46,
   "metadata": {},
   "outputs": [
    {
     "name": "stdout",
     "output_type": "stream",
     "text": [
      "[array([-1.], dtype=float32), array([ 1.], dtype=float32)]\n",
      "0.0\n"
     ]
    }
   ],
   "source": [
    "w_new = tf.assign(w, [-1]) # change the parameters\n",
    "b_new = tf.assign(b, [ 1]) \n",
    "print(sesh.run([w_new, b_new]))\n",
    "print(sesh.run(loss, {x: [1, 2, 3, 4], y: [0, -1, -2, -3]})) # new loss"
   ]
  },
  {
   "cell_type": "code",
   "execution_count": 48,
   "metadata": {},
   "outputs": [
    {
     "name": "stdout",
     "output_type": "stream",
     "text": [
      "[array([-0.9999969], dtype=float32), array([ 0.99999082], dtype=float32)]\n"
     ]
    }
   ],
   "source": [
    "# train to optimize the loss function\n",
    "learning_rate = 0.01\n",
    "# automatically computes the partial derivatives from the model description\n",
    "optimizer = tf.train.GradientDescentOptimizer(learning_rate)\n",
    "train = optimizer.minimize(loss)\n",
    "\n",
    "sesh.run(init) # to reset variables\n",
    "\n",
    "for i in range(1000): # train is connected to the loss, the loss is connected to the lam\n",
    "    sesh.run(train, {x : [1, 2, 3, 4], y : [0, -1, -2, -3]})\n",
    "    \n",
    "print(sesh.run([w, b])) # new parameters"
   ]
  },
  {
   "cell_type": "code",
   "execution_count": null,
   "metadata": {
    "collapsed": true
   },
   "outputs": [],
   "source": []
  }
 ],
 "metadata": {
  "kernelspec": {
   "display_name": "Python 3",
   "language": "python",
   "name": "python3"
  },
  "language_info": {
   "codemirror_mode": {
    "name": "ipython",
    "version": 3
   },
   "file_extension": ".py",
   "mimetype": "text/x-python",
   "name": "python",
   "nbconvert_exporter": "python",
   "pygments_lexer": "ipython3",
   "version": "3.6.2"
  }
 },
 "nbformat": 4,
 "nbformat_minor": 2
}
