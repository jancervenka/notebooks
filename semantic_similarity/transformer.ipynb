{
 "cells": [
  {
   "cell_type": "code",
   "execution_count": 18,
   "metadata": {},
   "outputs": [],
   "source": [
    "import random\n",
    "import numpy as np\n",
    "import pandas as pd\n",
    "import joblib\n",
    "from functools import partial\n",
    "from sentence_transformers import SentenceTransformer, util\n",
    "from sklearn.neighbors import NearestNeighbors, KDTree\n",
    "from utils import process_doc, show_example\n",
    "from datasets import load_dataset\n",
    "\n",
    "MODEL_NAME = 'paraphrase-xlm-r-multilingual-v1'\n",
    "pd.options.display.max_colwidth = 500\n",
    "\n",
    "N_SAMPLES = 11_000\n",
    "MIN_DOC_LEN = 10\n",
    "np.random.seed(0)\n",
    "random.seed(0)"
   ]
  },
  {
   "cell_type": "code",
   "execution_count": 10,
   "metadata": {},
   "outputs": [],
   "source": [
    "model = SentenceTransformer(MODEL_NAME)"
   ]
  },
  {
   "cell_type": "code",
   "execution_count": 11,
   "metadata": {},
   "outputs": [
    {
     "name": "stderr",
     "output_type": "stream",
     "text": [
      "Reusing dataset amazon_polarity (/home/honza/.cache/huggingface/datasets/amazon_polarity/amazon_polarity/3.0.0/ac31acedf6cda6bc2aa50d448f48bbad69a3dd8efc607d2ff1a9e65c2476b4c1)\n"
     ]
    }
   ],
   "source": [
    "reviews = load_dataset('amazon_polarity')['test']['content']\n",
    "reviews = random.sample(\n",
    "    list(filter(lambda x: len(x.split(' ')) > MIN_DOC_LEN, reviews)),\n",
    "    k=N_SAMPLES\n",
    ")"
   ]
  },
  {
   "cell_type": "code",
   "execution_count": 12,
   "metadata": {},
   "outputs": [],
   "source": [
    "def transform_doc(doc, model):\n",
    "    processed_doc = process_doc(doc, tokenize=False)\n",
    "    return model.encode(processed_doc)"
   ]
  },
  {
   "cell_type": "code",
   "execution_count": 13,
   "metadata": {},
   "outputs": [],
   "source": [
    "review_embeddings = np.vstack(\n",
    "    [\n",
    "        transform_doc(doc, model)\n",
    "        for doc in reviews\n",
    "    ]\n",
    ")"
   ]
  },
  {
   "cell_type": "code",
   "execution_count": 19,
   "metadata": {},
   "outputs": [],
   "source": [
    "with open('embeddings.joblib', 'wb') as f:\n",
    "    joblib.dump(review_embeddings, f)"
   ]
  },
  {
   "cell_type": "code",
   "execution_count": 24,
   "metadata": {},
   "outputs": [],
   "source": [
    "with open('embeddings.joblib', 'rb') as f:\n",
    "    np.testing.assert_array_equal(review_embeddings, joblib.load(f))"
   ]
  },
  {
   "cell_type": "code",
   "execution_count": 14,
   "metadata": {},
   "outputs": [
    {
     "data": {
      "text/plain": [
       "NearestNeighbors(metric='cosine', n_neighbors=10)"
      ]
     },
     "execution_count": 14,
     "metadata": {},
     "output_type": "execute_result"
    }
   ],
   "source": [
    "knn = NearestNeighbors(n_neighbors=10, metric='cosine')\n",
    "knn.fit(review_embeddings)"
   ]
  },
  {
   "cell_type": "code",
   "execution_count": 16,
   "metadata": {},
   "outputs": [
    {
     "data": {
      "text/html": [
       "\n",
       "        <h2>Document:</h2>\n",
       "        <p style=\"font-size:10pt\">One of the contractors on our house was using one of these and I thought it worked splendidly so I searched a long time before I was able to find one online. I am so pleased with it. It is lightweight and very powerful. Stairs are a breeze. The only thing that is missing is that it did not come with the attachments we really need like the upholstery brush and bare floor attachment. And when you use one of the smaller attachments that is connected to the brush you lose most of the suction. I haven't figured out why yet. But I highly recommend this vacuum over any other I have tried. And I HATE to vacuum.</p>\n",
       "        <h2>Suggestions:</h2>\n",
       "        <table border=\"1\" class=\"dataframe\">\n",
       "  <thead>\n",
       "    <tr style=\"text-align: right;\">\n",
       "      <th>text</th>\n",
       "      <th>cosine</th>\n",
       "    </tr>\n",
       "  </thead>\n",
       "  <tbody>\n",
       "    <tr>\n",
       "      <td>I own a small residential cleaning company and bought two of these. They worked great on carpet, and they look pretty cool, too. Easy to open to get rid of the dirt and debris and not too loud. But both broke within 2 months. Both of the hoses pulled away (fixed with a hose clamp) and the way the debris container fits into the body of the vacuum - you have to tilt it very slightly then pull it out - it was a given that someone was going to pull it straight out and break off the little plastic piece eventually - which they did. Going for something a little more substantial next time, although I think these might be good for someone with mostly carpeting, who lived in a ranch-style house with only one floor (a bit heavy to carry up stairs).</td>\n",
       "      <td>0.352959</td>\n",
       "    </tr>\n",
       "    <tr>\n",
       "      <td>This is an excellent vacuum for those with only a few rooms of carpeting, especially if those rooms are spread across more than one floor of the house. It's nice and portable and easy to carry from room to room and up and down stairs. Also works very well. Perfect for a smaller residence or a house with only a few carpeted rooms.I am very disappointed in the quality, however. The handle is already shot after only a couple of years of very light use, such that it doesn't fold down anymore. The telescoping portion also sometimes doesn't lock. The cord winder doesn't work very well either. Not the quality I expected from Electrolux especially at this price.The bags are small, as others have noted, so don't expect to be using it a lot if you don't want to pay through the nose replacing the bags.</td>\n",
       "      <td>0.368726</td>\n",
       "    </tr>\n",
       "    <tr>\n",
       "      <td>This vacuum was recommended by Consumer Reports. It is the worst product I have ever owned. I have new carpet and own 3 dogs. The internal pipes of the vacuum would clog after 3 swipes over my carpet. The filter system over the canister is where the problem starts. The canister is also very difficult to empty. It is designed so the user must reach INTO the dirt that is collected in order to turn a nob to free most of the remaining dirt!! Dust goes everywhere: in the air, in your lungs, on your clothes, in the air and back into the house!If you need a heavy duty vacuum, theBissell 5770 Healthy Home Bagless Upright Vacuumis a much better buy in every way.</td>\n",
       "      <td>0.401649</td>\n",
       "    </tr>\n",
       "    <tr>\n",
       "      <td>I purchased this vacuum based on the (mostly) good remarks here on Amazon and also due to the high rating by Consumer Reports.I'll start off with the positives. I thought it was very easy to push even with the carpet setting set to low pile. It is very quiet compared to my older Hoover vacuum. The cord is nice and long too.Now the negatives. Well, there is really only one negative. I have two short hair cats who shed a normal amount. When vacuuming, most of the hair FAILS TO GO INTO THE BAG and gets blown into the compartment which holds the bag. So when you go to change the bag, there is a mess of hair and dirt to greet you. Total junk. I called my local vacuum repair shop to see what can be done and he advised me to return it ASAP since he's been flooded with the Windtunnel 2 complaints. This ain't your mother's Hoover. It's shameful how a good company turned horrible.</td>\n",
       "      <td>0.414536</td>\n",
       "    </tr>\n",
       "    <tr>\n",
       "      <td>I have owned this vacuum for about 3 or 4 years. When I first got it, I was extremely happy. That only lasted for a short while. This vacuum clogs easy and takes tons of time to take care of. There is a filter that you have to replace that is a pain to find in stores, you constantly have to clean the other filter by hand (gross), and it's heavier than most vacuums that I have owned. The duster on mine stopped working about a year after purchase. What are the upsides? Well, that will be when I can afford to replace this thing.</td>\n",
       "      <td>0.417436</td>\n",
       "    </tr>\n",
       "    <tr>\n",
       "      <td>This is a great little vacuum! I needed something easy to get out everyday to pick up after 2 young kids, a cat &amp; a dog- it picks up just about everything I need it too, including the pet hair &amp; cheerios! It is very versatile, I use on hard wood, carpet in bedrooms, area rugs &amp; even tile floors! The head is great to reach under &amp; around furniture. So glad I found this so I don't have to drag out the big vac, broom &amp; dust pan all around the house. I also really appreciate the bagless aspect, it is pretty easy to dump without throwing dust all around. The only draw back is the cord does seem a little short, but I suppose I can get an extension cord. It still beats the cordless vacs that you must have to keep charged- never worked for me.</td>\n",
       "      <td>0.423371</td>\n",
       "    </tr>\n",
       "    <tr>\n",
       "      <td>Well, you get what you pay for. This was exactly what I needed for my little 800 sq ft apt. I have hairy pets, so I wanted a small vacuum with a rotating brush- usually the smaller vacuums just suck and don't have the brush so they don't pick up pet hair off of rugs. After my first run through with this vacuum, I was disgusted to see how much hair and dirt my old vacuum hadn't picked up... and pleased to see how clean my rugs finally got :) No more hair stuck to the rugs! Hurray! I gave it a 4 star rating because the suction just isn't as powerful as my old vacuum. Oh well, guess you can't have the best of both worlds (especially for $50). Overall, it gets the job done just fine- it is small, lightweight, and easy to use/ dispose of dirt and hair. I would not recommend this vacuum to someone with a large house- it would be way too small. But just right for a cozy little living space :)</td>\n",
       "      <td>0.426334</td>\n",
       "    </tr>\n",
       "    <tr>\n",
       "      <td>Like a previous reviewer mentioned, one of the main attachments(one that connect the vacuum to any of the small suction pieces) has holes that cannot be closed thanks to a design flaw. However, I just taped the holes and it works correctly. Another bad thing about this product is the long tube. It's very hard to take out after you've put it in any of the suction pieces. I managed to make it work for my intended purposes. Side note: I have the Eureka Hand-Held Vacuum, 71B.</td>\n",
       "      <td>0.432030</td>\n",
       "    </tr>\n",
       "    <tr>\n",
       "      <td>Okay, so it wasn't the most romantic gift I've ever received, but it sure is one of the most useful.This little sweeper makes quick pick-ups so easy, and I really enjoy the fact that it is very lightweight. Sure beats dragging out the big vacuum!By the way, you WILL need to bring out the big vacuum if you have heavy-duty cleaning to do. As I said, this is for quick pick-ups. (Which is why I gave it four-stars, I was hoping it would be able to handle the heavy stuff.)Maybe mom would like one for mother's day? She won't be swept off her feet, but she'll enjoy sweeping the floors much more! ;)</td>\n",
       "      <td>0.445363</td>\n",
       "    </tr>\n",
       "  </tbody>\n",
       "</table>\n",
       "    "
      ],
      "text/plain": [
       "<IPython.core.display.HTML object>"
      ]
     },
     "metadata": {},
     "output_type": "display_data"
    }
   ],
   "source": [
    "show_example(\n",
    "    i=0,\n",
    "    docs=reviews,\n",
    "    p_transform_doc=partial(\n",
    "        transform_doc,\n",
    "        model=model,\n",
    "    ),\n",
    "    knn=knn,\n",
    ")"
   ]
  }
 ],
 "metadata": {
  "kernelspec": {
   "display_name": "airbus",
   "language": "python",
   "name": "airbus"
  },
  "language_info": {
   "codemirror_mode": {
    "name": "ipython",
    "version": 3
   },
   "file_extension": ".py",
   "mimetype": "text/x-python",
   "name": "python",
   "nbconvert_exporter": "python",
   "pygments_lexer": "ipython3",
   "version": "3.7.5"
  }
 },
 "nbformat": 4,
 "nbformat_minor": 4
}
