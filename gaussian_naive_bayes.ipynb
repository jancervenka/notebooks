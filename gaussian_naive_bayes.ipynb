{
 "cells": [
  {
   "cell_type": "code",
   "execution_count": 160,
   "metadata": {},
   "outputs": [],
   "source": [
    "import pandas as pd\n",
    "import seaborn as sns\n",
    "import numpy as np\n",
    "import matplotlib.pyplot as plt\n",
    "from sklearn.model_selection import train_test_split\n",
    "from sklearn.naive_bayes import GaussianNB\n",
    "%matplotlib inline"
   ]
  },
  {
   "cell_type": "code",
   "execution_count": 54,
   "metadata": {},
   "outputs": [],
   "source": [
    "iris = sns.load_dataset('iris')\n",
    "\n",
    "iris_train, iris_test = train_test_split(iris)"
   ]
  },
  {
   "cell_type": "code",
   "execution_count": 16,
   "metadata": {},
   "outputs": [],
   "source": [
    "def normal_density(x, mean, var):\n",
    "    return (1 / np.sqrt(2 * np.pi * var)) * np.exp(-(x - mean) ** 2 / (2 * var))"
   ]
  },
  {
   "cell_type": "code",
   "execution_count": 146,
   "metadata": {},
   "outputs": [],
   "source": [
    "stats_train = iris_train.groupby(['species']).agg([np.mean, np.var])\n",
    "stats_test = iris_test.groupby(['species']).agg([np.mean, np.var])"
   ]
  },
  {
   "cell_type": "code",
   "execution_count": 155,
   "metadata": {},
   "outputs": [],
   "source": [
    "def get_posterior(sample, stats, species):\n",
    "    mask = stats.index == species\n",
    "    features = stats.columns.levels[0].values\n",
    "    p = [normal_density(sample[i],\n",
    "                        stats[mask][feature].values[0, 0],\n",
    "                        stats[mask][feature].values[0, 1])\n",
    "         for i, feature in enumerate(features)]\n",
    "    \n",
    "    P = np.sum(mask) / len(stats)\n",
    "    \n",
    "    return P * np.prod(p)\n",
    "\n",
    "def classify(sample, stats):\n",
    "    posteriors = [(species, get_posterior(sample, stats, species))\n",
    "                  for species in stats.index.values]\n",
    "    \n",
    "    result = np.argmax(list(map(lambda x: x[1], posteriors)))\n",
    "    return posteriors[result]"
   ]
  },
  {
   "cell_type": "code",
   "execution_count": 156,
   "metadata": {},
   "outputs": [
    {
     "name": "stdout",
     "output_type": "stream",
     "text": [
      "1.0\n"
     ]
    }
   ],
   "source": [
    "result = pd.DataFrame({\n",
    "    'result' : iris_test.apply(\n",
    "        lambda r: classify(r.values, stats_test)[0], axis = 1).values,\n",
    "    'target' : iris_test['species']})\n",
    "\n",
    "success_rate = sum(np.equal(result['result'].values, \n",
    "                            result['target'].values)) / len(result)\n",
    "\n",
    "print(success_rate)"
   ]
  },
  {
   "cell_type": "code",
   "execution_count": 159,
   "metadata": {},
   "outputs": [],
   "source": [
    "features = ['sepal_length', 'sepal_width', 'petal_length', 'petal_width']\n",
    "y_train = iris_train['species'].values\n",
    "X_train = iris_train[features].as_matrix()\n",
    "\n",
    "y_test = iris_test['species'].values\n",
    "X_test = iris_test[features].as_matrix()"
   ]
  },
  {
   "cell_type": "code",
   "execution_count": 162,
   "metadata": {},
   "outputs": [],
   "source": [
    "model = GaussianNB()\n",
    "model.fit(X_train, y_train)\n",
    "y_pred = model.predict(X_test)"
   ]
  },
  {
   "cell_type": "code",
   "execution_count": 167,
   "metadata": {},
   "outputs": [
    {
     "data": {
      "text/plain": [
       "1.0"
      ]
     },
     "execution_count": 167,
     "metadata": {},
     "output_type": "execute_result"
    }
   ],
   "source": [
    "sum(np.equal(y_pred, y_test)) / len(y_pred)"
   ]
  },
  {
   "cell_type": "code",
   "execution_count": 168,
   "metadata": {},
   "outputs": [
    {
     "data": {
      "text/plain": [
       "True"
      ]
     },
     "execution_count": 168,
     "metadata": {},
     "output_type": "execute_result"
    }
   ],
   "source": [
    "np.equal(y_pred, result['result'].values).all()"
   ]
  }
 ],
 "metadata": {
  "kernelspec": {
   "display_name": "Python 3",
   "language": "python",
   "name": "python3"
  },
  "language_info": {
   "codemirror_mode": {
    "name": "ipython",
    "version": 3
   },
   "file_extension": ".py",
   "mimetype": "text/x-python",
   "name": "python",
   "nbconvert_exporter": "python",
   "pygments_lexer": "ipython3",
   "version": "3.7.6"
  }
 },
 "nbformat": 4,
 "nbformat_minor": 4
}
