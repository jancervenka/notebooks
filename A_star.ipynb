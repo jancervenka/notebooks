{
 "cells": [
  {
   "cell_type": "code",
   "execution_count": 102,
   "id": "d5deee48-d4cd-4c67-ba19-2bef621f4234",
   "metadata": {},
   "outputs": [],
   "source": [
    "import random\n",
    "from typing import List, Optional, Dict\n",
    "from itertools import product\n",
    "from collections import namedtuple, defaultdict\n",
    "\n",
    "import matplotlib.pyplot as plt\n",
    "\n",
    "%matplotlib inline"
   ]
  },
  {
   "cell_type": "code",
   "execution_count": 103,
   "id": "e8eaef07-bcbe-403c-96f5-84ebd0021ae4",
   "metadata": {},
   "outputs": [],
   "source": [
    "inf = float(\"inf\")\n",
    "Node = namedtuple(\"Node\", (\"x\", \"y\"))\n",
    "\n",
    "\n",
    "class World:\n",
    "    \n",
    "    def __init__(self, size: int, alpha: float = 0.05, seed: int = 0):\n",
    "        \n",
    "        random.seed(seed)\n",
    "        self.size = size\n",
    "        self.data = [\n",
    "            [random.random() > alpha for _ in range(size)] for _ in range(size)\n",
    "        ]\n",
    "        \n",
    "    def __getitem__(self, node: Node) -> bool:\n",
    "        \n",
    "        if 0 <= node.x < self.size and 0 <= node.y < self.size:\n",
    "            return self.data[node.x][node.y]\n",
    "        \n",
    "        return False\n",
    "    \n",
    "    def get_neighbors_of(self, node: Node) -> List[Node]:\n",
    "        neighbors = []\n",
    "        for dx, dy in ((0, 1), (0, -1), (1, 0), (-1, 0)):\n",
    "            candidate = Node(node.x + dx, node.y + dy)\n",
    "            \n",
    "            if self[candidate]:\n",
    "                neighbors.append(candidate)\n",
    "                \n",
    "        return neighbors\n",
    "    \n",
    "    def show(self, path: Optional[List[Node]] = None):\n",
    "        \n",
    "        plot_data = [\n",
    "            [\n",
    "                (255, 255, 255) if val else (0, 0, 0)\n",
    "                for val in row\n",
    "            ]\n",
    "            for row in self.data\n",
    "        ]\n",
    "        \n",
    "        if path:\n",
    "            for node in path:\n",
    "                plot_data[node.x][node.y] = (255, 0, 0)\n",
    "\n",
    "        fig, ax = plt.subplots(1, 1, figsize=(5, 5))\n",
    "        ax.imshow(plot_data, cmap=\"gray\")\n",
    "        plt.show()"
   ]
  },
  {
   "cell_type": "code",
   "execution_count": 128,
   "id": "4b93e351-58e0-4b66-9eb0-c4e03fee4dde",
   "metadata": {},
   "outputs": [],
   "source": [
    "def a_star(start: Node, goal: Node, world: World) -> Optional[List[Node]]:\n",
    "    \n",
    "    def h(n):\n",
    "        return (n.x - goal.x) + (n.y - goal.y)\n",
    "\n",
    "    def reconstruct_path(came_from, current):\n",
    "        path = [current]      \n",
    "        while current in came_from:\n",
    "            current = came_from[current]\n",
    "            path = [current] + path\n",
    "\n",
    "        return path\n",
    "\n",
    "    open_set = {start}\n",
    "    came_from = {}\n",
    "    g_score = defaultdict(lambda: inf)\n",
    "    g_score[start] = 0\n",
    "    \n",
    "    # f(n) = g(n) + h(n)\n",
    "    f_score = defaultdict(lambda: inf)\n",
    "    f_score[start] = h(start)\n",
    "    \n",
    "    while open_set:\n",
    "        # node in open_set with the lowest f-score\n",
    "        current = min(open_set, key=lambda n: f_score[n])\n",
    "        \n",
    "        if current == goal:\n",
    "            return reconstruct_path(came_from, current)\n",
    "        \n",
    "        open_set.remove(current)\n",
    "        for neighbor in world.get_neighbors_of(current):\n",
    "            # d(current, neighbor) = 1 for any current, neighbor\n",
    "            tentative_g_score = g_score[current] + 1\n",
    "            if tentative_g_score < g_score[neighbor]:\n",
    "                # this past to the neighbor is the cheapest so far\n",
    "                came_from[neighbor] = current\n",
    "                g_score[neighbor] = tentative_g_score\n",
    "                f_score[neighbor] = tentative_g_score + h(neighbor)\n",
    "                \n",
    "                if neighbor not in open_set:\n",
    "                    open_set.add(neighbor)\n",
    "                    \n",
    "    return None"
   ]
  },
  {
   "cell_type": "code",
   "execution_count": 129,
   "id": "5775eb01-9ef2-489c-a9ca-f6e50a73a59b",
   "metadata": {},
   "outputs": [],
   "source": [
    "world = World(size=50, seed=0, alpha=0.1)\n",
    "path = a_star(start=Node(0, 0), goal=Node(49, 49), world=world)"
   ]
  },
  {
   "cell_type": "code",
   "execution_count": 130,
   "id": "38d968b9-a0f6-4e42-aeda-62c23932c218",
   "metadata": {},
   "outputs": [
    {
     "data": {
      "image/png": "[encoded data removed]",
      "text/plain": [
       "<Figure size 360x360 with 1 Axes>"
      ]
     },
     "metadata": {
      "needs_background": "light"
     },
     "output_type": "display_data"
    }
   ],
   "source": [
    "world.show(path)"
   ]
  }
 ],
 "metadata": {
  "kernelspec": {
   "display_name": "Python 3 (ipykernel)",
   "language": "python",
   "name": "python3"
  },
  "language_info": {
   "codemirror_mode": {
    "name": "ipython",
    "version": 3
   },
   "file_extension": ".py",
   "mimetype": "text/x-python",
   "name": "python",
   "nbconvert_exporter": "python",
   "pygments_lexer": "ipython3",
   "version": "3.10.0"
  }
 },
 "nbformat": 4,
 "nbformat_minor": 5
}
