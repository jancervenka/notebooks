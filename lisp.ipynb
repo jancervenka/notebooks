{
 "cells": [
  {
   "cell_type": "code",
   "execution_count": 26,
   "id": "387535c4-405f-418c-a54e-9ad1d961d0a4",
   "metadata": {},
   "outputs": [],
   "source": [
    "import math\n",
    "import operator as op\n",
    "# https://norvig.com/lispy.html"
   ]
  },
  {
   "cell_type": "code",
   "execution_count": 28,
   "id": "6613d232-9a30-4960-87dc-24295ded9a68",
   "metadata": {},
   "outputs": [],
   "source": [
    "program = \"(begin (define r 10) (* pi (* r r)))\""
   ]
  },
  {
   "cell_type": "code",
   "execution_count": 68,
   "id": "102624f0-21d7-43ea-8cc7-ea394bf7726a",
   "metadata": {},
   "outputs": [],
   "source": [
    "Symbol = str\n",
    "Number = int | float\n",
    "Atom = Symbol | Number\n",
    "List = list\n",
    "Exp = Atom | list"
   ]
  },
  {
   "cell_type": "code",
   "execution_count": 14,
   "id": "b685e89b-bfeb-4c58-8c1d-22d0379b47db",
   "metadata": {},
   "outputs": [],
   "source": [
    "def tokenize(program: str) -> list[str]:\n",
    "    return (\n",
    "        program\n",
    "        .replace(\"(\", \" ( \")\n",
    "        .replace(\")\", \" ) \")\n",
    "        .split()\n",
    "    )"
   ]
  },
  {
   "cell_type": "code",
   "execution_count": 15,
   "id": "72aa5e52-e508-4528-a2ea-1acf96549d21",
   "metadata": {},
   "outputs": [],
   "source": [
    "def atom(token) -> Atom:\n",
    "    try:\n",
    "        return int(token)\n",
    "    except ValueError:\n",
    "        try:\n",
    "            return float(token)\n",
    "        except ValueError:\n",
    "            return Symbol(token)\n",
    "\n",
    "\n",
    "def read_from_tokens(tokens: list[str]) -> Exp:\n",
    "    if len(tokens) == 0:\n",
    "        raise SyntaxError(\"Unexpected EOF.\")\n",
    "        \n",
    "    token = tokens.pop(0)\n",
    "    if token == \"(\":\n",
    "        # read a sub expression\n",
    "        L = []\n",
    "        while tokens[0] != \")\":  # end of the sub expression\n",
    "            L.append(read_from_tokens(tokens))  # tokens are mutated\n",
    "\n",
    "        tokens.pop(0) # pop the ending \")\" of the sub expression\n",
    "        return L\n",
    "                     \n",
    "    if token == \")\":\n",
    "        raise SyntaxError(\"Unexpected ).\")\n",
    "                     \n",
    "    return atom(token)"
   ]
  },
  {
   "cell_type": "code",
   "execution_count": 18,
   "id": "e2a5937e-c685-427c-ab07-4b5093661d58",
   "metadata": {},
   "outputs": [],
   "source": [
    "def parse(program: str) -> Exp:\n",
    "    tokens = tokenize(program)\n",
    "    return read_from_tokens(tokens)"
   ]
  },
  {
   "cell_type": "code",
   "execution_count": 19,
   "id": "ca45a58b-8025-4b42-aa0b-d7e7e502dcaa",
   "metadata": {},
   "outputs": [
    {
     "data": {
      "text/plain": [
       "['begin', ['define', 'r', 10], ['*', 'pi', ['*', 'r', 'r']]]"
      ]
     },
     "execution_count": 19,
     "metadata": {},
     "output_type": "execute_result"
    }
   ],
   "source": [
    "parse(program)"
   ]
  },
  {
   "cell_type": "code",
   "execution_count": 20,
   "id": "7be2ce0f-53f5-48e9-a535-4796e5f637c2",
   "metadata": {},
   "outputs": [],
   "source": [
    "assert parse(program) == [\"begin\", [\"define\", \"r\", 10], [\"*\", \"pi\", [\"*\", \"r\", \"r\"]]]"
   ]
  },
  {
   "cell_type": "code",
   "execution_count": 115,
   "id": "4b3e145f-8b85-439b-8044-395fa9aa9945",
   "metadata": {},
   "outputs": [],
   "source": [
    "class Env(dict):\n",
    "    \n",
    "    def __init__(\n",
    "        self,\n",
    "        params: tuple[str] = (),\n",
    "        args: tuple = (),\n",
    "        outer: Env | None = None\n",
    "    ):\n",
    "        self.update(zip(params, args))\n",
    "        self.outer = outer\n",
    "        \n",
    "    def find(self, var: str):\n",
    "        # Find the correct environment for `var` \n",
    "        return self if var in self else self.outer.find(var)\n",
    "    \n",
    "    \n",
    "class Procedure:\n",
    "    def __init__(self, params: tuple[str], body: Exp, env: Env):\n",
    "        self.params = params\n",
    "        self.body = body\n",
    "        # global environment if the procedure is at the top level\n",
    "        self.env = env\n",
    "        \n",
    "    def __call__(self, *args) -> Exp:\n",
    "        # calling the procedure create local environment for the call\n",
    "        # connected to the outer \"global\" environment (stored in `self.env`)\n",
    "        return eval_(self.body,  Env(self.params, args, self.env))"
   ]
  },
  {
   "cell_type": "code",
   "execution_count": 116,
   "id": "746cbce2-c2f0-440f-ae34-80166dd216bc",
   "metadata": {},
   "outputs": [],
   "source": [
    "def standard_env() -> Env:\n",
    "    env = Env()\n",
    "    env.update(\n",
    "        {\n",
    "            \"+\": op.add,\n",
    "            \"-\": op.sub,\n",
    "            \"*\": op.mul,\n",
    "            \"/\": op.truediv, \n",
    "            \">\": op.gt,\n",
    "            \"<\": op.lt,\n",
    "            \">=\": op.ge,\n",
    "            \"<=\": op.le,\n",
    "            \"=\": op.eq,\n",
    "            \"abs\": abs,\n",
    "            \"exp\": math.exp,\n",
    "            \"log\": math.log,\n",
    "            \"pi\": math.pi,\n",
    "            \"append\":  op.add,  \n",
    "            \"apply\":   lambda proc, args: proc(*args),\n",
    "            \"begin\":   lambda *x: x[-1],  # returns the value of the last expression\n",
    "            \"car\":     lambda x: x[0],\n",
    "            \"cdr\":     lambda x: x[1:], \n",
    "            \"cons\":    lambda x, y: [x] + y,\n",
    "            \"eq?\":     op.is_, \n",
    "            \"expt\":    pow,\n",
    "            \"equal?\":  op.eq, \n",
    "            \"length\":  len, \n",
    "            \"list\":    lambda *x: List(x), \n",
    "            \"list?\":   lambda x: isinstance(x, List), \n",
    "            \"map\":     map,\n",
    "            \"max\":     max,\n",
    "            \"min\":     min,\n",
    "            \"not\":     op.not_,\n",
    "            \"null?\":   lambda x: x == [], \n",
    "            \"number?\": lambda x: isinstance(x, Number),  \n",
    "            \"print\":   print,\n",
    "            \"procedure?\": callable,\n",
    "            \"round\":   round,\n",
    "            \"symbol?\": lambda x: isinstance(x, Symbol),     \n",
    "        }\n",
    "    )\n",
    "    return env\n",
    "    \n",
    "    \n",
    "global_env = standard_env()"
   ]
  },
  {
   "cell_type": "code",
   "execution_count": 204,
   "id": "a7e5dbdd-67ce-4c12-b79d-e30f0a3a485e",
   "metadata": {},
   "outputs": [],
   "source": [
    "def eval_(exp: Exp, env: Env = global_env) -> Exp:\n",
    "    if isinstance(exp, Symbol):\n",
    "        return env.find(exp)[exp]  # variable reference\n",
    "    elif not isinstance(exp, List):\n",
    "        return exp  # constant\n",
    "    \n",
    "    op, *args = exp\n",
    "    if op == \"quote\":\n",
    "        return args[0]  \n",
    "    elif op == \"if\":\n",
    "        # first element is the if keyword\n",
    "        (test, conseq, alt) = args\n",
    "        exp_to_eval = conseq if eval_(test, env) else alt\n",
    "        return eval_(exp_to_eval, env)\n",
    "    elif op == \"define\":\n",
    "        # first element is the define keyword\n",
    "        (symbol, exp_to_eval) = args\n",
    "        env[symbol] = eval_(exp_to_eval, env)\n",
    "\n",
    "    elif op == \"set!\":\n",
    "        (symbol, exp_to_eval) = args\n",
    "        env.find(symbol)[symbol] = eval_(exp_to_eval, env) \n",
    "    elif op == \"lambda\":\n",
    "        (params, body) = args\n",
    "        return Procedure(params, body, env)\n",
    "    else:\n",
    "        # procedure call\n",
    "        proc = eval_(op, env)\n",
    "        proc_args = [eval_(proc_arg, env) for proc_arg in args]\n",
    "        # if proc is env[\"begin\"]:\n",
    "        #     print(proc_args)\n",
    "        #     print(exp)\n",
    "        return proc(*proc_args)"
   ]
  },
  {
   "cell_type": "code",
   "execution_count": 200,
   "id": "a8c8be53-08fc-4ac1-b4f9-7958734448e8",
   "metadata": {},
   "outputs": [
    {
     "name": "stdout",
     "output_type": "stream",
     "text": [
      "[None, 314.1592653589793]\n",
      "['begin', ['define', 'r', 10], ['*', 'pi', ['*', 'r', 'r']]]\n"
     ]
    }
   ],
   "source": [
    "program = \"(begin (define r 10) (* pi (* r r)))\"\n",
    "assert eval_(parse(program)) == 314.1592653589793"
   ]
  },
  {
   "cell_type": "code",
   "execution_count": 201,
   "id": "0dde24da-36bc-4d59-b1fd-d4d45dbdff55",
   "metadata": {},
   "outputs": [],
   "source": [
    "proc_args = [None, 314.1592653589793]"
   ]
  },
  {
   "cell_type": "code",
   "execution_count": 202,
   "id": "79bd8426-f8ec-4e2c-9432-3ca3a230cff7",
   "metadata": {},
   "outputs": [
    {
     "data": {
      "text/plain": [
       "314.1592653589793"
      ]
     },
     "execution_count": 202,
     "metadata": {},
     "output_type": "execute_result"
    }
   ],
   "source": [
    "global_env[\"begin\"](*proc_args)"
   ]
  },
  {
   "cell_type": "code",
   "execution_count": 205,
   "id": "7f67b09c-32aa-49f3-8007-33a401961a4c",
   "metadata": {},
   "outputs": [
    {
     "data": {
      "text/plain": [
       "28.274333882308138"
      ]
     },
     "execution_count": 205,
     "metadata": {},
     "output_type": "execute_result"
    }
   ],
   "source": [
    "program = \"(define circle-area (lambda (r) (* pi (* r r))))\"\n",
    "eval_(parse(program))\n",
    "eval_(parse(\"(circle-area 3)\"))"
   ]
  },
  {
   "cell_type": "code",
   "execution_count": 207,
   "id": "0a84abfa-4689-4397-b967-2d8c2c4dea5b",
   "metadata": {},
   "outputs": [
    {
     "data": {
      "text/plain": [
       "28.274333882308138"
      ]
     },
     "execution_count": 207,
     "metadata": {},
     "output_type": "execute_result"
    }
   ],
   "source": [
    "program = \"(begin (define circle-area (lambda (r) (* pi (* r r)))) (circle-area 3))\"\n",
    "eval_(parse(program))"
   ]
  }
 ],
 "metadata": {
  "kernelspec": {
   "display_name": "Python 3 (ipykernel)",
   "language": "python",
   "name": "python3"
  },
  "language_info": {
   "codemirror_mode": {
    "name": "ipython",
    "version": 3
   },
   "file_extension": ".py",
   "mimetype": "text/x-python",
   "name": "python",
   "nbconvert_exporter": "python",
   "pygments_lexer": "ipython3",
   "version": "3.10.0"
  }
 },
 "nbformat": 4,
 "nbformat_minor": 5
}
