{
 "cells": [
  {
   "cell_type": "code",
   "execution_count": 3,
   "metadata": {},
   "outputs": [],
   "source": [
    "import sqlite3\n",
    "import pandas as pd"
   ]
  },
  {
   "cell_type": "code",
   "execution_count": 4,
   "metadata": {},
   "outputs": [],
   "source": [
    "users = pd.DataFrame({'name': ['adam', 'eve'], 'pwd': ['1234', '5678']})\n",
    "user_name = \"' OR '1'='1\"\n",
    "\n",
    "query = \"SELECT * FROM users WHERE name = '\" + user_name + \"';\""
   ]
  },
  {
   "cell_type": "code",
   "execution_count": 8,
   "metadata": {},
   "outputs": [
    {
     "name": "stdout",
     "output_type": "stream",
     "text": [
      "   index  name   pwd\n",
      "0      0  adam  1234\n",
      "1      1   eve  5678\n"
     ]
    }
   ],
   "source": [
    "try:\n",
    "    conn = sqlite3.connect('../data/sqltest.sqlite3')\n",
    "    users.to_sql('users', conn, if_exists='replace')\n",
    "    print(pd.read_sql(query, conn))\n",
    "finally:\n",
    "    conn.close()"
   ]
  }
 ],
 "metadata": {
  "kernelspec": {
   "display_name": "Python 3",
   "language": "python",
   "name": "python3"
  },
  "language_info": {
   "codemirror_mode": {
    "name": "ipython",
    "version": 3
   },
   "file_extension": ".py",
   "mimetype": "text/x-python",
   "name": "python",
   "nbconvert_exporter": "python",
   "pygments_lexer": "ipython3",
   "version": "3.7.6"
  }
 },
 "nbformat": 4,
 "nbformat_minor": 4
}
