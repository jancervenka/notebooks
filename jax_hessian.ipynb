{
 "cells": [
  {
   "cell_type": "code",
   "execution_count": 3,
   "id": "08872c78-1213-476e-91b1-e1df9393433a",
   "metadata": {},
   "outputs": [],
   "source": [
    "from jax import jacfwd, jacrev\n",
    "import jax.numpy as jnp"
   ]
  },
  {
   "cell_type": "markdown",
   "id": "0fcf0744-5e31-4c07-b0ef-965d673036d0",
   "metadata": {},
   "source": [
    "### Hessians with JAX\n",
    "\n",
    "https://jax.readthedocs.io/en/latest/notebooks/autodiff_cookbook.html#jacobians-and-hessians-using-jacfwd-and-jacrev"
   ]
  },
  {
   "cell_type": "code",
   "execution_count": 33,
   "id": "ab9b49fc-668f-44a0-9608-b70b82f1d4ee",
   "metadata": {},
   "outputs": [],
   "source": [
    "# jacfwd, jacrev both compute same value.\n",
    "# jacfwd is jusing forward mode difff.\n",
    "# jacrev is using reverse mode diff (backpropagation).\n",
    "\n",
    "def hessian(f):\n",
    "    return jacfwd(jacrev(f))"
   ]
  },
  {
   "cell_type": "markdown",
   "id": "d0eff36b-8e1c-485f-bde0-bbda2091a854",
   "metadata": {},
   "source": [
    "Hessian matrix $\\mathrm{H}_f$ of a function $f(x, y) = 2x + y$ is\n",
    "\n",
    "$$\n",
    "\\mathrm{H}_f =\n",
    "\\begin{pmatrix}\n",
    "    \\frac{\\partial^2 f}{\\partial x^2} & \\frac{\\partial^2 f}{\\partial x \\partial y } \\\\\n",
    "    \\frac{\\partial^2 f}{\\partial y \\partial x} & \\frac{\\partial^2 f}{\\partial y^2} \\\\\n",
    "\\end{pmatrix}\n",
    "=\n",
    "\\begin{pmatrix}\n",
    "    0 & 0 \\\\\n",
    "    0 & 0 \\\\\n",
    "\\end{pmatrix}\n",
    "$$"
   ]
  },
  {
   "cell_type": "code",
   "execution_count": 34,
   "id": "64a1e00f-cd22-4d63-98f0-736aac3051c5",
   "metadata": {},
   "outputs": [
    {
     "data": {
      "text/plain": [
       "DeviceArray([[0., 0.],\n",
       "             [0., 0.]], dtype=float32)"
      ]
     },
     "execution_count": 34,
     "metadata": {},
     "output_type": "execute_result"
    }
   ],
   "source": [
    "def f(x):\n",
    "    return 2 * x[0] + x[1]\n",
    "\n",
    "x = jnp.array([2., 4.])\n",
    "hessian(f)(x)"
   ]
  },
  {
   "cell_type": "markdown",
   "id": "c290608f-987f-47d1-b32b-361eb2b809b1",
   "metadata": {},
   "source": [
    "Hessian matrix $\\mathrm{H}_g$ of a function $g(x, y) = 2x^3 + 4y^2$ is\n",
    "\n",
    "$$\n",
    "\\mathrm{H}_g =\n",
    "\\begin{pmatrix}\n",
    "    \\frac{\\partial^2 g}{\\partial x^2} & \\frac{\\partial^2 g}{\\partial x \\partial y } \\\\\n",
    "    \\frac{\\partial^2 g}{\\partial y \\partial x} & \\frac{\\partial^2 g}{\\partial y^2} \\\\\n",
    "\\end{pmatrix}\n",
    "=\n",
    "\\begin{pmatrix}\n",
    "    12x & 0 \\\\\n",
    "    0 & 8 \\\\\n",
    "\\end{pmatrix}\n",
    "$$"
   ]
  },
  {
   "cell_type": "code",
   "execution_count": 35,
   "id": "52a76926-f092-4cb4-ab1b-cc5149dbd7ca",
   "metadata": {},
   "outputs": [
    {
     "data": {
      "text/plain": [
       "DeviceArray([[24.,  0.],\n",
       "             [ 0.,  8.]], dtype=float32)"
      ]
     },
     "execution_count": 35,
     "metadata": {},
     "output_type": "execute_result"
    }
   ],
   "source": [
    "def g(x):\n",
    "    return 2 * x[0] ** 3 + 4 * x[1] ** 2\n",
    "\n",
    "x = jnp.array([2., 4.])\n",
    "hessian(g)(x)"
   ]
  },
  {
   "cell_type": "code",
   "execution_count": 36,
   "id": "b38bd442-40b7-4ac9-a933-37dc3adcb3a3",
   "metadata": {},
   "outputs": [
    {
     "data": {
      "text/plain": [
       "DeviceArray([[60.,  0.],\n",
       "             [ 0.,  8.]], dtype=float32)"
      ]
     },
     "execution_count": 36,
     "metadata": {},
     "output_type": "execute_result"
    }
   ],
   "source": [
    "x = jnp.array([5., 1000.])\n",
    "hessian(g)(x)"
   ]
  },
  {
   "cell_type": "markdown",
   "id": "afbfd5c9-b544-42df-b958-7c166c77e431",
   "metadata": {},
   "source": [
    "Hessian matrix $\\mathrm{H}_q$ of a function $q(x, y) = xy$ is\n",
    "\n",
    "$$\n",
    "\\mathrm{H}_q =\n",
    "\\begin{pmatrix}\n",
    "    \\frac{\\partial^2 q}{\\partial x^2} & \\frac{\\partial^2 q}{\\partial x \\partial y } \\\\\n",
    "    \\frac{\\partial^2 q}{\\partial y \\partial x} & \\frac{\\partial^2 q}{\\partial y^2} \\\\\n",
    "\\end{pmatrix}\n",
    "=\n",
    "\\begin{pmatrix}\n",
    "    0 & 1 \\\\\n",
    "    1 & 0 \\\\\n",
    "\\end{pmatrix}\n",
    "$$"
   ]
  },
  {
   "cell_type": "code",
   "execution_count": 37,
   "id": "df49018a-c45a-4994-87ac-6929312be735",
   "metadata": {},
   "outputs": [
    {
     "data": {
      "text/plain": [
       "DeviceArray([[0., 1.],\n",
       "             [1., 0.]], dtype=float32)"
      ]
     },
     "execution_count": 37,
     "metadata": {},
     "output_type": "execute_result"
    }
   ],
   "source": [
    "def q(x):\n",
    "    return x[0] * x[1]\n",
    "\n",
    "x = jnp.array([5., 1000.])\n",
    "hessian(q)(x)"
   ]
  }
 ],
 "metadata": {
  "kernelspec": {
   "display_name": "Python 3 (ipykernel)",
   "language": "python",
   "name": "python3"
  },
  "language_info": {
   "codemirror_mode": {
    "name": "ipython",
    "version": 3
   },
   "file_extension": ".py",
   "mimetype": "text/x-python",
   "name": "python",
   "nbconvert_exporter": "python",
   "pygments_lexer": "ipython3",
   "version": "3.10.0"
  }
 },
 "nbformat": 4,
 "nbformat_minor": 5
}
