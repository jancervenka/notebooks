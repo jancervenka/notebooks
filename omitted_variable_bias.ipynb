{
 "cells": [
  {
   "cell_type": "code",
   "execution_count": 4,
   "id": "25135eb7-2a8d-40c8-b62e-9dbf3a054de6",
   "metadata": {},
   "outputs": [],
   "source": [
    "import numpy as np\n",
    "from sklearn.linear_model import LinearRegression"
   ]
  },
  {
   "cell_type": "markdown",
   "id": "0554aae9-9793-4aac-9b58-013a40d42c4f",
   "metadata": {},
   "source": [
    "### Omitted-variable Bias\n",
    "https://en.wikipedia.org/wiki/Omitted-variable_bias\n",
    "\n",
    "Linear relationship between a dependent variable $y$ and independent\n",
    "variables $x_1$, $x_2$ is\n",
    "\n",
    "$$ y = a + bx_1 + cx_2 + u $$\n",
    "\n",
    "with parameters $a$, $b$, $c$ and error term $u$.\n",
    "Lets's assume that $b \\neq 0$,  $c \\neq 0$ and $\\mathrm{cov}(x_1, x_2) \\neq 0$\n",
    "(variables $x_1$, $x_1$ are determinants of $y$ and they are correlated),\n",
    "and that there is a relationship\n",
    "$ x_2 = d + fx_1 + e $ with parameters $d$, $f$ and error term $e$. This gives us an equation\n",
    "\n",
    "$$ y = a + bx_1 + cd + cfx_1 + ce + u = (a + cd) + (b + cf)x_1 + ce + u $$\n",
    "\n",
    "When we omit $x_2$ from our analysis our estimated effect of $x_1$ is\n",
    "$\\frac{\\mathrm{d} y}{\\mathrm{d} x_1} = b + cf$ instead of just $\\frac{\\partial y}{\\partial x_1} = b$."
   ]
  },
  {
   "cell_type": "code",
   "execution_count": 40,
   "id": "9624f0a8-3613-4f22-a132-6796eef4e993",
   "metadata": {},
   "outputs": [],
   "source": [
    "np.random.seed(1)\n",
    "n = 1000  # number of samples\n",
    "a = 1\n",
    "b = 2.5\n",
    "c = 2\n",
    "d = 1.5\n",
    "f = 3\n",
    "u = np.random.randn(n) / 10\n",
    "e = np.random.randn(n) / 10\n",
    "\n",
    "x_1 = np.random.rand(n)\n",
    "x_2 = d + f * x_1 + e\n",
    "y = a + b * x_1 + c * x_2 + u"
   ]
  },
  {
   "cell_type": "code",
   "execution_count": 41,
   "id": "c44486bd-a78c-4f5d-a628-8a848a5eec90",
   "metadata": {},
   "outputs": [
    {
     "name": "stdout",
     "output_type": "stream",
     "text": [
      "[2.43156422 2.02081192] 0.9755872695286598\n"
     ]
    }
   ],
   "source": [
    "X = np.column_stack([x_1, x_2])\n",
    "lr = LinearRegression().fit(X, y)\n",
    "print(lr.coef_, lr.intercept_)"
   ]
  },
  {
   "cell_type": "markdown",
   "id": "d23ac957-c42f-4bc0-a5dd-861fbcd259db",
   "metadata": {},
   "source": [
    "When we include both $x_1$ and $x_2$, we can see that our\n",
    "estimate of the effect of $x_1$ is close to the true effect $b=2.5$."
   ]
  },
  {
   "cell_type": "code",
   "execution_count": 42,
   "id": "51ab4a30-4a71-4997-b8ff-3fbcc8a23221",
   "metadata": {},
   "outputs": [
    {
     "name": "stdout",
     "output_type": "stream",
     "text": [
      "[8.49380426] 4.01242433899085\n"
     ]
    }
   ],
   "source": [
    "X = np.column_stack([x_1])\n",
    "lr = LinearRegression().fit(X, y)\n",
    "print(lr.coef_, lr.intercept_)"
   ]
  },
  {
   "cell_type": "markdown",
   "id": "6f778cb8-2266-4cf5-94fc-372f921fe3f9",
   "metadata": {},
   "source": [
    "When we omit $x_2$, we can see that our\n",
    "estimate of the effect of $x_1$ is aproximately equal to $b + cf$ = 8.5."
   ]
  }
 ],
 "metadata": {
  "kernelspec": {
   "display_name": "Python 3 (ipykernel)",
   "language": "python",
   "name": "python3"
  },
  "language_info": {
   "codemirror_mode": {
    "name": "ipython",
    "version": 3
   },
   "file_extension": ".py",
   "mimetype": "text/x-python",
   "name": "python",
   "nbconvert_exporter": "python",
   "pygments_lexer": "ipython3",
   "version": "3.10.0"
  }
 },
 "nbformat": 4,
 "nbformat_minor": 5
}
