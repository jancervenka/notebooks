{
 "cells": [
  {
   "cell_type": "code",
   "execution_count": 65,
   "metadata": {},
   "outputs": [],
   "source": [
    "import numpy as np\n",
    "import pandas as pd\n",
    "import matplotlib.pyplot as plt\n",
    "from sklearn.linear_model import LogisticRegression\n",
    "from sklearn.datasets import make_classification\n",
    "from sklearn.model_selection import train_test_split\n",
    "\n",
    "%matplotlib inline"
   ]
  },
  {
   "cell_type": "markdown",
   "metadata": {},
   "source": [
    "Based on https://blog.evjang.com/2018/12/uncertainty.html\n",
    "\n",
    "When using ensemble models, we can generate distribution of predicted labels\n",
    "for a given sample (each model in the ensemble is different and can output different label).\n",
    "\n",
    "The idea is that the label distribution will have larger spread* for out-of-distribution samples (samples\n",
    "that come from diferent distribution than the training set). For classification tasks, we can measure this\n",
    "spread using entropy (variance for regression tasks).\n",
    "\n",
    "\\* spread = dispersion (https://en.wikipedia.org/wiki/Statistical_dispersion)"
   ]
  },
  {
   "cell_type": "code",
   "execution_count": 67,
   "metadata": {},
   "outputs": [],
   "source": [
    "# https://en.wikipedia.org/wiki/Entropy_(information_theory)\n",
    "def categorical_entropy(y):\n",
    "    p_y = (pd.Series(y).value_counts() / len(y)).values\n",
    "    return -np.sum(p_y * np.log2(p_y)) \n",
    "\n",
    "\n",
    "def test_categorical_entropy():\n",
    "    y = ['Moscow', 'Moscow', 'Paris', 'London', 'London', \n",
    "         'London', 'NYC', 'NYC', 'NYC', 'NYC']\n",
    "    \n",
    "    assert categorical_entropy(y) == 1.8464393446710154\n",
    "\n",
    "\n",
    "test_categorical_entropy()"
   ]
  },
  {
   "cell_type": "code",
   "execution_count": 68,
   "metadata": {},
   "outputs": [],
   "source": [
    "np.random.seed(0)\n",
    "\n",
    "\n",
    "def generate_data(n_samples):\n",
    "    return make_classification(n_samples=n_samples, n_classes=8, n_informative=10, n_repeated=0)\n",
    "\n",
    "\n",
    "X, y = generate_data(5000)\n",
    "X_train, X_test, y_train, y_test = train_test_split(X, y)\n",
    "\n",
    "X_ood, _ = generate_data(X_test.shape[0])\n",
    "X_ood += X.max() * 10"
   ]
  },
  {
   "cell_type": "code",
   "execution_count": 117,
   "metadata": {},
   "outputs": [],
   "source": [
    "def sample_dataset_with_replacement(X, y):\n",
    "    \n",
    "    n = X.shape[0]\n",
    "    idx = np.random.randint(0, n, size=n)\n",
    "    return X[idx, :], y[idx]\n",
    "\n",
    "\n",
    "def test_sample_dataset_with_replacement():\n",
    "    n = 10000\n",
    "    X = np.array(range(n))[:, np.newaxis]\n",
    "    y = np.array(range(n))\n",
    "    \n",
    "    X_, _ = sample_dataset_with_replacement(X, y)\n",
    "    share = np.unique(X_).shape[0] / n\n",
    "    assert round(share * 10) == 6\n",
    "\n",
    "\n",
    "test_sample_dataset_with_replacement()\n",
    "    \n",
    "\n",
    "def create_bagging(X, y, m=50):\n",
    "    return [sample_dataset_with_replacement(X, y) for _ in range(m)]\n",
    "\n",
    "\n",
    "def lr_factory():\n",
    "    return LogisticRegression()\n",
    "\n",
    "\n",
    "def fit_bagging(X, y, m=50, model_factory=lr_factory):\n",
    "\n",
    "    bagging = create_bagging(X, y, m)   \n",
    "    return [model_factory().fit(X, y) for X, y in bagging]\n",
    "\n",
    "\n",
    "def predict_bagging(X, models):\n",
    "    return np.hstack([m.predict(X)[:, np.newaxis] for m in models])"
   ]
  },
  {
   "cell_type": "code",
   "execution_count": 102,
   "metadata": {},
   "outputs": [],
   "source": [
    "models = fit_bagging(X, y, m=50)"
   ]
  },
  {
   "cell_type": "code",
   "execution_count": 118,
   "metadata": {},
   "outputs": [],
   "source": [
    "y_pred = predict_bagging(X_test, models)\n",
    "y_ood_pred = predict_bagging(X_ood, models)"
   ]
  },
  {
   "cell_type": "code",
   "execution_count": 128,
   "metadata": {},
   "outputs": [
    {
     "data": {
      "text/plain": [
       "(1250, 50)"
      ]
     },
     "execution_count": 128,
     "metadata": {},
     "output_type": "execute_result"
    }
   ],
   "source": [
    "# 50 labels for each of the 1250 samples\n",
    "y_pred.shape"
   ]
  },
  {
   "cell_type": "code",
   "execution_count": 124,
   "metadata": {},
   "outputs": [],
   "source": [
    "y_pred_entropy = np.apply_along_axis(categorical_entropy, 1, y_pred)\n",
    "y_ood_pred_entropy = np.apply_along_axis(categorical_entropy, 1, y_ood_pred)"
   ]
  },
  {
   "cell_type": "code",
   "execution_count": 126,
   "metadata": {},
   "outputs": [
    {
     "data": {
      "image/png": "[encoded data removed]",
      "text/plain": [
       "<Figure size 576x288 with 1 Axes>"
      ]
     },
     "metadata": {
      "needs_background": "light"
     },
     "output_type": "display_data"
    }
   ],
   "source": [
    "plt.subplots(1, 1, figsize=(8, 4))\n",
    "plt.hist(y_pred_entropy, label='in-distribution per sample entropy',\n",
    "         edgecolor='red', linewidth=1, fill=None)\n",
    "\n",
    "plt.hist(y_ood_pred_entropy, label='out-of-distribution per sample entropy',\n",
    "         edgecolor='blue', linewidth=1, fill=None)\n",
    "\n",
    "plt.xlabel('entropy')\n",
    "plt.ylabel('count')\n",
    "plt.ylim([0, 1000])\n",
    "plt.legend()\n",
    "plt.show()"
   ]
  }
 ],
 "metadata": {
  "kernelspec": {
   "display_name": "airbus",
   "language": "python",
   "name": "airbus"
  },
  "language_info": {
   "codemirror_mode": {
    "name": "ipython",
    "version": 3
   },
   "file_extension": ".py",
   "mimetype": "text/x-python",
   "name": "python",
   "nbconvert_exporter": "python",
   "pygments_lexer": "ipython3",
   "version": "3.7.5"
  }
 },
 "nbformat": 4,
 "nbformat_minor": 4
}
