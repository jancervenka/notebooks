{
 "cells": [
  {
   "cell_type": "code",
   "execution_count": 3,
   "id": "ee5e7964-5552-40a5-a55d-e536f9fbfd2b",
   "metadata": {},
   "outputs": [],
   "source": [
    "import numpy as np\n",
    "from sklearn.linear_model import LinearRegression"
   ]
  },
  {
   "cell_type": "markdown",
   "id": "d6b71579-0aae-403a-837a-6d86822e0faf",
   "metadata": {},
   "source": [
    "https://twitter.com/anatidaecapital/status/1551265200698949633\n",
    "\n",
    "_alpha adds 2, beta unchanged, new sd is sqrt(5)? iirc residuals for OLS should always be zero mean, otherwise possible to reduce L_2 loss. I guess the other sort of intuition to use is that this is basically the same as adding 2 and then adding N(0, 2) noise term, variances are additive, etc. Doesn't depend on x, so beta shouldn't change._\n"
   ]
  },
  {
   "cell_type": "code",
   "execution_count": 43,
   "id": "9041e20d-9cb3-4bbf-9c09-278a4ef1985b",
   "metadata": {},
   "outputs": [
    {
     "name": "stdout",
     "output_type": "stream",
     "text": [
      "a=2.00 b=2.99\n",
      "residual mean=-0.000, residual var=0.995\n",
      "a=2.00 b=5.02\n",
      "residual mean=-0.000, residual var=4.987\n"
     ]
    }
   ],
   "source": [
    "np.random.seed(0)\n",
    "\n",
    "a = 3\n",
    "b = 2\n",
    "\n",
    "x = np.linspace(0, 10, 100000)\n",
    "# e ~ N(0, 1)\n",
    "e = np.random.randn(100000)\n",
    "\n",
    "y = a + b * x + e\n",
    "\n",
    "x = x.reshape(-1, 1)\n",
    "\n",
    "# u ~ N(2, 2)\n",
    "u = (np.random.randn(100000) * 2) + 2\n",
    "\n",
    "\n",
    "for y_ in (y, y + u):\n",
    "    m = LinearRegression().fit(x, y_)\n",
    "    y_hat = m.predict(x)\n",
    "    residuals = y_ - y_hat\n",
    "    print(f\"a={m.coef_[0]:.2f} b={m.intercept_:.2f}\")\n",
    "    # var(e*) = var(e) + var(u) = 1 + 4 = 5 \n",
    "    print(f\"residual mean={residuals.mean():.3f}, residual var={residuals.var():.3f}\")"
   ]
  }
 ],
 "metadata": {
  "kernelspec": {
   "display_name": "Python 3 (ipykernel)",
   "language": "python",
   "name": "python3"
  },
  "language_info": {
   "codemirror_mode": {
    "name": "ipython",
    "version": 3
   },
   "file_extension": ".py",
   "mimetype": "text/x-python",
   "name": "python",
   "nbconvert_exporter": "python",
   "pygments_lexer": "ipython3",
   "version": "3.10.0"
  }
 },
 "nbformat": 4,
 "nbformat_minor": 5
}
