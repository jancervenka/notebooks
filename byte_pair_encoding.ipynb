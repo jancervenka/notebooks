{
 "cells": [
  {
   "cell_type": "code",
   "execution_count": 230,
   "id": "97819d9c-4e56-49b6-9b6c-c40387731ed4",
   "metadata": {},
   "outputs": [],
   "source": [
    "import random\n",
    "import requests\n",
    "import tqdm.notebook as tqdm\n",
    "from collections import Counter\n",
    "from IPython.display import HTML, display"
   ]
  },
  {
   "cell_type": "markdown",
   "id": "6be6c6d6-e32d-415f-ade4-064fc9c834e2",
   "metadata": {},
   "source": [
    "## LLM Tokenization\n",
    "https://en.wikipedia.org/wiki/Byte_pair_encoding#Modified_algorithm"
   ]
  },
  {
   "cell_type": "code",
   "execution_count": 107,
   "id": "dfd73331-c6a9-428a-b5e3-ae9ee818af45",
   "metadata": {},
   "outputs": [],
   "source": [
    "url = \"https://raw.githubusercontent.com/karpathy/char-rnn/master/data/tinyshakespeare/input.txt\"\n",
    "text = requests.get(url).text"
   ]
  },
  {
   "cell_type": "code",
   "execution_count": 317,
   "id": "3f1e94c0-565a-4821-ba1f-dfcef98847e4",
   "metadata": {},
   "outputs": [],
   "source": [
    "class BytePairEncodingTokenizer:\n",
    "    def __init__(self, vocab_size: int = 512):\n",
    "        self.vocab_size = vocab_size\n",
    "        self.tokens_to_byte_tuples = {}\n",
    "\n",
    "    def _vocab_size_reached(self) -> bool:\n",
    "        return len(self.tokens_to_byte_tuples) == self.vocab_size\n",
    "\n",
    "    @staticmethod\n",
    "    def _find_most_common_byte_tuple_pair(byte_tuples: list[tuple[int]]) -> tuple[tuple[int]]:\n",
    "        pairs = []\n",
    "        for i in range(len(byte_tuples) - 1):\n",
    "            first, second = byte_tuples[i], byte_tuples[i + 1]\n",
    "            pairs.append((first, second))\n",
    "\n",
    "        most_common = Counter(pairs).most_common(n=1)\n",
    "        return most_common[0][0]\n",
    "\n",
    "    @staticmethod\n",
    "    def _merge_most_common_byte_tuple_pair(\n",
    "        byte_tuples: list[tuple[int]],\n",
    "        most_common_byte_tuple_pair: tuple[tuple[int]],\n",
    "    ) -> list[tuple[int]]:\n",
    "        new_byte_tuples = []\n",
    "        i = 0\n",
    "        while i < len(byte_tuples):\n",
    "\n",
    "            # can't merge at the last position, just append the last tuple and exit\n",
    "            if i == len(byte_tuples) - 1:\n",
    "                new_byte_tuples.append(byte_tuples[i])\n",
    "                return new_byte_tuples\n",
    "\n",
    "            first, second  = byte_tuples[i], byte_tuples[i + 1]\n",
    "            if (first, second) == most_common_byte_tuple_pair:\n",
    "                new_byte_tuples.append(first + second)\n",
    "                i += 2                \n",
    "            else:\n",
    "                new_byte_tuples.append(first)\n",
    "                i += 1\n",
    "        return new_byte_tuples\n",
    "\n",
    "    def fill_missing_bytes(self) -> None:\n",
    "        # allows to encode characters that weren't in the training data\n",
    "        max_token = max(self.tokens_to_byte_tuples.keys())\n",
    "        for byte_ in range(256): \n",
    "            if (byte_,) not in self.tokens_to_byte_tuples.values():\n",
    "                max_token += 1\n",
    "                self.tokens_to_byte_tuples[max_token] = (byte_,)\n",
    "    \n",
    "    def fit(self, text: str) -> None:\n",
    "        # text as a list of utf8 bytes = [29, 19, 255, ...]\n",
    "        btext = list(text.encode(\"utf8\"))\n",
    "        # each token consists of tuple of bytes\n",
    "        # starting with 1 tuple = 1 byte\n",
    "        byte_tuples = [(byte_,) for byte_ in btext]\n",
    "        while not self._vocab_size_reached():\n",
    "            most_common_byte_tuple_pair = self._find_most_common_byte_tuple_pair(byte_tuples)\n",
    "            byte_tuples = self._merge_most_common_byte_tuple_pair(byte_tuples, most_common_byte_tuple_pair)\n",
    "            unique_byte_tuples = list(set(byte_tuples))\n",
    "            self.tokens_to_byte_tuples = {i: byte_tuple for i, byte_tuple in enumerate(unique_byte_tuples)}\n",
    "\n",
    "        self.fill_missing_bytes()\n",
    "\n",
    "    def get_sorted_tokens_to_byte_tuples(self) -> list[int, tuple[int]]:\n",
    "        return (sorted(self.tokens_to_byte_tuples.items(), key=lambda i: len(i[1])))[::-1]\n",
    "\n",
    "    def encode(self, text: str) -> list[int]:\n",
    "\n",
    "        bytes_ = list(text.encode(\"utf8\"))\n",
    "        tokens = []\n",
    "        i = 0\n",
    "        while i < len(bytes_):\n",
    "            for token, byte_tuple in self.get_sorted_tokens_to_byte_tuples():\n",
    "                tuple_len = len(byte_tuple)\n",
    "                if byte_tuple == tuple(bytes_[i:i + tuple_len]):\n",
    "                    tokens.append(token)\n",
    "                    i += tuple_len\n",
    "                    break\n",
    "        return tokens\n",
    "\n",
    "    def decode(self, tokens: list[int]) -> str:\n",
    "        byte_tuples = [self.tokens_to_byte_tuples[token] for token in tokens]\n",
    "        bytes_ = [byte_ for byte_tuple in byte_tuples for byte_ in byte_tuple]\n",
    "        return bytes(bytes_).decode(\"utf8\")"
   ]
  },
  {
   "cell_type": "code",
   "execution_count": 330,
   "id": "6ba4e35a-55c9-4704-82c2-bc98e04eafda",
   "metadata": {},
   "outputs": [
    {
     "data": {
      "application/vnd.jupyter.widget-view+json": {
       "model_id": "6f3864c3384a4b58bdee18282bb14ff7",
       "version_major": 2,
       "version_minor": 0
      },
      "text/plain": [
       "  0%|          | 0/200 [00:00<?, ?it/s]"
      ]
     },
     "metadata": {},
     "output_type": "display_data"
    }
   ],
   "source": [
    "def test():\n",
    "    bpe = BytePairEncodingTokenizer(vocab_size=256)\n",
    "    small_text = text[:10000] \n",
    "    bpe.fit(small_text)\n",
    "\n",
    "    segment_size = 512\n",
    "    for _ in tqdm.tqdm(range(200)):\n",
    "        start = random.randint(0, len(small_text) - segment_size)\n",
    "        text_to_encode = small_text[start:start + segment_size]\n",
    "        assert bpe.decode(bpe.encode(text_to_encode)) == text_to_encode\n",
    "\n",
    "test()"
   ]
  },
  {
   "cell_type": "code",
   "execution_count": 323,
   "id": "9f90cf40-f972-4aee-81cf-c9ea5173579b",
   "metadata": {},
   "outputs": [],
   "source": [
    "def visualize(text: str, tokenizer: BytePairEncodingTokenizer) -> None:\n",
    "    colors = [\n",
    "        \"#c9ff82\",\n",
    "        \"#82e4ff\",\n",
    "        \"#e7c8fa\",\n",
    "        \"#fae3c8\",\n",
    "        \"#f2c8fa\",\n",
    "        \"#b3fff0\",\n",
    "    ]\n",
    "\n",
    "    def get_color(i: int) -> str:\n",
    "        j = i % len(colors)\n",
    "        color = colors[j]\n",
    "        return f\"background-color:{color}\"\n",
    "\n",
    "    tokens = tokenizer.encode(text)\n",
    "    html_elements = [\n",
    "        f\"\"\"<span style=\"{get_color(i)}\">{tokenizer.decode([token])}</span>\"\"\"\n",
    "        for i, token in enumerate(tokens)\n",
    "    ]\n",
    "\n",
    "    return HTML(\"\".join(html_elements))"
   ]
  },
  {
   "cell_type": "code",
   "execution_count": 324,
   "id": "90ba483a-48fb-4c84-997a-101bb093df4b",
   "metadata": {},
   "outputs": [],
   "source": [
    "bpe = BytePairEncodingTokenizer(vocab_size=256)\n",
    "small_text = text[:10000] \n",
    "bpe.fit(small_text)"
   ]
  },
  {
   "cell_type": "code",
   "execution_count": 325,
   "id": "c09d7c16-4f8f-4249-95b7-a589bb58b185",
   "metadata": {},
   "outputs": [
    {
     "data": {
      "text/plain": [
       "[204, 105, 41, 145, 89, 201, 30, 114, 189, 106, 15, 10, 143, 230]"
      ]
     },
     "execution_count": 325,
     "metadata": {},
     "output_type": "execute_result"
    }
   ],
   "source": [
    "bpe.encode(\"Before we proceed any further\")"
   ]
  },
  {
   "cell_type": "code",
   "execution_count": 326,
   "id": "5beaf024-431c-45e8-9320-d1b26753815a",
   "metadata": {},
   "outputs": [
    {
     "data": {
      "text/plain": [
       "'Before we proceed any further'"
      ]
     },
     "execution_count": 326,
     "metadata": {},
     "output_type": "execute_result"
    }
   ],
   "source": [
    "bpe.decode(bpe.encode(\"Before we proceed any further\"))"
   ]
  },
  {
   "cell_type": "code",
   "execution_count": 327,
   "id": "2e8e2ef3-c3ef-4229-9cb0-132e7f3672b7",
   "metadata": {},
   "outputs": [
    {
     "data": {
      "text/plain": [
       "'čšáuaweada😊'"
      ]
     },
     "execution_count": 327,
     "metadata": {},
     "output_type": "execute_result"
    }
   ],
   "source": [
    "bpe.decode(bpe.encode(\"čšáuaweada😊\"))"
   ]
  },
  {
   "cell_type": "code",
   "execution_count": 328,
   "id": "efb66c71-8218-466e-8e8e-1e33fd1dc41d",
   "metadata": {},
   "outputs": [
    {
     "data": {
      "text/html": [
       "<span style=\"background-color:#c9ff82\">S</span><span style=\"background-color:#82e4ff\">ec</span><span style=\"background-color:#e7c8fa\">on</span><span style=\"background-color:#fae3c8\">d </span><span style=\"background-color:#f2c8fa\">Citizen:\n",
       "</span><span style=\"background-color:#b3fff0\">W</span><span style=\"background-color:#c9ff82\">ould </span><span style=\"background-color:#82e4ff\">you </span><span style=\"background-color:#e7c8fa\">p</span><span style=\"background-color:#fae3c8\">ro</span><span style=\"background-color:#f2c8fa\">ce</span><span style=\"background-color:#b3fff0\">ed </span><span style=\"background-color:#c9ff82\">es</span><span style=\"background-color:#82e4ff\">pe</span><span style=\"background-color:#e7c8fa\">c</span><span style=\"background-color:#fae3c8\">i</span><span style=\"background-color:#f2c8fa\">all</span><span style=\"background-color:#b3fff0\">y </span><span style=\"background-color:#c9ff82\">a</span><span style=\"background-color:#82e4ff\">gain</span><span style=\"background-color:#e7c8fa\">st </span><span style=\"background-color:#fae3c8\">C</span><span style=\"background-color:#f2c8fa\">a</span><span style=\"background-color:#b3fff0\">i</span><span style=\"background-color:#c9ff82\">us </span><span style=\"background-color:#82e4ff\">M</span><span style=\"background-color:#e7c8fa\">ar</span><span style=\"background-color:#fae3c8\">c</span><span style=\"background-color:#f2c8fa\">i</span><span style=\"background-color:#b3fff0\">us</span><span style=\"background-color:#c9ff82\">?\n",
       "\n",
       "</span><span style=\"background-color:#82e4ff\">A</span><span style=\"background-color:#e7c8fa\">ll</span><span style=\"background-color:#fae3c8\">:\n",
       "</span><span style=\"background-color:#f2c8fa\">A</span><span style=\"background-color:#b3fff0\">gain</span><span style=\"background-color:#c9ff82\">st </span><span style=\"background-color:#82e4ff\">h</span><span style=\"background-color:#e7c8fa\">im</span><span style=\"background-color:#fae3c8\"> f</span><span style=\"background-color:#f2c8fa\">ir</span><span style=\"background-color:#b3fff0\">st</span><span style=\"background-color:#c9ff82\">: </span><span style=\"background-color:#82e4ff\">h</span><span style=\"background-color:#e7c8fa\">e</span><span style=\"background-color:#fae3c8\">'s </span><span style=\"background-color:#f2c8fa\">a </span><span style=\"background-color:#b3fff0\">ver</span><span style=\"background-color:#c9ff82\">y </span><span style=\"background-color:#82e4ff\">d</span><span style=\"background-color:#e7c8fa\">o</span><span style=\"background-color:#fae3c8\">g</span><span style=\"background-color:#f2c8fa\"> </span><span style=\"background-color:#b3fff0\">to the </span><span style=\"background-color:#c9ff82\">c</span><span style=\"background-color:#82e4ff\">om</span><span style=\"background-color:#e7c8fa\">mo</span><span style=\"background-color:#fae3c8\">n</span><span style=\"background-color:#f2c8fa\">al</span><span style=\"background-color:#b3fff0\">t</span><span style=\"background-color:#c9ff82\">y</span><span style=\"background-color:#82e4ff\">.\n",
       "\n",
       "</span><span style=\"background-color:#e7c8fa\">S</span><span style=\"background-color:#fae3c8\">ec</span><span style=\"background-color:#f2c8fa\">on</span><span style=\"background-color:#b3fff0\">d </span><span style=\"background-color:#c9ff82\">Citizen:\n",
       "</span><span style=\"background-color:#82e4ff\">C</span><span style=\"background-color:#e7c8fa\">on</span><span style=\"background-color:#fae3c8\">s</span><span style=\"background-color:#f2c8fa\">id</span><span style=\"background-color:#b3fff0\">er</span><span style=\"background-color:#c9ff82\"> you</span><span style=\"background-color:#82e4ff\"> wh</span><span style=\"background-color:#e7c8fa\">at </span><span style=\"background-color:#fae3c8\">s</span><span style=\"background-color:#f2c8fa\">er</span><span style=\"background-color:#b3fff0\">v</span><span style=\"background-color:#c9ff82\">ic</span><span style=\"background-color:#82e4ff\">es </span><span style=\"background-color:#e7c8fa\">he </span><span style=\"background-color:#fae3c8\">ha</span><span style=\"background-color:#f2c8fa\">s </span><span style=\"background-color:#b3fff0\">d</span><span style=\"background-color:#c9ff82\">one </span><span style=\"background-color:#82e4ff\">for</span><span style=\"background-color:#e7c8fa\"> h</span><span style=\"background-color:#fae3c8\">is </span><span style=\"background-color:#f2c8fa\">c</span><span style=\"background-color:#b3fff0\">oun</span><span style=\"background-color:#c9ff82\">tr</span><span style=\"background-color:#82e4ff\">y</span><span style=\"background-color:#e7c8fa\">?\n",
       "\n",
       "First Citizen:\n",
       "</span><span style=\"background-color:#fae3c8\">V</span><span style=\"background-color:#f2c8fa\">er</span><span style=\"background-color:#b3fff0\">y </span><span style=\"background-color:#c9ff82\">w</span><span style=\"background-color:#82e4ff\">ell</span><span style=\"background-color:#e7c8fa\">; </span><span style=\"background-color:#fae3c8\">and </span><span style=\"background-color:#f2c8fa\">c</span><span style=\"background-color:#b3fff0\">ould </span><span style=\"background-color:#c9ff82\">b</span><span style=\"background-color:#82e4ff\">e </span><span style=\"background-color:#e7c8fa\">c</span><span style=\"background-color:#fae3c8\">on</span><span style=\"background-color:#f2c8fa\">t</span><span style=\"background-color:#b3fff0\">en</span><span style=\"background-color:#c9ff82\">t </span><span style=\"background-color:#82e4ff\">to </span><span style=\"background-color:#e7c8fa\">g</span><span style=\"background-color:#fae3c8\">i</span><span style=\"background-color:#f2c8fa\">ve </span><span style=\"background-color:#b3fff0\">h</span><span style=\"background-color:#c9ff82\">im</span><span style=\"background-color:#82e4ff\"> </span><span style=\"background-color:#e7c8fa\">goo</span><span style=\"background-color:#fae3c8\">d</span><span style=\"background-color:#f2c8fa\">\n",
       "</span><span style=\"background-color:#b3fff0\">re</span><span style=\"background-color:#c9ff82\">po</span><span style=\"background-color:#82e4ff\">r</span><span style=\"background-color:#e7c8fa\">t </span><span style=\"background-color:#fae3c8\">for</span><span style=\"background-color:#f2c8fa\">t, </span><span style=\"background-color:#b3fff0\">b</span><span style=\"background-color:#c9ff82\">ut </span><span style=\"background-color:#82e4ff\">th</span><span style=\"background-color:#e7c8fa\">at </span><span style=\"background-color:#fae3c8\">he </span><span style=\"background-color:#f2c8fa\">p</span><span style=\"background-color:#b3fff0\">a</span><span style=\"background-color:#c9ff82\">y</span><span style=\"background-color:#82e4ff\">s </span><span style=\"background-color:#e7c8fa\">h</span><span style=\"background-color:#fae3c8\">im</span><span style=\"background-color:#f2c8fa\">s</span><span style=\"background-color:#b3fff0\">el</span><span style=\"background-color:#c9ff82\">f</span><span style=\"background-color:#82e4ff\"> w</span><span style=\"background-color:#e7c8fa\">ith</span><span style=\"background-color:#fae3c8\"> b</span><span style=\"background-color:#f2c8fa\">e</span><span style=\"background-color:#b3fff0\">ing</span><span style=\"background-color:#c9ff82\"> p</span><span style=\"background-color:#82e4ff\">ro</span><span style=\"background-color:#e7c8fa\">u</span><span style=\"background-color:#fae3c8\">d</span><span style=\"background-color:#f2c8fa\">.\n",
       "\n",
       "</span><span style=\"background-color:#b3fff0\">S</span><span style=\"background-color:#c9ff82\">ec</span><span style=\"background-color:#82e4ff\">on</span><span style=\"background-color:#e7c8fa\">d </span><span style=\"background-color:#fae3c8\">Citizen:\n",
       "</span><span style=\"background-color:#f2c8fa\">N</span><span style=\"background-color:#b3fff0\">a</span><span style=\"background-color:#c9ff82\">y, </span><span style=\"background-color:#82e4ff\">b</span><span style=\"background-color:#e7c8fa\">ut </span><span style=\"background-color:#fae3c8\">s</span><span style=\"background-color:#f2c8fa\">peak</span><span style=\"background-color:#b3fff0\"> </span><span style=\"background-color:#c9ff82\">not </span><span style=\"background-color:#82e4ff\">ma</span><span style=\"background-color:#e7c8fa\">li</span><span style=\"background-color:#fae3c8\">c</span><span style=\"background-color:#f2c8fa\">i</span><span style=\"background-color:#b3fff0\">ous</span><span style=\"background-color:#c9ff82\">ly</span><span style=\"background-color:#82e4ff\">.\n",
       "\n",
       "First Citizen:\n",
       "</span><span style=\"background-color:#e7c8fa\">I</span><span style=\"background-color:#fae3c8\"> s</span><span style=\"background-color:#f2c8fa\">a</span><span style=\"background-color:#b3fff0\">y </span><span style=\"background-color:#c9ff82\">un</span><span style=\"background-color:#82e4ff\">to </span><span style=\"background-color:#e7c8fa\">you</span><span style=\"background-color:#fae3c8\">, </span><span style=\"background-color:#f2c8fa\">wh</span><span style=\"background-color:#b3fff0\">at </span><span style=\"background-color:#c9ff82\">he </span><span style=\"background-color:#82e4ff\">hat</span><span style=\"background-color:#e7c8fa\">h</span><span style=\"background-color:#fae3c8\"> d</span><span style=\"background-color:#f2c8fa\">one </span><span style=\"background-color:#b3fff0\">f</span><span style=\"background-color:#c9ff82\">a</span><span style=\"background-color:#82e4ff\">mo</span><span style=\"background-color:#e7c8fa\">us</span><span style=\"background-color:#fae3c8\">ly</span><span style=\"background-color:#f2c8fa\">, </span><span style=\"background-color:#b3fff0\">he </span><span style=\"background-color:#c9ff82\">di</span><span style=\"background-color:#82e4ff\">d</span><span style=\"background-color:#e7c8fa\">\n",
       "</span><span style=\"background-color:#fae3c8\">it </span><span style=\"background-color:#f2c8fa\">to </span><span style=\"background-color:#b3fff0\">th</span><span style=\"background-color:#c9ff82\">at </span><span style=\"background-color:#82e4ff\">end</span><span style=\"background-color:#e7c8fa\">: </span><span style=\"background-color:#fae3c8\">th</span><span style=\"background-color:#f2c8fa\">ough</span><span style=\"background-color:#b3fff0\"> s</span><span style=\"background-color:#c9ff82\">of</span><span style=\"background-color:#82e4ff\">t</span><span style=\"background-color:#e7c8fa\">-</span><span style=\"background-color:#fae3c8\">c</span><span style=\"background-color:#f2c8fa\">on</span><span style=\"background-color:#b3fff0\">s</span><span style=\"background-color:#c9ff82\">c</span><span style=\"background-color:#82e4ff\">i</span><span style=\"background-color:#e7c8fa\">en</span><span style=\"background-color:#fae3c8\">ce</span><span style=\"background-color:#f2c8fa\">d </span><span style=\"background-color:#b3fff0\">m</span><span style=\"background-color:#c9ff82\">en</span><span style=\"background-color:#82e4ff\"> c</span><span style=\"background-color:#e7c8fa\">an</span><span style=\"background-color:#fae3c8\"> b</span><span style=\"background-color:#f2c8fa\">e\n",
       "</span><span style=\"background-color:#b3fff0\">c</span><span style=\"background-color:#c9ff82\">on</span><span style=\"background-color:#82e4ff\">t</span><span style=\"background-color:#e7c8fa\">en</span><span style=\"background-color:#fae3c8\">t </span><span style=\"background-color:#f2c8fa\">to </span><span style=\"background-color:#b3fff0\">sa</span><span style=\"background-color:#c9ff82\">y </span><span style=\"background-color:#82e4ff\">it </span><span style=\"background-color:#e7c8fa\">was </span><span style=\"background-color:#fae3c8\">for</span><span style=\"background-color:#f2c8fa\"> h</span><span style=\"background-color:#b3fff0\">is </span><span style=\"background-color:#c9ff82\">c</span><span style=\"background-color:#82e4ff\">oun</span><span style=\"background-color:#e7c8fa\">tr</span><span style=\"background-color:#fae3c8\">y </span><span style=\"background-color:#f2c8fa\">he </span><span style=\"background-color:#b3fff0\">di</span><span style=\"background-color:#c9ff82\">d </span><span style=\"background-color:#82e4ff\">it </span><span style=\"background-color:#e7c8fa\">to</span><span style=\"background-color:#fae3c8\">\n",
       "</span><span style=\"background-color:#f2c8fa\">pl</span><span style=\"background-color:#b3fff0\">ea</span><span style=\"background-color:#c9ff82\">s</span><span style=\"background-color:#82e4ff\">e </span><span style=\"background-color:#e7c8fa\">h</span><span style=\"background-color:#fae3c8\">is </span><span style=\"background-color:#f2c8fa\">mo</span><span style=\"background-color:#b3fff0\">ther</span><span style=\"background-color:#c9ff82\"> a</span><span style=\"background-color:#82e4ff\">nd </span><span style=\"background-color:#e7c8fa\">to </span><span style=\"background-color:#fae3c8\">b</span><span style=\"background-color:#f2c8fa\">e </span><span style=\"background-color:#b3fff0\">p</span><span style=\"background-color:#c9ff82\">ar</span><span style=\"background-color:#82e4ff\">t</span><span style=\"background-color:#e7c8fa\">ly</span><span style=\"background-color:#fae3c8\"> p</span><span style=\"background-color:#f2c8fa\">ro</span><span style=\"background-color:#b3fff0\">u</span><span style=\"background-color:#c9ff82\">d</span><span style=\"background-color:#82e4ff\">; </span><span style=\"background-color:#e7c8fa\">wh</span><span style=\"background-color:#fae3c8\">ich</span><span style=\"background-color:#f2c8fa\"> h</span><span style=\"background-color:#b3fff0\">e\n",
       "</span><span style=\"background-color:#c9ff82\">is</span><span style=\"background-color:#82e4ff\">, </span><span style=\"background-color:#e7c8fa\">e</span><span style=\"background-color:#fae3c8\">ven</span><span style=\"background-color:#f2c8fa\"> </span><span style=\"background-color:#b3fff0\">ti</span><span style=\"background-color:#c9ff82\">ll </span><span style=\"background-color:#82e4ff\">the </span><span style=\"background-color:#e7c8fa\">al</span><span style=\"background-color:#fae3c8\">ti</span><span style=\"background-color:#f2c8fa\">t</span><span style=\"background-color:#b3fff0\">u</span><span style=\"background-color:#c9ff82\">d</span><span style=\"background-color:#82e4ff\">e </span><span style=\"background-color:#e7c8fa\">of</span><span style=\"background-color:#fae3c8\"> h</span><span style=\"background-color:#f2c8fa\">is </span><span style=\"background-color:#b3fff0\">v</span><span style=\"background-color:#c9ff82\">ir</span><span style=\"background-color:#82e4ff\">t</span><span style=\"background-color:#e7c8fa\">u</span><span style=\"background-color:#fae3c8\">e</span><span style=\"background-color:#f2c8fa\">.\n",
       "\n",
       "</span><span style=\"background-color:#b3fff0\">S</span><span style=\"background-color:#c9ff82\">ec</span><span style=\"background-color:#82e4ff\">on</span><span style=\"background-color:#e7c8fa\">d </span><span style=\"background-color:#fae3c8\">Citizen:\n",
       "</span><span style=\"background-color:#f2c8fa\">What </span><span style=\"background-color:#b3fff0\">he </span><span style=\"background-color:#c9ff82\">c</span><span style=\"background-color:#82e4ff\">an</span><span style=\"background-color:#e7c8fa\">not </span><span style=\"background-color:#fae3c8\">h</span><span style=\"background-color:#f2c8fa\">el</span><span style=\"background-color:#b3fff0\">p</span><span style=\"background-color:#c9ff82\"> </span><span style=\"background-color:#82e4ff\">in</span><span style=\"background-color:#e7c8fa\"> h</span><span style=\"background-color:#fae3c8\">is </span><span style=\"background-color:#f2c8fa\">n</span><span style=\"background-color:#b3fff0\">at</span><span style=\"background-color:#c9ff82\">ur</span><span style=\"background-color:#82e4ff\">e, </span><span style=\"background-color:#e7c8fa\">you </span><span style=\"background-color:#fae3c8\">ac</span><span style=\"background-color:#f2c8fa\">c</span><span style=\"background-color:#b3fff0\">oun</span><span style=\"background-color:#c9ff82\">t </span><span style=\"background-color:#82e4ff\">a</span><span style=\"background-color:#e7c8fa\">\n",
       "</span><span style=\"background-color:#fae3c8\">v</span><span style=\"background-color:#f2c8fa\">ic</span><span style=\"background-color:#b3fff0\">e </span><span style=\"background-color:#c9ff82\">in</span><span style=\"background-color:#82e4ff\"> h</span><span style=\"background-color:#e7c8fa\">im</span><span style=\"background-color:#fae3c8\">. </span><span style=\"background-color:#f2c8fa\">Y</span><span style=\"background-color:#b3fff0\">ou</span><span style=\"background-color:#c9ff82\"> m</span><span style=\"background-color:#82e4ff\">us</span><span style=\"background-color:#e7c8fa\">t </span><span style=\"background-color:#fae3c8\">in</span><span style=\"background-color:#f2c8fa\"> </span><span style=\"background-color:#b3fff0\">no</span><span style=\"background-color:#c9ff82\"> w</span><span style=\"background-color:#82e4ff\">a</span><span style=\"background-color:#e7c8fa\">y </span><span style=\"background-color:#fae3c8\">sa</span><span style=\"background-color:#f2c8fa\">y </span><span style=\"background-color:#b3fff0\">he </span><span style=\"background-color:#c9ff82\">is </span><span style=\"background-color:#82e4ff\">c</span><span style=\"background-color:#e7c8fa\">o</span><span style=\"background-color:#fae3c8\">ve</span><span style=\"background-color:#f2c8fa\">to</span><span style=\"background-color:#b3fff0\">us</span><span style=\"background-color:#c9ff82\">.\n",
       "\n",
       "First Citizen:\n",
       "</span><span style=\"background-color:#82e4ff\">I</span><span style=\"background-color:#e7c8fa\">f</span><span style=\"background-color:#fae3c8\"> </span><span style=\"background-color:#f2c8fa\">I</span><span style=\"background-color:#b3fff0\"> m</span><span style=\"background-color:#c9ff82\">us</span><span style=\"background-color:#82e4ff\">t </span><span style=\"background-color:#e7c8fa\">no</span><span style=\"background-color:#fae3c8\">t, </span><span style=\"background-color:#f2c8fa\">I</span><span style=\"background-color:#b3fff0\"> </span><span style=\"background-color:#c9ff82\">n</span><span style=\"background-color:#82e4ff\">e</span><span style=\"background-color:#e7c8fa\">ed </span><span style=\"background-color:#fae3c8\">not </span><span style=\"background-color:#f2c8fa\">b</span><span style=\"background-color:#b3fff0\">e </span><span style=\"background-color:#c9ff82\">b</span><span style=\"background-color:#82e4ff\">ar</span><span style=\"background-color:#e7c8fa\">re</span><span style=\"background-color:#fae3c8\">n</span><span style=\"background-color:#f2c8fa\"> </span><span style=\"background-color:#b3fff0\">of</span><span style=\"background-color:#c9ff82\"> a</span><span style=\"background-color:#82e4ff\">c</span><span style=\"background-color:#e7c8fa\">c</span><span style=\"background-color:#fae3c8\">us</span><span style=\"background-color:#f2c8fa\">at</span><span style=\"background-color:#b3fff0\">i</span><span style=\"background-color:#c9ff82\">on</span><span style=\"background-color:#82e4ff\">s</span><span style=\"background-color:#e7c8fa\">;</span><span style=\"background-color:#fae3c8\">\n",
       "</span><span style=\"background-color:#f2c8fa\">he </span><span style=\"background-color:#b3fff0\">hat</span><span style=\"background-color:#c9ff82\">h</span><span style=\"background-color:#82e4ff\"> f</span><span style=\"background-color:#e7c8fa\">a</span><span style=\"background-color:#fae3c8\">u</span><span style=\"background-color:#f2c8fa\">l</span><span style=\"background-color:#b3fff0\">t</span><span style=\"background-color:#c9ff82\">s, </span><span style=\"background-color:#82e4ff\">w</span><span style=\"background-color:#e7c8fa\">ith</span><span style=\"background-color:#fae3c8\"> s</span><span style=\"background-color:#f2c8fa\">ur</span><span style=\"background-color:#b3fff0\">pl</span><span style=\"background-color:#c9ff82\">us</span><span style=\"background-color:#82e4ff\">, </span><span style=\"background-color:#e7c8fa\">to </span><span style=\"background-color:#fae3c8\">ti</span><span style=\"background-color:#f2c8fa\">re</span><span style=\"background-color:#b3fff0\"> </span><span style=\"background-color:#c9ff82\">in</span><span style=\"background-color:#82e4ff\"> </span><span style=\"background-color:#e7c8fa\">re</span><span style=\"background-color:#fae3c8\">pe</span><span style=\"background-color:#f2c8fa\">ti</span><span style=\"background-color:#b3fff0\">ti</span><span style=\"background-color:#c9ff82\">on</span><span style=\"background-color:#82e4ff\">.</span><span style=\"background-color:#e7c8fa\">\n",
       "W</span><span style=\"background-color:#fae3c8\">hat </span><span style=\"background-color:#f2c8fa\">s</span><span style=\"background-color:#b3fff0\">h</span><span style=\"background-color:#c9ff82\">ou</span><span style=\"background-color:#82e4ff\">t</span><span style=\"background-color:#e7c8fa\">s </span><span style=\"background-color:#fae3c8\">are </span><span style=\"background-color:#f2c8fa\">th</span><span style=\"background-color:#b3fff0\">es</span><span style=\"background-color:#c9ff82\">e</span><span style=\"background-color:#82e4ff\">?</span><span style=\"background-color:#e7c8fa\"> </span><span style=\"background-color:#fae3c8\">The </span><span style=\"background-color:#f2c8fa\">o</span><span style=\"background-color:#b3fff0\">ther</span><span style=\"background-color:#c9ff82\"> s</span><span style=\"background-color:#82e4ff\">id</span><span style=\"background-color:#e7c8fa\">e </span><span style=\"background-color:#fae3c8\">o' the </span><span style=\"background-color:#f2c8fa\">c</span><span style=\"background-color:#b3fff0\">it</span><span style=\"background-color:#c9ff82\">y</span><span style=\"background-color:#82e4ff\">\n",
       "</span><span style=\"background-color:#e7c8fa\">is </span><span style=\"background-color:#fae3c8\">ri</span><span style=\"background-color:#f2c8fa\">s</span><span style=\"background-color:#b3fff0\">en</span><span style=\"background-color:#c9ff82\">: </span><span style=\"background-color:#82e4ff\">wh</span><span style=\"background-color:#e7c8fa\">y </span><span style=\"background-color:#fae3c8\">st</span><span style=\"background-color:#f2c8fa\">a</span><span style=\"background-color:#b3fff0\">y </span><span style=\"background-color:#c9ff82\">w</span><span style=\"background-color:#82e4ff\">e </span><span style=\"background-color:#e7c8fa\">p</span><span style=\"background-color:#fae3c8\">ra</span><span style=\"background-color:#f2c8fa\">ti</span><span style=\"background-color:#b3fff0\">n</span><span style=\"background-color:#c9ff82\">g</span><span style=\"background-color:#82e4ff\"> h</span><span style=\"background-color:#e7c8fa\">er</span><span style=\"background-color:#fae3c8\">e</span><span style=\"background-color:#f2c8fa\">?</span><span style=\"background-color:#b3fff0\"> </span><span style=\"background-color:#c9ff82\">to the </span><span style=\"background-color:#82e4ff\">C</span><span style=\"background-color:#e7c8fa\">a</span><span style=\"background-color:#fae3c8\">p</span><span style=\"background-color:#f2c8fa\">it</span><span style=\"background-color:#b3fff0\">ol</span><span style=\"background-color:#c9ff82\">!</span><span style=\"background-color:#82e4ff\">\n",
       "\n",
       "</span><span style=\"background-color:#e7c8fa\">A</span><span style=\"background-color:#fae3c8\">ll</span><span style=\"background-color:#f2c8fa\">:\n",
       "</span><span style=\"background-color:#b3fff0\">C</span><span style=\"background-color:#c9ff82\">om</span><span style=\"background-color:#82e4ff\">e, </span><span style=\"background-color:#e7c8fa\">c</span><span style=\"background-color:#fae3c8\">om</span><span style=\"background-color:#f2c8fa\">e</span><span style=\"background-color:#b3fff0\">.\n",
       "\n",
       "</span><span style=\"background-color:#c9ff82\">F</span><span style=\"background-color:#82e4ff\">irst </span><span style=\"background-color:#e7c8fa\">C</span>"
      ],
      "text/plain": [
       "<IPython.core.display.HTML object>"
      ]
     },
     "execution_count": 328,
     "metadata": {},
     "output_type": "execute_result"
    }
   ],
   "source": [
    "visualize(small_text[1000:2000], bpe)"
   ]
  },
  {
   "cell_type": "code",
   "execution_count": 329,
   "id": "7eca9d0f-2579-416a-b42f-2ca74a19a429",
   "metadata": {},
   "outputs": [
    {
     "data": {
      "text/html": [
       "<span style=\"background-color:#c9ff82\">First Citizen:\n",
       "</span><span style=\"background-color:#82e4ff\">B</span><span style=\"background-color:#e7c8fa\">e</span><span style=\"background-color:#fae3c8\">for</span><span style=\"background-color:#f2c8fa\">e w</span><span style=\"background-color:#b3fff0\">e </span><span style=\"background-color:#c9ff82\">p</span><span style=\"background-color:#82e4ff\">ro</span><span style=\"background-color:#e7c8fa\">ce</span><span style=\"background-color:#fae3c8\">ed </span><span style=\"background-color:#f2c8fa\">an</span><span style=\"background-color:#b3fff0\">y </span><span style=\"background-color:#c9ff82\">f</span><span style=\"background-color:#82e4ff\">ur</span><span style=\"background-color:#e7c8fa\">ther</span><span style=\"background-color:#fae3c8\">, </span><span style=\"background-color:#f2c8fa\">h</span><span style=\"background-color:#b3fff0\">ear</span><span style=\"background-color:#c9ff82\"> m</span><span style=\"background-color:#82e4ff\">e s</span><span style=\"background-color:#e7c8fa\">peak</span><span style=\"background-color:#fae3c8\">.\n",
       "\n",
       "</span><span style=\"background-color:#f2c8fa\">A</span><span style=\"background-color:#b3fff0\">ll</span><span style=\"background-color:#c9ff82\">:\n",
       "</span><span style=\"background-color:#82e4ff\">S</span><span style=\"background-color:#e7c8fa\">peak</span><span style=\"background-color:#fae3c8\">, </span><span style=\"background-color:#f2c8fa\">s</span><span style=\"background-color:#b3fff0\">peak</span><span style=\"background-color:#c9ff82\">.\n",
       "\n",
       "First Citizen:\n",
       "</span><span style=\"background-color:#82e4ff\">Y</span><span style=\"background-color:#e7c8fa\">ou</span><span style=\"background-color:#fae3c8\"> a</span><span style=\"background-color:#f2c8fa\">re</span><span style=\"background-color:#b3fff0\"> a</span><span style=\"background-color:#c9ff82\">ll </span><span style=\"background-color:#82e4ff\">re</span><span style=\"background-color:#e7c8fa\">s</span><span style=\"background-color:#fae3c8\">ol</span><span style=\"background-color:#f2c8fa\">ve</span><span style=\"background-color:#b3fff0\">d </span><span style=\"background-color:#c9ff82\">ra</span><span style=\"background-color:#82e4ff\">ther</span><span style=\"background-color:#e7c8fa\"> </span><span style=\"background-color:#fae3c8\">to </span><span style=\"background-color:#f2c8fa\">di</span><span style=\"background-color:#b3fff0\">e th</span><span style=\"background-color:#c9ff82\">an</span><span style=\"background-color:#82e4ff\"> </span><span style=\"background-color:#e7c8fa\">to </span><span style=\"background-color:#fae3c8\">f</span><span style=\"background-color:#f2c8fa\">a</span><span style=\"background-color:#b3fff0\">m</span><span style=\"background-color:#c9ff82\">is</span><span style=\"background-color:#82e4ff\">h</span><span style=\"background-color:#e7c8fa\">?\n",
       "\n",
       "</span><span style=\"background-color:#fae3c8\">A</span><span style=\"background-color:#f2c8fa\">ll</span><span style=\"background-color:#b3fff0\">:\n",
       "</span><span style=\"background-color:#c9ff82\">R</span><span style=\"background-color:#82e4ff\">es</span><span style=\"background-color:#e7c8fa\">ol</span><span style=\"background-color:#fae3c8\">ve</span><span style=\"background-color:#f2c8fa\">d</span><span style=\"background-color:#b3fff0\">. </span><span style=\"background-color:#c9ff82\">re</span><span style=\"background-color:#82e4ff\">s</span><span style=\"background-color:#e7c8fa\">ol</span><span style=\"background-color:#fae3c8\">ve</span><span style=\"background-color:#f2c8fa\">d</span><span style=\"background-color:#b3fff0\">.\n",
       "\n",
       "First Citizen:\n",
       "</span><span style=\"background-color:#c9ff82\">F</span><span style=\"background-color:#82e4ff\">ir</span><span style=\"background-color:#e7c8fa\">st</span><span style=\"background-color:#fae3c8\">, </span><span style=\"background-color:#f2c8fa\">you </span><span style=\"background-color:#b3fff0\">know</span><span style=\"background-color:#c9ff82\"> </span><span style=\"background-color:#82e4ff\">C</span><span style=\"background-color:#e7c8fa\">a</span><span style=\"background-color:#fae3c8\">i</span><span style=\"background-color:#f2c8fa\">us </span><span style=\"background-color:#b3fff0\">M</span><span style=\"background-color:#c9ff82\">ar</span><span style=\"background-color:#82e4ff\">c</span><span style=\"background-color:#e7c8fa\">i</span><span style=\"background-color:#fae3c8\">us </span><span style=\"background-color:#f2c8fa\">is </span><span style=\"background-color:#b3fff0\">ch</span><span style=\"background-color:#c9ff82\">i</span><span style=\"background-color:#82e4ff\">e</span><span style=\"background-color:#e7c8fa\">f</span><span style=\"background-color:#fae3c8\"> </span><span style=\"background-color:#f2c8fa\">en</span><span style=\"background-color:#b3fff0\">em</span><span style=\"background-color:#c9ff82\">y </span><span style=\"background-color:#82e4ff\">to the </span><span style=\"background-color:#e7c8fa\">pe</span><span style=\"background-color:#fae3c8\">o</span><span style=\"background-color:#f2c8fa\">pl</span><span style=\"background-color:#b3fff0\">e</span><span style=\"background-color:#c9ff82\">.\n",
       "\n",
       "</span><span style=\"background-color:#82e4ff\">A</span><span style=\"background-color:#e7c8fa\">ll</span><span style=\"background-color:#fae3c8\">:\n",
       "</span><span style=\"background-color:#f2c8fa\">W</span><span style=\"background-color:#b3fff0\">e </span><span style=\"background-color:#c9ff82\">know</span><span style=\"background-color:#82e4ff\">'</span><span style=\"background-color:#e7c8fa\">t, </span><span style=\"background-color:#fae3c8\">w</span><span style=\"background-color:#f2c8fa\">e </span><span style=\"background-color:#b3fff0\">know</span><span style=\"background-color:#c9ff82\">'</span><span style=\"background-color:#82e4ff\">t</span><span style=\"background-color:#e7c8fa\">.\n",
       "\n",
       "First Citizen:\n",
       "</span><span style=\"background-color:#fae3c8\">L</span><span style=\"background-color:#f2c8fa\">et </span><span style=\"background-color:#b3fff0\">us </span><span style=\"background-color:#c9ff82\">k</span><span style=\"background-color:#82e4ff\">il</span><span style=\"background-color:#e7c8fa\">l</span><span style=\"background-color:#fae3c8\"> h</span><span style=\"background-color:#f2c8fa\">im</span><span style=\"background-color:#b3fff0\">, </span><span style=\"background-color:#c9ff82\">and </span><span style=\"background-color:#82e4ff\">w</span><span style=\"background-color:#e7c8fa\">e</span><span style=\"background-color:#fae3c8\">'</span><span style=\"background-color:#f2c8fa\">ll </span><span style=\"background-color:#b3fff0\">have </span><span style=\"background-color:#c9ff82\">c</span><span style=\"background-color:#82e4ff\">or</span><span style=\"background-color:#e7c8fa\">n</span><span style=\"background-color:#fae3c8\"> a</span><span style=\"background-color:#f2c8fa\">t </span><span style=\"background-color:#b3fff0\">our</span><span style=\"background-color:#c9ff82\"> </span><span style=\"background-color:#82e4ff\">ow</span><span style=\"background-color:#e7c8fa\">n</span><span style=\"background-color:#fae3c8\"> p</span><span style=\"background-color:#f2c8fa\">ri</span><span style=\"background-color:#b3fff0\">ce</span><span style=\"background-color:#c9ff82\">.</span><span style=\"background-color:#82e4ff\">\n",
       "</span><span style=\"background-color:#e7c8fa\">I</span><span style=\"background-color:#fae3c8\">s</span><span style=\"background-color:#f2c8fa\">'</span><span style=\"background-color:#b3fff0\">t </span><span style=\"background-color:#c9ff82\">a </span><span style=\"background-color:#82e4ff\">ver</span><span style=\"background-color:#e7c8fa\">di</span><span style=\"background-color:#fae3c8\">c</span><span style=\"background-color:#f2c8fa\">t</span><span style=\"background-color:#b3fff0\">?\n",
       "\n",
       "</span><span style=\"background-color:#c9ff82\">A</span><span style=\"background-color:#82e4ff\">ll</span><span style=\"background-color:#e7c8fa\">:\n",
       "</span><span style=\"background-color:#fae3c8\">N</span><span style=\"background-color:#f2c8fa\">o </span><span style=\"background-color:#b3fff0\">mo</span><span style=\"background-color:#c9ff82\">re</span><span style=\"background-color:#82e4ff\"> </span><span style=\"background-color:#e7c8fa\">t</span><span style=\"background-color:#fae3c8\">al</span><span style=\"background-color:#f2c8fa\">k</span><span style=\"background-color:#b3fff0\">ing</span><span style=\"background-color:#c9ff82\"> </span><span style=\"background-color:#82e4ff\">on</span><span style=\"background-color:#e7c8fa\">'</span><span style=\"background-color:#fae3c8\">t</span><span style=\"background-color:#f2c8fa\">; </span><span style=\"background-color:#b3fff0\">l</span><span style=\"background-color:#c9ff82\">et </span><span style=\"background-color:#82e4ff\">it </span><span style=\"background-color:#e7c8fa\">b</span><span style=\"background-color:#fae3c8\">e </span><span style=\"background-color:#f2c8fa\">d</span><span style=\"background-color:#b3fff0\">on</span><span style=\"background-color:#c9ff82\">e</span><span style=\"background-color:#82e4ff\">: </span><span style=\"background-color:#e7c8fa\">a</span><span style=\"background-color:#fae3c8\">wa</span><span style=\"background-color:#f2c8fa\">y, </span><span style=\"background-color:#b3fff0\">a</span><span style=\"background-color:#c9ff82\">wa</span><span style=\"background-color:#82e4ff\">y</span><span style=\"background-color:#e7c8fa\">!</span><span style=\"background-color:#fae3c8\">\n",
       "\n",
       "</span><span style=\"background-color:#f2c8fa\">S</span><span style=\"background-color:#b3fff0\">ec</span><span style=\"background-color:#c9ff82\">on</span><span style=\"background-color:#82e4ff\">d </span><span style=\"background-color:#e7c8fa\">Citizen:\n",
       "</span><span style=\"background-color:#fae3c8\">O</span><span style=\"background-color:#f2c8fa\">n</span><span style=\"background-color:#b3fff0\">e w</span><span style=\"background-color:#c9ff82\">or</span><span style=\"background-color:#82e4ff\">d</span><span style=\"background-color:#e7c8fa\">, </span><span style=\"background-color:#fae3c8\">good </span><span style=\"background-color:#f2c8fa\">c</span><span style=\"background-color:#b3fff0\">itizen</span><span style=\"background-color:#c9ff82\">s</span><span style=\"background-color:#82e4ff\">.\n",
       "\n",
       "First Citizen:\n",
       "</span><span style=\"background-color:#e7c8fa\">W</span><span style=\"background-color:#fae3c8\">e </span><span style=\"background-color:#f2c8fa\">are </span><span style=\"background-color:#b3fff0\">ac</span><span style=\"background-color:#c9ff82\">c</span><span style=\"background-color:#82e4ff\">oun</span><span style=\"background-color:#e7c8fa\">t</span><span style=\"background-color:#fae3c8\">ed </span><span style=\"background-color:#f2c8fa\">po</span><span style=\"background-color:#b3fff0\">or</span><span style=\"background-color:#c9ff82\"> c</span><span style=\"background-color:#82e4ff\">itizen</span><span style=\"background-color:#e7c8fa\">s, </span><span style=\"background-color:#fae3c8\">the </span><span style=\"background-color:#f2c8fa\">p</span><span style=\"background-color:#b3fff0\">at</span><span style=\"background-color:#c9ff82\">ri</span><span style=\"background-color:#82e4ff\">c</span><span style=\"background-color:#e7c8fa\">i</span><span style=\"background-color:#fae3c8\">ans</span><span style=\"background-color:#f2c8fa\"> </span><span style=\"background-color:#b3fff0\">goo</span><span style=\"background-color:#c9ff82\">d</span><span style=\"background-color:#82e4ff\">.</span><span style=\"background-color:#e7c8fa\">\n",
       "W</span><span style=\"background-color:#fae3c8\">hat </span><span style=\"background-color:#f2c8fa\">a</span><span style=\"background-color:#b3fff0\">u</span><span style=\"background-color:#c9ff82\">th</span><span style=\"background-color:#82e4ff\">or</span><span style=\"background-color:#e7c8fa\">it</span><span style=\"background-color:#fae3c8\">y </span><span style=\"background-color:#f2c8fa\">s</span><span style=\"background-color:#b3fff0\">ur</span><span style=\"background-color:#c9ff82\">f</span><span style=\"background-color:#82e4ff\">e</span><span style=\"background-color:#e7c8fa\">it</span><span style=\"background-color:#fae3c8\">s </span><span style=\"background-color:#f2c8fa\">on</span><span style=\"background-color:#b3fff0\"> w</span><span style=\"background-color:#c9ff82\">ould </span><span style=\"background-color:#82e4ff\">re</span><span style=\"background-color:#e7c8fa\">li</span><span style=\"background-color:#fae3c8\">e</span><span style=\"background-color:#f2c8fa\">ve </span><span style=\"background-color:#b3fff0\">us</span><span style=\"background-color:#c9ff82\">: </span><span style=\"background-color:#82e4ff\">i</span><span style=\"background-color:#e7c8fa\">f</span><span style=\"background-color:#fae3c8\"> the</span><span style=\"background-color:#f2c8fa\">y</span><span style=\"background-color:#b3fff0\">\n",
       "</span><span style=\"background-color:#c9ff82\">w</span><span style=\"background-color:#82e4ff\">ould </span><span style=\"background-color:#e7c8fa\">y</span><span style=\"background-color:#fae3c8\">i</span><span style=\"background-color:#f2c8fa\">el</span><span style=\"background-color:#b3fff0\">d </span><span style=\"background-color:#c9ff82\">us </span><span style=\"background-color:#82e4ff\">b</span><span style=\"background-color:#e7c8fa\">ut </span><span style=\"background-color:#fae3c8\">the </span><span style=\"background-color:#f2c8fa\">s</span><span style=\"background-color:#b3fff0\">up</span><span style=\"background-color:#c9ff82\">er</span><span style=\"background-color:#82e4ff\">f</span><span style=\"background-color:#e7c8fa\">l</span><span style=\"background-color:#fae3c8\">u</span><span style=\"background-color:#f2c8fa\">it</span><span style=\"background-color:#b3fff0\">y, </span><span style=\"background-color:#c9ff82\">wh</span><span style=\"background-color:#82e4ff\">il</span><span style=\"background-color:#e7c8fa\">e </span><span style=\"background-color:#fae3c8\">it </span><span style=\"background-color:#f2c8fa\">wer</span><span style=\"background-color:#b3fff0\">e\n",
       "</span><span style=\"background-color:#c9ff82\">wh</span><span style=\"background-color:#82e4ff\">ol</span><span style=\"background-color:#e7c8fa\">es</span><span style=\"background-color:#fae3c8\">om</span><span style=\"background-color:#f2c8fa\">e, </span><span style=\"background-color:#b3fff0\">w</span><span style=\"background-color:#c9ff82\">e m</span><span style=\"background-color:#82e4ff\">i</span><span style=\"background-color:#e7c8fa\">gh</span><span style=\"background-color:#fae3c8\">t </span><span style=\"background-color:#f2c8fa\">g</span><span style=\"background-color:#b3fff0\">u</span><span style=\"background-color:#c9ff82\">es</span><span style=\"background-color:#82e4ff\">s </span><span style=\"background-color:#e7c8fa\">th</span><span style=\"background-color:#fae3c8\">ey </span><span style=\"background-color:#f2c8fa\">re</span><span style=\"background-color:#b3fff0\">li</span><span style=\"background-color:#c9ff82\">e</span><span style=\"background-color:#82e4ff\">ve</span><span style=\"background-color:#e7c8fa\">d </span><span style=\"background-color:#fae3c8\">us </span><span style=\"background-color:#f2c8fa\">h</span><span style=\"background-color:#b3fff0\">u</span><span style=\"background-color:#c9ff82\">ma</span><span style=\"background-color:#82e4ff\">n</span><span style=\"background-color:#e7c8fa\">el</span><span style=\"background-color:#fae3c8\">y</span><span style=\"background-color:#f2c8fa\">;</span><span style=\"background-color:#b3fff0\">\n",
       "</span><span style=\"background-color:#c9ff82\">b</span><span style=\"background-color:#82e4ff\">ut </span><span style=\"background-color:#e7c8fa\">th</span><span style=\"background-color:#fae3c8\">ey </span><span style=\"background-color:#f2c8fa\">th</span><span style=\"background-color:#b3fff0\">in</span><span style=\"background-color:#c9ff82\">k</span><span style=\"background-color:#82e4ff\"> w</span><span style=\"background-color:#e7c8fa\">e </span><span style=\"background-color:#fae3c8\">are </span><span style=\"background-color:#f2c8fa\">to</span><span style=\"background-color:#b3fff0\">o </span><span style=\"background-color:#c9ff82\">d</span><span style=\"background-color:#82e4ff\">ear</span><span style=\"background-color:#e7c8fa\">: </span><span style=\"background-color:#fae3c8\">the </span><span style=\"background-color:#f2c8fa\">l</span><span style=\"background-color:#b3fff0\">ea</span><span style=\"background-color:#c9ff82\">n</span><span style=\"background-color:#82e4ff\">n</span><span style=\"background-color:#e7c8fa\">es</span><span style=\"background-color:#fae3c8\">s </span><span style=\"background-color:#f2c8fa\">th</span><span style=\"background-color:#b3fff0\">at</span><span style=\"background-color:#c9ff82\">\n",
       "</span><span style=\"background-color:#82e4ff\">a</span><span style=\"background-color:#e7c8fa\">ff</span><span style=\"background-color:#fae3c8\">li</span><span style=\"background-color:#f2c8fa\">c</span><span style=\"background-color:#b3fff0\">t</span><span style=\"background-color:#c9ff82\">s </span><span style=\"background-color:#82e4ff\">us</span><span style=\"background-color:#e7c8fa\">, the </span><span style=\"background-color:#fae3c8\">o</span><span style=\"background-color:#f2c8fa\">b</span><span style=\"background-color:#b3fff0\">j</span><span style=\"background-color:#c9ff82\">ec</span><span style=\"background-color:#82e4ff\">t </span><span style=\"background-color:#e7c8fa\">of</span><span style=\"background-color:#fae3c8\"> </span><span style=\"background-color:#f2c8fa\">our</span><span style=\"background-color:#b3fff0\"> m</span><span style=\"background-color:#c9ff82\">is</span><span style=\"background-color:#82e4ff\">er</span><span style=\"background-color:#e7c8fa\">y, </span><span style=\"background-color:#fae3c8\">is </span><span style=\"background-color:#f2c8fa\">a</span><span style=\"background-color:#b3fff0\">s </span><span style=\"background-color:#c9ff82\">an</span><span style=\"background-color:#82e4ff\">\n",
       "</span><span style=\"background-color:#e7c8fa\">in</span><span style=\"background-color:#fae3c8\">ven</span><span style=\"background-color:#f2c8fa\">to</span><span style=\"background-color:#b3fff0\">r</span><span style=\"background-color:#c9ff82\">y </span><span style=\"background-color:#82e4ff\">to </span><span style=\"background-color:#e7c8fa\">p</span><span style=\"background-color:#fae3c8\">ar</span><span style=\"background-color:#f2c8fa\">ti</span><span style=\"background-color:#b3fff0\">c</span><span style=\"background-color:#c9ff82\">u</span><span style=\"background-color:#82e4ff\">l</span><span style=\"background-color:#e7c8fa\">ar</span><span style=\"background-color:#fae3c8\">is</span><span style=\"background-color:#f2c8fa\">e th</span><span style=\"background-color:#b3fff0\">e</span><span style=\"background-color:#c9ff82\">ir</span><span style=\"background-color:#82e4ff\"> a</span><span style=\"background-color:#e7c8fa\">b</span><span style=\"background-color:#fae3c8\">un</span><span style=\"background-color:#f2c8fa\">d</span><span style=\"background-color:#b3fff0\">an</span><span style=\"background-color:#c9ff82\">ce</span><span style=\"background-color:#82e4ff\">; </span><span style=\"background-color:#e7c8fa\">our</span><span style=\"background-color:#fae3c8\">\n",
       "</span><span style=\"background-color:#f2c8fa\">s</span><span style=\"background-color:#b3fff0\">u</span><span style=\"background-color:#c9ff82\">ff</span><span style=\"background-color:#82e4ff\">er</span><span style=\"background-color:#e7c8fa\">an</span><span style=\"background-color:#fae3c8\">ce</span><span style=\"background-color:#f2c8fa\"> </span><span style=\"background-color:#b3fff0\">is </span><span style=\"background-color:#c9ff82\">a </span><span style=\"background-color:#82e4ff\">gain</span><span style=\"background-color:#e7c8fa\"> </span><span style=\"background-color:#fae3c8\">to </span><span style=\"background-color:#f2c8fa\">th</span><span style=\"background-color:#b3fff0\">em</span><span style=\"background-color:#c9ff82\"> </span><span style=\"background-color:#82e4ff\">L</span><span style=\"background-color:#e7c8fa\">et </span><span style=\"background-color:#fae3c8\">us </span><span style=\"background-color:#f2c8fa\">re</span><span style=\"background-color:#b3fff0\">ven</span><span style=\"background-color:#c9ff82\">g</span><span style=\"background-color:#82e4ff\">e th</span><span style=\"background-color:#e7c8fa\">is </span><span style=\"background-color:#fae3c8\">w</span><span style=\"background-color:#f2c8fa\">ith</span><span style=\"background-color:#b3fff0\">\n",
       "</span><span style=\"background-color:#c9ff82\">our</span><span style=\"background-color:#82e4ff\"> p</span><span style=\"background-color:#e7c8fa\">i</span><span style=\"background-color:#fae3c8\">k</span><span style=\"background-color:#f2c8fa\">es</span><span style=\"background-color:#b3fff0\">, </span><span style=\"background-color:#c9ff82\">er</span><span style=\"background-color:#82e4ff\">e w</span><span style=\"background-color:#e7c8fa\">e </span><span style=\"background-color:#fae3c8\">b</span><span style=\"background-color:#f2c8fa\">ec</span><span style=\"background-color:#b3fff0\">om</span><span style=\"background-color:#c9ff82\">e </span><span style=\"background-color:#82e4ff\">ra</span><span style=\"background-color:#e7c8fa\">k</span><span style=\"background-color:#fae3c8\">es</span><span style=\"background-color:#f2c8fa\">: </span><span style=\"background-color:#b3fff0\">for</span><span style=\"background-color:#c9ff82\"> the </span><span style=\"background-color:#82e4ff\">g</span><span style=\"background-color:#e7c8fa\">od</span><span style=\"background-color:#fae3c8\">s </span><span style=\"background-color:#f2c8fa\">know</span><span style=\"background-color:#b3fff0\"> </span><span style=\"background-color:#c9ff82\">I</span><span style=\"background-color:#82e4ff\">\n",
       "</span><span style=\"background-color:#e7c8fa\">s</span><span style=\"background-color:#fae3c8\">peak</span><span style=\"background-color:#f2c8fa\"> th</span><span style=\"background-color:#b3fff0\">is </span><span style=\"background-color:#c9ff82\">in</span><span style=\"background-color:#82e4ff\"> h</span><span style=\"background-color:#e7c8fa\">un</span><span style=\"background-color:#fae3c8\">g</span><span style=\"background-color:#f2c8fa\">er</span><span style=\"background-color:#b3fff0\"> f</span><span style=\"background-color:#c9ff82\">or</span><span style=\"background-color:#82e4ff\"> b</span><span style=\"background-color:#e7c8fa\">rea</span><span style=\"background-color:#fae3c8\">d</span><span style=\"background-color:#f2c8fa\">, </span><span style=\"background-color:#b3fff0\">not </span><span style=\"background-color:#c9ff82\">in</span><span style=\"background-color:#82e4ff\"> th</span><span style=\"background-color:#e7c8fa\">irst </span><span style=\"background-color:#fae3c8\">for</span><span style=\"background-color:#f2c8fa\"> </span><span style=\"background-color:#b3fff0\">re</span><span style=\"background-color:#c9ff82\">ven</span><span style=\"background-color:#82e4ff\">g</span><span style=\"background-color:#e7c8fa\">e</span><span style=\"background-color:#fae3c8\">.\n",
       "\n",
       "</span>"
      ],
      "text/plain": [
       "<IPython.core.display.HTML object>"
      ]
     },
     "execution_count": 329,
     "metadata": {},
     "output_type": "execute_result"
    }
   ],
   "source": [
    "visualize(small_text[:1000], bpe)"
   ]
  }
 ],
 "metadata": {
  "kernelspec": {
   "display_name": "Python 3 (ipykernel)",
   "language": "python",
   "name": "python3"
  },
  "language_info": {
   "codemirror_mode": {
    "name": "ipython",
    "version": 3
   },
   "file_extension": ".py",
   "mimetype": "text/x-python",
   "name": "python",
   "nbconvert_exporter": "python",
   "pygments_lexer": "ipython3",
   "version": "3.12.6"
  }
 },
 "nbformat": 4,
 "nbformat_minor": 5
}
