{
 "cells": [
  {
   "cell_type": "code",
   "execution_count": 1,
   "metadata": {
    "collapsed": true
   },
   "outputs": [],
   "source": [
    "import pandas as pd\n",
    "import numpy as np\n",
    "import bs4\n",
    "import urllib\n",
    "import matplotlib.pyplot as plt\n",
    "%matplotlib inline"
   ]
  },
  {
   "cell_type": "code",
   "execution_count": 3,
   "metadata": {
    "collapsed": true
   },
   "outputs": [],
   "source": [
    "countries = ['BE', 'BG', 'CZ', 'DK', 'DE', 'EE', 'IE', 'GR', 'ES', 'FR', 'HR', 'IT', 'CY', 'LV',\n",
    "             'LT', 'LU', 'HU', 'MT', 'NL', 'AT', 'PL', 'PT', 'RO', 'SI', 'SK', 'FI', 'SE', 'GB']"
   ]
  },
  {
   "cell_type": "code",
   "execution_count": 4,
   "metadata": {
    "collapsed": true
   },
   "outputs": [],
   "source": [
    "def find_rank_in_page(url, site):\n",
    "    page = urllib.request.urlopen(url)\n",
    "    soup = bs4.BeautifulSoup(page, 'html.parser')\n",
    "    \n",
    "    lis = soup.findAll(\"li\", { \"class\" : \"site-listing\" })\n",
    "    rank = 0\n",
    "    \n",
    "    for li in lis:\n",
    "        if li.p.a.contents[0] == site:\n",
    "            rank = int(float(li.div.contents[0]))\n",
    "            break\n",
    "            \n",
    "    return rank"
   ]
  },
  {
   "cell_type": "code",
   "execution_count": 5,
   "metadata": {
    "collapsed": true
   },
   "outputs": [],
   "source": [
    "def find_rank_by_country(country, site):\n",
    "    url = 'http://www.alexa.com/topsites/countries' + '/' + country\n",
    "    rank = find_rank_in_page(url, site)\n",
    "    \n",
    "    iterator = 1\n",
    "    while rank == 0 and iterator < 21:\n",
    "        url = 'http://www.alexa.com/topsites/countries;' + str(iterator) + '/' + country\n",
    "        rank = find_rank_in_page(url, site)\n",
    "        iterator += 1\n",
    "    \n",
    "    return rank"
   ]
  },
  {
   "cell_type": "code",
   "execution_count": 6,
   "metadata": {
    "collapsed": false
   },
   "outputs": [
    {
     "name": "stdout",
     "output_type": "stream",
     "text": [
      "Done!\n"
     ]
    }
   ],
   "source": [
    "country_rank = {}\n",
    "for country in countries:\n",
    "    rank = find_rank_by_country(country, 'Reddit.com')\n",
    "    country_rank[country] = rank\n",
    "    \n",
    "print('Done!')"
   ]
  },
  {
   "cell_type": "code",
   "execution_count": 27,
   "metadata": {
    "collapsed": false
   },
   "outputs": [],
   "source": [
    "ranks = [country_rank[country] for country in countries]\n",
    "country_rank_df = pd.DataFrame({'Country code' : countries, 'Reddit rank' : ranks})\n",
    "country_rank_df = country_rank_df.sort_values(['Reddit rank'], ascending = True)\n",
    "country_rank_df.to_csv('reddit_rank.csv', index = False)"
   ]
  }
 ],
 "metadata": {
  "kernelspec": {
   "display_name": "Python 3",
   "language": "python",
   "name": "python3"
  },
  "language_info": {
   "codemirror_mode": {
    "name": "ipython",
    "version": 3
   },
   "file_extension": ".py",
   "mimetype": "text/x-python",
   "name": "python",
   "nbconvert_exporter": "python",
   "pygments_lexer": "ipython3",
   "version": "3.4.1"
  }
 },
 "nbformat": 4,
 "nbformat_minor": 1
}
