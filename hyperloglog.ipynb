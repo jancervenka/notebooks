{
 "cells": [
  {
   "cell_type": "code",
   "execution_count": 23,
   "id": "e665f305-3f75-41d0-af8f-2cc49875e4a8",
   "metadata": {},
   "outputs": [],
   "source": [
    "import numpy as np\n",
    "import mmh3\n",
    "from scipy import integrate"
   ]
  },
  {
   "cell_type": "markdown",
   "id": "5481cb42-5905-41bb-9ab8-23e5279ca995",
   "metadata": {},
   "source": [
    "https://en.wikipedia.org/wiki/HyperLogLog"
   ]
  },
  {
   "cell_type": "code",
   "execution_count": 336,
   "id": "709d54c8-2220-4aaf-b6d7-cc6a189b4ca7",
   "metadata": {},
   "outputs": [],
   "source": [
    "class HyperLogLog:\n",
    "    \n",
    "    def __init__(self, m: int):\n",
    "        self._M = [0] * m\n",
    "    \n",
    "    @staticmethod\n",
    "    def _get_alpha(m):\n",
    "    \n",
    "        def f(u):\n",
    "            return np.log2((2 + u) / (1 + u)) ** m\n",
    "\n",
    "        return (m * integrate.quad(f, a=0, b=np.inf)[0]) ** -1\n",
    "\n",
    "    @staticmethod\n",
    "    def _hash(value: str) -> str:\n",
    "        # mmh3 returns 32-bit hash, format it with leading zeros\n",
    "        return format(mmh3.hash(value, signed=False), \"032b\")\n",
    "    \n",
    "    def add(self, value: str):\n",
    "        m = len(self._M)\n",
    "        b = np.log2(m).astype(\"int\")\n",
    "        \n",
    "        # binary hash as a string\n",
    "        hashed = self._hash(value)\n",
    "        \n",
    "        # which register to update -> first b bits\n",
    "        j = int(hashed[:b], base=2)\n",
    "        \n",
    "        # find the position of the leftmost 1 in the rest of the bits\n",
    "        try:\n",
    "            ro = next(i for i, v in enumerate(hashed[b:]) if v == \"1\") + 1\n",
    "        except StopIteration:\n",
    "            ro = len(hashed[b:]) + 1\n",
    "        \n",
    "        # update the j-th register if ro is greater than the current state\n",
    "        self._M[j] = max(ro, self._M[j])\n",
    "        \n",
    "    def count(self) -> int:\n",
    "        m = len(self._M)\n",
    "        alpha = self._get_alpha(m)\n",
    "        Z = sum(2 ** -Mj for Mj in self._M) ** -1\n",
    "        return round(alpha * Z * m ** 2)"
   ]
  },
  {
   "cell_type": "code",
   "execution_count": 333,
   "id": "a176029c-4322-42bf-a8eb-7f10a1965e63",
   "metadata": {},
   "outputs": [],
   "source": [
    "data = [str(uuid.uuid4()) for _ in range(1000000)]"
   ]
  },
  {
   "cell_type": "code",
   "execution_count": 334,
   "id": "7b7e7059-0887-4e31-9402-1d543a6ef460",
   "metadata": {},
   "outputs": [],
   "source": [
    "hll = HyperLogLog(m=32)\n",
    "for value in data:\n",
    "     hll.add(value)"
   ]
  },
  {
   "cell_type": "code",
   "execution_count": 335,
   "id": "e66a455d-9b4c-42e4-9d27-acc0fe9a4a78",
   "metadata": {},
   "outputs": [
    {
     "data": {
      "text/plain": [
       "959653"
      ]
     },
     "execution_count": 335,
     "metadata": {},
     "output_type": "execute_result"
    }
   ],
   "source": [
    "hll.count()"
   ]
  }
 ],
 "metadata": {
  "kernelspec": {
   "display_name": "Python 3 (ipykernel)",
   "language": "python",
   "name": "python3"
  },
  "language_info": {
   "codemirror_mode": {
    "name": "ipython",
    "version": 3
   },
   "file_extension": ".py",
   "mimetype": "text/x-python",
   "name": "python",
   "nbconvert_exporter": "python",
   "pygments_lexer": "ipython3",
   "version": "3.10.0"
  }
 },
 "nbformat": 4,
 "nbformat_minor": 5
}
