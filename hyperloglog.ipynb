{
 "cells": [
  {
   "cell_type": "code",
   "execution_count": 1,
   "id": "88af1d3b-d953-4634-8696-699cd8b4613c",
   "metadata": {},
   "outputs": [],
   "source": [
    "import mmh3\n",
    "import uuid\n",
    "import numpy as np\n",
    "from scipy import integrate"
   ]
  },
  {
   "cell_type": "markdown",
   "id": "0cbeacb6-8108-4c12-b35d-250f415f041a",
   "metadata": {},
   "source": [
    "https://en.wikipedia.org/wiki/HyperLogLog"
   ]
  },
  {
   "cell_type": "code",
   "execution_count": 2,
   "id": "08bcc479-2557-4a1a-910c-b0994b7124f1",
   "metadata": {},
   "outputs": [],
   "source": [
    "class HyperLogLog:\n",
    "    \n",
    "    def __init__(self, m: int):\n",
    "        self._M = [0] * m\n",
    "    \n",
    "    @staticmethod\n",
    "    def _get_alpha(m: int):\n",
    "    \n",
    "        def f(u):\n",
    "            return np.log2((2 + u) / (1 + u)) ** m\n",
    "\n",
    "        return (m * integrate.quad(f, a=0, b=np.inf)[0]) ** -1\n",
    "\n",
    "    @staticmethod\n",
    "    def _hash(value: str) -> str:\n",
    "        # mmh3 returns 32-bit hash, format it with leading zeros\n",
    "        return format(mmh3.hash(value, signed=False), \"032b\")\n",
    "    \n",
    "    def add(self, value: str):\n",
    "        m = len(self._M)\n",
    "        b = np.log2(m).astype(\"int\")\n",
    "        \n",
    "        # binary hash as a string\n",
    "        hashed = self._hash(value)\n",
    "        \n",
    "        # which register to update -> first b bits\n",
    "        j = int(hashed[:b], base=2)\n",
    "        \n",
    "        # find the position of the leftmost 1 in the rest of the bits\n",
    "        try:\n",
    "            ro = next(i for i, v in enumerate(hashed[b:]) if v == \"1\") + 1\n",
    "        except StopIteration:\n",
    "            ro = len(hashed[b:]) + 1\n",
    "        \n",
    "        # update the j-th register if ro is greater than the current state\n",
    "        self._M[j] = max(ro, self._M[j])\n",
    "        \n",
    "    def count(self) -> int:\n",
    "        m = len(self._M)\n",
    "        alpha = self._get_alpha(m)\n",
    "        Z = sum(2 ** -Mj for Mj in self._M) ** -1\n",
    "        return round(alpha * Z * m ** 2)"
   ]
  },
  {
   "cell_type": "code",
   "execution_count": 8,
   "id": "b76392e4-72d8-4b04-af1e-7563562c1c49",
   "metadata": {},
   "outputs": [],
   "source": [
    "hll = HyperLogLog(m=32)\n",
    "for value in (str(uuid.uuid4()) for _ in range(1_000_000)):\n",
    "     hll.add(value)"
   ]
  },
  {
   "cell_type": "code",
   "execution_count": 9,
   "id": "fd8a924a-9843-4995-a460-213220f31783",
   "metadata": {},
   "outputs": [
    {
     "data": {
      "text/plain": [
       "1038093"
      ]
     },
     "execution_count": 9,
     "metadata": {},
     "output_type": "execute_result"
    }
   ],
   "source": [
    "hll.count()"
   ]
  }
 ],
 "metadata": {
  "kernelspec": {
   "display_name": "Python 3 (ipykernel)",
   "language": "python",
   "name": "python3"
  },
  "language_info": {
   "codemirror_mode": {
    "name": "ipython",
    "version": 3
   },
   "file_extension": ".py",
   "mimetype": "text/x-python",
   "name": "python",
   "nbconvert_exporter": "python",
   "pygments_lexer": "ipython3",
   "version": "3.10.0"
  }
 },
 "nbformat": 4,
 "nbformat_minor": 5
}
